{
 "cells": [
  {
   "cell_type": "code",
   "execution_count": 1,
   "metadata": {},
   "outputs": [],
   "source": [
    "%matplotlib inline\n",
    "import numpy as np\n",
    "import matplotlib.pyplot as plt\n",
    "import pandas as pd\n",
    "from sklearn.tree import DecisionTreeClassifier\n",
    "from sklearn.ensemble import RandomForestClassifier\n",
    "from sklearn.datasets import load_wine"
   ]
  },
  {
   "cell_type": "code",
   "execution_count": 2,
   "metadata": {},
   "outputs": [],
   "source": [
    "wine=load_wine()"
   ]
  },
  {
   "cell_type": "code",
   "execution_count": 3,
   "metadata": {},
   "outputs": [
    {
     "data": {
      "text/plain": [
       "(178, 13)"
      ]
     },
     "execution_count": 3,
     "metadata": {},
     "output_type": "execute_result"
    }
   ],
   "source": [
    "wine.data.shape"
   ]
  },
  {
   "cell_type": "code",
   "execution_count": 4,
   "metadata": {},
   "outputs": [
    {
     "data": {
      "text/plain": [
       "array([0, 0, 0, 0, 0, 0, 0, 0, 0, 0, 0, 0, 0, 0, 0, 0, 0, 0, 0, 0, 0, 0,\n",
       "       0, 0, 0, 0, 0, 0, 0, 0, 0, 0, 0, 0, 0, 0, 0, 0, 0, 0, 0, 0, 0, 0,\n",
       "       0, 0, 0, 0, 0, 0, 0, 0, 0, 0, 0, 0, 0, 0, 0, 1, 1, 1, 1, 1, 1, 1,\n",
       "       1, 1, 1, 1, 1, 1, 1, 1, 1, 1, 1, 1, 1, 1, 1, 1, 1, 1, 1, 1, 1, 1,\n",
       "       1, 1, 1, 1, 1, 1, 1, 1, 1, 1, 1, 1, 1, 1, 1, 1, 1, 1, 1, 1, 1, 1,\n",
       "       1, 1, 1, 1, 1, 1, 1, 1, 1, 1, 1, 1, 1, 1, 1, 1, 1, 1, 1, 1, 2, 2,\n",
       "       2, 2, 2, 2, 2, 2, 2, 2, 2, 2, 2, 2, 2, 2, 2, 2, 2, 2, 2, 2, 2, 2,\n",
       "       2, 2, 2, 2, 2, 2, 2, 2, 2, 2, 2, 2, 2, 2, 2, 2, 2, 2, 2, 2, 2, 2,\n",
       "       2, 2])"
      ]
     },
     "execution_count": 4,
     "metadata": {},
     "output_type": "execute_result"
    }
   ],
   "source": [
    "wine.target"
   ]
  },
  {
   "cell_type": "code",
   "execution_count": 5,
   "metadata": {},
   "outputs": [],
   "source": [
    "#实例化\n",
    "#训练集带入实例化后的模型去进行训练，使用的接口是fit\n",
    "#使用其他的接口将测试集导入我们的训练好的模型，去获取我们的结果（score，Y_test）\n"
   ]
  },
  {
   "cell_type": "code",
   "execution_count": 6,
   "metadata": {},
   "outputs": [],
   "source": [
    "from sklearn.model_selection import train_test_split\n",
    "from sklearn.model_selection import cross_val_score\n"
   ]
  },
  {
   "cell_type": "code",
   "execution_count": 7,
   "metadata": {},
   "outputs": [],
   "source": [
    "Xtrain,Xtest,Ytrain,Ytest=train_test_split(wine.data,wine.target,test_size=0.3)"
   ]
  },
  {
   "cell_type": "code",
   "execution_count": 8,
   "metadata": {},
   "outputs": [],
   "source": [
    "#实例化,random_state=0是为了是模型更加稳定\n",
    "clf=DecisionTreeClassifier(random_state=0)\n",
    "rfc=RandomForestClassifier(random_state=0)"
   ]
  },
  {
   "cell_type": "code",
   "execution_count": 9,
   "metadata": {},
   "outputs": [],
   "source": [
    "clf=clf.fit(Xtrain,Ytrain)\n",
    "rfc=rfc.fit(Xtrain,Ytrain)"
   ]
  },
  {
   "cell_type": "code",
   "execution_count": 10,
   "metadata": {},
   "outputs": [
    {
     "data": {
      "text/plain": [
       "DecisionTreeClassifier(ccp_alpha=0.0, class_weight=None, criterion='gini',\n",
       "                       max_depth=None, max_features=None, max_leaf_nodes=None,\n",
       "                       min_impurity_decrease=0.0, min_impurity_split=None,\n",
       "                       min_samples_leaf=1, min_samples_split=2,\n",
       "                       min_weight_fraction_leaf=0.0, presort='deprecated',\n",
       "                       random_state=0, splitter='best')"
      ]
     },
     "execution_count": 10,
     "metadata": {},
     "output_type": "execute_result"
    }
   ],
   "source": [
    "clf"
   ]
  },
  {
   "cell_type": "code",
   "execution_count": 11,
   "metadata": {},
   "outputs": [
    {
     "name": "stdout",
     "output_type": "stream",
     "text": [
      "single Tree:0.9444444444444444\n",
      "random forest:0.9444444444444444\n"
     ]
    }
   ],
   "source": [
    "score_c=clf.score(Xtest,Ytest)\n",
    "score_r=clf.score(Xtest,Ytest)\n",
    "print(\"single Tree:{}\".format(score_c))\n",
    "print(\"random forest:{}\".format(score_r))\n",
    "#他们两者的结果会随着他们数据集的划分而出现不同，也可能相同"
   ]
  },
  {
   "cell_type": "code",
   "execution_count": 15,
   "metadata": {},
   "outputs": [
    {
     "data": {
      "image/png": "[encoded data removed]",
      "text/plain": [
       "<Figure size 432x288 with 1 Axes>"
      ]
     },
     "metadata": {
      "needs_background": "light"
     },
     "output_type": "display_data"
    }
   ],
   "source": [
    "#交叉验证\n",
    "rfc=RandomForestClassifier(n_estimators=25)\n",
    "rfc_s=cross_val_score(rfc,wine.data,wine.target,cv=10)\n",
    "\n",
    "clf=DecisionTreeClassifier()\n",
    "clf_s=cross_val_score(clf,wine.data,wine.target,cv=10)\n",
    "plt.plot(range(1,11),rfc_s,label=\"Randforest\")\n",
    "plt.plot(range(1,11),clf_s,label=\"DecisionTree\")\n",
    "plt.legend()\n",
    "plt.show()"
   ]
  },
  {
   "cell_type": "code",
   "execution_count": 16,
   "metadata": {},
   "outputs": [
    {
     "name": "stdout",
     "output_type": "stream",
     "text": [
      "0\n",
      "10\n",
      "20\n",
      "30\n",
      "40\n",
      "50\n",
      "60\n",
      "70\n",
      "80\n",
      "90\n",
      "100\n",
      "110\n",
      "120\n",
      "130\n",
      "140\n",
      "150\n",
      "160\n",
      "170\n",
      "180\n",
      "190\n",
      "max:0.9944444444444445,26,\n"
     ]
    },
    {
     "data": {
      "image/png": "[encoded data removed]",
      "text/plain": [
       "<Figure size 1440x360 with 1 Axes>"
      ]
     },
     "metadata": {
      "needs_background": "light"
     },
     "output_type": "display_data"
    }
   ],
   "source": [
    "#n_estimators的学习曲线\n",
    "rfc_scores=[]\n",
    "for i in range(200):\n",
    "    rfc=RandomForestClassifier(n_estimators=i+1,n_jobs=-1)\n",
    "    rfc_s=cross_val_score(rfc,wine.data,wine.target,cv=10).mean()\n",
    "    rfc_scores.append(rfc_s)\n",
    "    if i%10==0:\n",
    "        print(i)\n",
    "print(\"max:{},{},\".format(max(rfc_scores),rfc_scores.index(max(rfc_scores))))\n",
    "plt.figure(figsize=[20,5])\n",
    "plt.plot(range(1,201),rfc_scores)\n",
    "plt.show()\n",
    "    "
   ]
  },
  {
   "cell_type": "code",
   "execution_count": 19,
   "metadata": {},
   "outputs": [
    {
     "data": {
      "image/png": "[encoded data removed]",
      "text/plain": [
       "<Figure size 432x288 with 1 Axes>"
      ]
     },
     "metadata": {
      "needs_background": "light"
     },
     "output_type": "display_data"
    }
   ],
   "source": [
    "rfc_l=[]\n",
    "clf_l=[]\n",
    "for i in range(10):\n",
    "    rfc=RandomForestClassifier(n_estimators=25)\n",
    "    rfc_s=cross_val_score(rfc,wine.data,wine.target,cv=10).mean()\n",
    "    rfc_l.append(rfc_s)\n",
    "    clf=DecisionTreeClassifier()\n",
    "    clf_s=cross_val_score(clf,wine.data,wine.target,cv=10).mean()\n",
    "    clf_l.append(clf_s)\n",
    "plt.plot(range(1,11),rfc_l,label=\"Random Forest\")\n",
    "plt.plot(range(1,11),clf_l,label=\"Decision Tree\")\n",
    "plt.legend()\n",
    "plt.show()"
   ]
  },
  {
   "cell_type": "code",
   "execution_count": 22,
   "metadata": {},
   "outputs": [
    {
     "data": {
      "text/plain": [
       "0.00036904803455582827"
      ]
     },
     "execution_count": 22,
     "metadata": {},
     "output_type": "execute_result"
    }
   ],
   "source": [
    "#随机森林的错误概率\n",
    "from scipy.special import comb\n",
    "np.array([comb(25,i)*(0.2**i)*((1-0.2)**(25-i)) for i in range(13,26)]).sum()"
   ]
  },
  {
   "cell_type": "code",
   "execution_count": 23,
   "metadata": {},
   "outputs": [],
   "source": [
    "rfc=RandomForestClassifier(n_estimators=25,random_state=25)\n",
    "rfc=rfc.fit(Xtrain,Ytrain)"
   ]
  },
  {
   "cell_type": "code",
   "execution_count": 24,
   "metadata": {},
   "outputs": [
    {
     "data": {
      "text/plain": [
       "1589671044"
      ]
     },
     "execution_count": 24,
     "metadata": {},
     "output_type": "execute_result"
    }
   ],
   "source": [
    "rfc.estimators_[0].random_state"
   ]
  },
  {
   "cell_type": "code",
   "execution_count": 25,
   "metadata": {},
   "outputs": [
    {
     "name": "stdout",
     "output_type": "stream",
     "text": [
      "1589671044\n",
      "842096958\n",
      "353376730\n",
      "1860790415\n",
      "1197604157\n",
      "424446838\n",
      "798482687\n",
      "776635543\n",
      "1765661612\n",
      "646899634\n",
      "504124157\n",
      "1113162888\n",
      "794434716\n",
      "519300996\n",
      "1879525209\n",
      "752438525\n",
      "241503135\n",
      "1166320116\n",
      "1576597957\n",
      "1122081409\n",
      "1728147623\n",
      "1917730563\n",
      "485506136\n",
      "80444343\n",
      "1919982851\n"
     ]
    }
   ],
   "source": [
    "#随机森林的重要属性之一：estimators,查看森林中树的状况\n",
    "for i in range(len(rfc.estimators_)):\n",
    "    print(rfc.estimators_[i].random_state)"
   ]
  },
  {
   "cell_type": "code",
   "execution_count": 26,
   "metadata": {},
   "outputs": [],
   "source": [
    "#oob袋外数据测试\n",
    "rfc=RandomForestClassifier(n_estimators=25,oob_score=True)\n",
    "rfc=rfc.fit(wine.data,wine.target)"
   ]
  },
  {
   "cell_type": "code",
   "execution_count": 27,
   "metadata": {},
   "outputs": [
    {
     "data": {
      "text/plain": [
       "0.9719101123595506"
      ]
     },
     "execution_count": 27,
     "metadata": {},
     "output_type": "execute_result"
    }
   ],
   "source": [
    "#oob_score_\n",
    "rfc.oob_score_"
   ]
  },
  {
   "cell_type": "code",
   "execution_count": 34,
   "metadata": {},
   "outputs": [],
   "source": [
    "rfc=RandomForestClassifier(n_estimators=25)\n",
    "rfc=rfc.fit(Xtrain,Ytrain)"
   ]
  },
  {
   "cell_type": "code",
   "execution_count": 35,
   "metadata": {},
   "outputs": [
    {
     "data": {
      "text/plain": [
       "0.9814814814814815"
      ]
     },
     "execution_count": 35,
     "metadata": {},
     "output_type": "execute_result"
    }
   ],
   "source": [
    "rfc.score(Xtest,Ytest)"
   ]
  },
  {
   "cell_type": "code",
   "execution_count": 40,
   "metadata": {},
   "outputs": [
    {
     "data": {
      "text/plain": [
       "array([0.11488705, 0.03696391, 0.01180925, 0.01341235, 0.02282017,\n",
       "       0.06427264, 0.15889568, 0.00936237, 0.01639525, 0.2445135 ,\n",
       "       0.05595389, 0.10051632, 0.15019762])"
      ]
     },
     "execution_count": 40,
     "metadata": {},
     "output_type": "execute_result"
    }
   ],
   "source": [
    "rfc.feature_importances_\n",
    "#特征权重"
   ]
  },
  {
   "cell_type": "code",
   "execution_count": 37,
   "metadata": {},
   "outputs": [
    {
     "data": {
      "text/plain": [
       "array([[18, 16, 13, ...,  9, 16, 12],\n",
       "       [ 9,  6,  2, ...,  1,  4,  8],\n",
       "       [11, 15,  5, ...,  4,  5,  5],\n",
       "       ...,\n",
       "       [ 4,  3, 11, ...,  4, 11,  8],\n",
       "       [ 4,  3,  5, ...,  4,  5,  8],\n",
       "       [ 2,  3,  2, ...,  1,  4,  8]], dtype=int64)"
      ]
     },
     "execution_count": 37,
     "metadata": {},
     "output_type": "execute_result"
    }
   ],
   "source": [
    "rfc.apply(Xtest)\n",
    "#获取当前样本在这棵树中所在的叶子节点所在的索引"
   ]
  },
  {
   "cell_type": "code",
   "execution_count": 38,
   "metadata": {},
   "outputs": [
    {
     "data": {
      "text/plain": [
       "array([0, 2, 1, 2, 2, 1, 1, 0, 0, 0, 1, 1, 1, 2, 0, 1, 1, 0, 2, 0, 0, 1,\n",
       "       1, 0, 1, 1, 2, 1, 1, 2, 1, 0, 1, 1, 0, 2, 2, 0, 0, 2, 2, 0, 0, 2,\n",
       "       0, 0, 0, 2, 0, 0, 1, 1, 1, 2])"
      ]
     },
     "execution_count": 38,
     "metadata": {},
     "output_type": "execute_result"
    }
   ],
   "source": [
    "rfc.predict(Xtest)"
   ]
  },
  {
   "cell_type": "code",
   "execution_count": 39,
   "metadata": {},
   "outputs": [
    {
     "data": {
      "text/plain": [
       "array([[1.  , 0.  , 0.  ],\n",
       "       [0.  , 0.12, 0.88],\n",
       "       [0.04, 0.96, 0.  ],\n",
       "       [0.  , 0.2 , 0.8 ],\n",
       "       [0.04, 0.  , 0.96],\n",
       "       [0.08, 0.88, 0.04],\n",
       "       [0.28, 0.56, 0.16],\n",
       "       [0.96, 0.04, 0.  ],\n",
       "       [0.68, 0.28, 0.04],\n",
       "       [0.96, 0.04, 0.  ],\n",
       "       [0.  , 1.  , 0.  ],\n",
       "       [0.  , 1.  , 0.  ],\n",
       "       [0.  , 1.  , 0.  ],\n",
       "       [0.04, 0.16, 0.8 ],\n",
       "       [0.92, 0.08, 0.  ],\n",
       "       [0.  , 1.  , 0.  ],\n",
       "       [0.  , 1.  , 0.  ],\n",
       "       [1.  , 0.  , 0.  ],\n",
       "       [0.12, 0.24, 0.64],\n",
       "       [0.88, 0.12, 0.  ],\n",
       "       [1.  , 0.  , 0.  ],\n",
       "       [0.  , 1.  , 0.  ],\n",
       "       [0.  , 1.  , 0.  ],\n",
       "       [0.44, 0.44, 0.12],\n",
       "       [0.04, 0.84, 0.12],\n",
       "       [0.  , 1.  , 0.  ],\n",
       "       [0.  , 0.12, 0.88],\n",
       "       [0.  , 1.  , 0.  ],\n",
       "       [0.12, 0.88, 0.  ],\n",
       "       [0.  , 0.2 , 0.8 ],\n",
       "       [0.04, 0.96, 0.  ],\n",
       "       [1.  , 0.  , 0.  ],\n",
       "       [0.  , 1.  , 0.  ],\n",
       "       [0.  , 0.76, 0.24],\n",
       "       [0.92, 0.08, 0.  ],\n",
       "       [0.04, 0.  , 0.96],\n",
       "       [0.  , 0.  , 1.  ],\n",
       "       [0.96, 0.04, 0.  ],\n",
       "       [0.92, 0.08, 0.  ],\n",
       "       [0.04, 0.  , 0.96],\n",
       "       [0.  , 0.28, 0.72],\n",
       "       [1.  , 0.  , 0.  ],\n",
       "       [1.  , 0.  , 0.  ],\n",
       "       [0.04, 0.16, 0.8 ],\n",
       "       [0.8 , 0.2 , 0.  ],\n",
       "       [1.  , 0.  , 0.  ],\n",
       "       [0.96, 0.04, 0.  ],\n",
       "       [0.08, 0.16, 0.76],\n",
       "       [0.96, 0.04, 0.  ],\n",
       "       [0.88, 0.04, 0.08],\n",
       "       [0.04, 0.96, 0.  ],\n",
       "       [0.28, 0.64, 0.08],\n",
       "       [0.08, 0.88, 0.04],\n",
       "       [0.  , 0.24, 0.76]])"
      ]
     },
     "execution_count": 39,
     "metadata": {},
     "output_type": "execute_result"
    }
   ],
   "source": [
    "rfc.predict_proba(Xtest)"
   ]
  },
  {
   "cell_type": "code",
   "execution_count": 42,
   "metadata": {},
   "outputs": [
    {
     "data": {
      "text/plain": [
       "0.9814814814814815"
      ]
     },
     "execution_count": 42,
     "metadata": {},
     "output_type": "execute_result"
    }
   ],
   "source": [
    "rfc.score(Xtest,Ytest)"
   ]
  },
  {
   "cell_type": "code",
   "execution_count": 43,
   "metadata": {},
   "outputs": [
    {
     "data": {
      "image/png": "[encoded data removed]",
      "text/plain": [
       "<Figure size 432x288 with 1 Axes>"
      ]
     },
     "metadata": {
      "needs_background": "light"
     },
     "output_type": "display_data"
    }
   ],
   "source": [
    "#随机森林单个树的错误概率必须小于0.5\n",
    "#如果分类器的错误概率小于0.5那么会比same的准确率高\n",
    "#可通过画图来查看证明\n",
    "x=np.linspace(0,1,20)\n",
    "y=[]\n",
    "\n",
    "for epsilon in np.linspace(0,1,20):\n",
    "    E = np.array([comb(25,i)*(epsilon**i)*((1-epsilon)**(25-i)) for i in range(13,26)]).sum()\n",
    "    y.append(E)\n",
    "\n",
    "plt.plot(x,y,\"o-\",label=\"when estimators are dfierent\")\n",
    "plt.plot(x,x,\"--\",color=\"red\",label=\"if all estimators are the same\")\n",
    "plt.xlabel(\"individual estimator's error\")\n",
    "plt.ylabel(\"RandomForest's error\")\n",
    "plt.legend()\n",
    "plt.show()\n"
   ]
  },
  {
   "cell_type": "code",
   "execution_count": null,
   "metadata": {},
   "outputs": [],
   "source": []
  }
 ],
 "metadata": {
  "kernelspec": {
   "display_name": "Python 3",
   "language": "python",
   "name": "python3"
  },
  "language_info": {
   "codemirror_mode": {
    "name": "ipython",
    "version": 3
   },
   "file_extension": ".py",
   "mimetype": "text/x-python",
   "name": "python",
   "nbconvert_exporter": "python",
   "pygments_lexer": "ipython3",
   "version": "3.7.4"
  }
 },
 "nbformat": 4,
 "nbformat_minor": 4
}
