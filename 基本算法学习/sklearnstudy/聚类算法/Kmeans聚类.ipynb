{
 "cells": [
  {
   "cell_type": "code",
   "execution_count": 3,
   "metadata": {},
   "outputs": [
    {
     "name": "stderr",
     "output_type": "stream",
     "text": [
      "D:\\Anaconda3\\lib\\importlib\\_bootstrap.py:219: RuntimeWarning: numpy.ufunc size changed, may indicate binary incompatibility. Expected 192 from C header, got 216 from PyObject\n",
      "  return f(*args, **kwds)\n"
     ]
    }
   ],
   "source": [
    "from sklearn.datasets import make_blobs\n",
    "import numpy as np\n",
    "import pandas as pd\n",
    "import matplotlib.pyplot as plt"
   ]
  },
  {
   "cell_type": "code",
   "execution_count": 5,
   "metadata": {},
   "outputs": [],
   "source": [
    "#自己创建数据集\n",
    "X,y=make_blobs(n_samples=500,n_features=2,centers=4,random_state=1)"
   ]
  },
  {
   "cell_type": "code",
   "execution_count": 6,
   "metadata": {},
   "outputs": [
    {
     "data": {
      "text/plain": [
       "(500, 2)"
      ]
     },
     "execution_count": 6,
     "metadata": {},
     "output_type": "execute_result"
    }
   ],
   "source": [
    "X.shape"
   ]
  },
  {
   "cell_type": "code",
   "execution_count": 18,
   "metadata": {},
   "outputs": [
    {
     "data": {
      "text/plain": [
       "numpy.ndarray"
      ]
     },
     "execution_count": 18,
     "metadata": {},
     "output_type": "execute_result"
    }
   ],
   "source": [
    "type(X)"
   ]
  },
  {
   "cell_type": "code",
   "execution_count": 7,
   "metadata": {},
   "outputs": [
    {
     "data": {
      "text/plain": [
       "(500,)"
      ]
     },
     "execution_count": 7,
     "metadata": {},
     "output_type": "execute_result"
    }
   ],
   "source": [
    "y.shape"
   ]
  },
  {
   "cell_type": "code",
   "execution_count": 11,
   "metadata": {},
   "outputs": [
    {
     "data": {
      "image/png": "[encoded data removed]",
      "text/plain": [
       "<Figure size 432x288 with 1 Axes>"
      ]
     },
     "metadata": {
      "needs_background": "light"
     },
     "output_type": "display_data"
    }
   ],
   "source": [
    "fig,ax1=plt.subplots(1)\n",
    "ax1.scatter(X[:,0],X[:,1],\n",
    "           marker='o',s=8)\n",
    "plt.show()"
   ]
  },
  {
   "cell_type": "code",
   "execution_count": 12,
   "metadata": {},
   "outputs": [],
   "source": [
    "from sklearn.cluster import KMeans"
   ]
  },
  {
   "cell_type": "code",
   "execution_count": 26,
   "metadata": {},
   "outputs": [],
   "source": [
    "n_clusters=4"
   ]
  },
  {
   "cell_type": "code",
   "execution_count": 27,
   "metadata": {},
   "outputs": [],
   "source": [
    "cluster = KMeans(n_clusters=n_clusters,random_state=0).fit(X)"
   ]
  },
  {
   "cell_type": "code",
   "execution_count": 28,
   "metadata": {},
   "outputs": [],
   "source": [
    "y_pred=cluster.labels_#所有的预测聚类结果"
   ]
  },
  {
   "cell_type": "code",
   "execution_count": 29,
   "metadata": {},
   "outputs": [
    {
     "data": {
      "text/plain": [
       "array([3, 3, 1, 0, 2, 0, 2, 2, 2, 2, 3, 3, 2, 0, 2, 3, 2, 3, 0, 2, 1, 1,\n",
       "       2, 0, 2, 2, 0, 0, 1, 2, 3, 0, 2, 3, 2, 3, 1, 1, 3, 1, 2, 1, 0, 2,\n",
       "       2, 3, 1, 2, 0, 0, 0, 1, 1, 2, 3, 1, 1, 1, 1, 2, 0, 0, 1, 2, 0, 2,\n",
       "       3, 2, 1, 1, 3, 1, 2, 3, 2, 2, 3, 2, 2, 1, 0, 0, 1, 0, 0, 1, 1, 0,\n",
       "       1, 1, 0, 3, 1, 2, 0, 3, 3, 2, 3, 0, 0, 3, 0, 1, 0, 2, 2, 0, 0, 1,\n",
       "       2, 3, 0, 1, 0, 1, 0, 2, 0, 2, 1, 3, 3, 1, 2, 1, 0, 3, 3, 2, 0, 1,\n",
       "       1, 1, 1, 3, 0, 2, 0, 0, 2, 3, 2, 0, 0, 0, 2, 2, 3, 3, 1, 1, 0, 3,\n",
       "       0, 1, 1, 1, 1, 1, 1, 1, 1, 1, 0, 3, 3, 3, 2, 0, 3, 1, 2, 3, 0, 1,\n",
       "       1, 1, 1, 3, 2, 1, 0, 3, 3, 1, 2, 3, 3, 2, 0, 0, 3, 3, 2, 0, 2, 3,\n",
       "       3, 0, 3, 1, 0, 2, 2, 3, 2, 1, 3, 2, 1, 2, 1, 3, 2, 2, 2, 0, 1, 0,\n",
       "       2, 3, 1, 2, 1, 1, 1, 0, 1, 0, 3, 1, 3, 1, 0, 0, 1, 3, 0, 3, 2, 1,\n",
       "       3, 3, 3, 3, 2, 1, 3, 1, 2, 0, 0, 2, 2, 0, 1, 2, 1, 0, 2, 0, 1, 1,\n",
       "       0, 2, 3, 3, 1, 1, 1, 2, 0, 0, 2, 0, 1, 3, 0, 3, 0, 3, 3, 0, 3, 0,\n",
       "       0, 2, 1, 1, 1, 2, 2, 1, 3, 0, 3, 3, 3, 2, 1, 2, 3, 1, 3, 3, 1, 3,\n",
       "       3, 1, 0, 3, 2, 2, 0, 0, 1, 3, 0, 0, 2, 3, 0, 0, 2, 1, 0, 1, 2, 3,\n",
       "       3, 0, 1, 3, 2, 0, 0, 2, 2, 2, 3, 2, 0, 0, 1, 0, 0, 0, 0, 3, 3, 2,\n",
       "       0, 1, 2, 3, 0, 1, 0, 2, 0, 1, 2, 1, 0, 2, 2, 3, 0, 3, 3, 3, 3, 3,\n",
       "       3, 1, 3, 0, 3, 0, 0, 1, 0, 2, 1, 1, 3, 0, 1, 0, 2, 3, 1, 1, 3, 1,\n",
       "       1, 0, 0, 3, 1, 2, 0, 2, 2, 3, 3, 2, 3, 1, 1, 3, 1, 3, 1, 0, 3, 0,\n",
       "       1, 2, 0, 1, 2, 0, 3, 2, 0, 0, 1, 2, 1, 2, 3, 0, 3, 2, 0, 3, 3, 3,\n",
       "       1, 0, 2, 3, 2, 2, 1, 1, 3, 2, 2, 2, 2, 2, 2, 3, 2, 1, 3, 2, 0, 2,\n",
       "       0, 2, 1, 1, 0, 0, 0, 1, 2, 1, 3, 1, 0, 2, 3, 0, 3, 0, 3, 2, 0, 0,\n",
       "       3, 1, 2, 3, 1, 1, 1, 3, 2, 0, 1, 2, 3, 3, 3, 2])"
      ]
     },
     "execution_count": 29,
     "metadata": {},
     "output_type": "execute_result"
    }
   ],
   "source": [
    "y_pred"
   ]
  },
  {
   "cell_type": "code",
   "execution_count": 30,
   "metadata": {},
   "outputs": [],
   "source": [
    "centroid=cluster.cluster_centers_#质心"
   ]
  },
  {
   "cell_type": "code",
   "execution_count": 31,
   "metadata": {},
   "outputs": [
    {
     "data": {
      "text/plain": [
       "array([[ -1.54234022,   4.43517599],\n",
       "       [-10.00969056,  -3.84944007],\n",
       "       [ -6.08459039,  -3.17305983],\n",
       "       [ -7.09306648,  -8.10994454]])"
      ]
     },
     "execution_count": 31,
     "metadata": {},
     "output_type": "execute_result"
    }
   ],
   "source": [
    "centroid"
   ]
  },
  {
   "cell_type": "code",
   "execution_count": 32,
   "metadata": {},
   "outputs": [
    {
     "data": {
      "text/plain": [
       "(4, 2)"
      ]
     },
     "execution_count": 32,
     "metadata": {},
     "output_type": "execute_result"
    }
   ],
   "source": [
    "centroid.shape"
   ]
  },
  {
   "cell_type": "code",
   "execution_count": 33,
   "metadata": {},
   "outputs": [],
   "source": [
    "inertia=cluster.inertia_#总距离平方和"
   ]
  },
  {
   "cell_type": "code",
   "execution_count": 34,
   "metadata": {},
   "outputs": [
    {
     "data": {
      "text/plain": [
       "908.3855684760613"
      ]
     },
     "execution_count": 34,
     "metadata": {},
     "output_type": "execute_result"
    }
   ],
   "source": [
    "inertia"
   ]
  },
  {
   "cell_type": "code",
   "execution_count": 35,
   "metadata": {},
   "outputs": [
    {
     "data": {
      "image/png": "[encoded data removed]",
      "text/plain": [
       "<Figure size 432x288 with 1 Axes>"
      ]
     },
     "metadata": {
      "needs_background": "light"
     },
     "output_type": "display_data"
    }
   ],
   "source": [
    "color = [\"red\",\"pink\",\"orange\",\"gray\"]\n",
    "fig, ax1 = plt.subplots(1)\n",
    "for i in range(n_clusters):\n",
    "    ax1.scatter(X[y_pred==i, 0], X[y_pred==i, 1]\n",
    "           ,marker='o' #点的形状\n",
    "           ,s=8 #点的大小\n",
    "           ,c=color[i]\n",
    "           )\n",
    "ax1.scatter(centroid[:,0], centroid[:,1]\n",
    "           ,marker='o' #点的形状\n",
    "           ,s=8 #点的大小\n",
    "           ,c=\"black\"\n",
    "           )\n",
    "plt.show()"
   ]
  },
  {
   "cell_type": "code",
   "execution_count": 37,
   "metadata": {},
   "outputs": [],
   "source": [
    "from sklearn.metrics import silhouette_score\n",
    "from sklearn.metrics import silhouette_samples\n",
    "#用来计算轮廓系数"
   ]
  },
  {
   "cell_type": "code",
   "execution_count": 40,
   "metadata": {},
   "outputs": [
    {
     "data": {
      "text/plain": [
       "(500, 2)"
      ]
     },
     "execution_count": 40,
     "metadata": {},
     "output_type": "execute_result"
    }
   ],
   "source": [
    "X.shape"
   ]
  },
  {
   "cell_type": "code",
   "execution_count": 41,
   "metadata": {},
   "outputs": [
    {
     "data": {
      "text/plain": [
       "(500,)"
      ]
     },
     "execution_count": 41,
     "metadata": {},
     "output_type": "execute_result"
    }
   ],
   "source": [
    "y_pred.shape"
   ]
  },
  {
   "cell_type": "code",
   "execution_count": 42,
   "metadata": {},
   "outputs": [
    {
     "data": {
      "text/plain": [
       "0.6505186632729437"
      ]
     },
     "execution_count": 42,
     "metadata": {},
     "output_type": "execute_result"
    }
   ],
   "source": [
    "silhouette_score(X,y_pred)"
   ]
  },
  {
   "cell_type": "code",
   "execution_count": 44,
   "metadata": {},
   "outputs": [
    {
     "data": {
      "text/plain": [
       "0.6505186632729437"
      ]
     },
     "execution_count": 44,
     "metadata": {},
     "output_type": "execute_result"
    }
   ],
   "source": [
    "silhouette_score(X,cluster.labels_)"
   ]
  },
  {
   "cell_type": "code",
   "execution_count": 46,
   "metadata": {
    "collapsed": true,
    "jupyter": {
     "outputs_hidden": true
    }
   },
   "outputs": [
    {
     "data": {
      "text/plain": [
       "array([ 0.62903385,  0.43289576,  0.55834047,  0.82660742,  0.35213124,\n",
       "        0.74123252,  0.68902347,  0.58705868,  0.04062548,  0.73241492,\n",
       "        0.59363669,  0.75135825,  0.66326503,  0.81480193,  0.45066007,\n",
       "        0.59477448,  0.10348453,  0.66633309,  0.84176332,  0.6089521 ,\n",
       "        0.70366952,  0.66565716,  0.59626118,  0.78488729,  0.64257685,\n",
       "        0.53469157,  0.86623858,  0.80913231,  0.62625573,  0.70079616,\n",
       "        0.62490578,  0.83417556,  0.74035924,  0.54405603,  0.71658615,\n",
       "        0.6694404 ,  0.69313134,  0.60546734,  0.58315885,  0.59179481,\n",
       "        0.64472091,  0.56153618,  0.73581549,  0.50944136,  0.66243564,\n",
       "        0.73163465,  0.57031198,  0.68128648,  0.85802959,  0.76946886,\n",
       "        0.81915048,  0.68541025,  0.5406262 ,  0.72334031,  0.63576372,\n",
       "        0.69892782,  0.64245745,  0.40251287,  0.57213237,  0.46118988,\n",
       "        0.83726051,  0.80179027,  0.45393636,  0.54665199,  0.85023055,\n",
       "        0.6688164 ,  0.69778864,  0.69091353,  0.68586222,  0.46727706,\n",
       "        0.64892594,  0.6808235 ,  0.66206932,  0.69871837,  0.71865188,\n",
       "        0.68494268,  0.75328423,  0.58296563,  0.70576812,  0.36389608,\n",
       "        0.82328783,  0.85353139,  0.60606649,  0.83393488,  0.83094159,\n",
       "        0.70382684,  0.0580048 ,  0.80397318,  0.6427548 ,  0.46029756,\n",
       "        0.68630759,  0.57351761,  0.3687021 ,  0.45078314,  0.80977885,\n",
       "        0.72152963,  0.63168005,  0.4945532 ,  0.55911976,  0.73815264,\n",
       "        0.8186652 ,  0.69469544,  0.7494507 ,  0.61042964,  0.82018921,\n",
       "        0.52164637,  0.73875283,  0.86225523,  0.8531162 ,  0.70074535,\n",
       "        0.42283371,  0.75276236,  0.83627727,  0.6615193 ,  0.83388255,\n",
       "        0.69044814,  0.82428157,  0.51512168,  0.83757123,  0.73538753,\n",
       "        0.68751242,  0.52750486,  0.66904087,  0.54954225,  0.47655054,\n",
       "        0.6592929 ,  0.81000835,  0.76006921,  0.69263105,  0.71103186,\n",
       "        0.83918213,  0.60369516,  0.56768711,  0.68326139,  0.61434083,\n",
       "        0.56363829,  0.61532991,  0.56083023,  0.72531043,  0.79883227,\n",
       "        0.66688735,  0.50564715,  0.65158262,  0.85563404,  0.7824113 ,\n",
       "        0.8285419 ,  0.64072343,  0.72620054,  0.49825455,  0.59695559,\n",
       "        0.5583992 ,  0.40186669,  0.78237885,  0.74785868,  0.75884865,\n",
       "        0.70089311,  0.60263048,  0.5615834 ,  0.70118071,  0.67772637,\n",
       "        0.5721739 ,  0.67730468,  0.63416253,  0.63414272,  0.81321733,\n",
       "        0.35221048,  0.73508598,  0.61363209,  0.72700817,  0.86185079,\n",
       "        0.62568743,  0.51861029,  0.70526541,  0.60301291,  0.85886051,\n",
       "        0.43701433,  0.62177867,  0.70450483,  0.55881958,  0.55269651,\n",
       "        0.65422754,  0.59119905,  0.70204441,  0.43934625,  0.72193903,\n",
       "        0.17436228,  0.72671371,  0.74909326,  0.72291783,  0.10079355,\n",
       "        0.77498719,  0.84704808,  0.66126514,  0.31716798,  0.737739  ,\n",
       "        0.81890859,  0.69192282,  0.65706799,  0.73981774,  0.80669213,\n",
       "        0.72526562,  0.57891472,  0.62600877,  0.64771679,  0.67449479,\n",
       "        0.62489594,  0.67181431,  0.45282563,  0.75229552,  0.60640714,\n",
       "        0.60145867,  0.44589657,  0.52509653,  0.73004638,  0.60915283,\n",
       "        0.71425762,  0.67655284,  0.80363485,  0.25131282,  0.80286197,\n",
       "        0.66334249,  0.71475664,  0.62017878,  0.70580234,  0.61180346,\n",
       "        0.69848171,  0.6904932 ,  0.84631405,  0.47873982,  0.79638229,\n",
       "        0.69250151,  0.63388969,  0.67373235,  0.55319783,  0.8598079 ,\n",
       "        0.7524114 ,  0.40235979,  0.72000523,  0.85689279,  0.62338775,\n",
       "        0.73165669,  0.33911487,  0.7328447 ,  0.74837575,  0.73431429,\n",
       "        0.58679954,  0.47468596,  0.54461604,  0.62101494,  0.65614518,\n",
       "        0.59444286,  0.78796304,  0.85923611,  0.68794159,  0.56391242,\n",
       "        0.85800677,  0.60955615,  0.32853507,  0.50398148,  0.86632275,\n",
       "        0.55497237,  0.77195259,  0.56564538,  0.62420175,  0.8594779 ,\n",
       "        0.72669339,  0.68323288,  0.72043564,  0.57474922,  0.65617516,\n",
       "        0.59583965,  0.6138594 ,  0.84967889,  0.8404922 ,  0.52263744,\n",
       "        0.8476908 ,  0.70818495,  0.53064417,  0.86423672,  0.68329404,\n",
       "        0.85954346,  0.71466842,  0.73795813,  0.83653999,  0.67953558,\n",
       "        0.85065563,  0.79143872,  0.24849881,  0.67865396,  0.27823309,\n",
       "        0.44089877,  0.71828573,  0.64490691,  0.09916002,  0.42187352,\n",
       "        0.6579123 ,  0.51837   ,  0.05555848,  0.55040536,  0.6405919 ,\n",
       "        0.40527851,  0.68860035,  0.67263151,  0.62413005,  0.50693326,\n",
       "        0.54230967,  0.5281381 ,  0.67691214,  0.49587889,  0.65614372,\n",
       "        0.83516308,  0.70022476,  0.70731666,  0.72443738,  0.78586427,\n",
       "        0.84667587,  0.4684146 ,  0.73455491,  0.78813618,  0.81321866,\n",
       "        0.73636182,  0.72072073,  0.74169057,  0.85906707,  0.39577884,\n",
       "        0.685937  ,  0.77977067,  0.63966327,  0.71116971,  0.61156042,\n",
       "        0.67546489,  0.85619636,  0.04572313,  0.41590615,  0.42626816,\n",
       "        0.79347261,  0.82670453,  0.60921504,  0.4480074 ,  0.58304871,\n",
       "        0.70971499,  0.63829578,  0.85971201,  0.83865592,  0.66851073,\n",
       "        0.78243579,  0.78068333,  0.68646877,  0.7583609 ,  0.67331687,\n",
       "        0.68292808,  0.70580903,  0.85419785,  0.62474276,  0.68377591,\n",
       "        0.63874743,  0.83845929,  0.68042509,  0.86203062,  0.4899863 ,\n",
       "        0.66998424,  0.69773531,  0.57037883,  0.6731441 ,  0.85306519,\n",
       "        0.52420901,  0.70306922,  0.69297145,  0.86301134,  0.72317246,\n",
       "        0.7560538 ,  0.6013632 ,  0.71200949,  0.6190129 ,  0.63921141,\n",
       "        0.27971801,  0.66412442,  0.85511238,  0.67595374,  0.79024461,\n",
       "        0.86478505,  0.67769563,  0.82143455,  0.5735732 ,  0.66157221,\n",
       "        0.06107484,  0.61251082,  0.83589166, -0.00872469,  0.8358298 ,\n",
       "        0.39555308,  0.73338529,  0.22262977,  0.69102837,  0.74812903,\n",
       "        0.695476  ,  0.1616137 ,  0.78950524,  0.76529602,  0.62206789,\n",
       "        0.68036047,  0.70753407,  0.59163663,  0.60974585,  0.73984024,\n",
       "        0.72891725,  0.74108521,  0.61918538,  0.6040488 ,  0.67313069,\n",
       "        0.55248873,  0.61689676,  0.33436413,  0.7469491 ,  0.47212927,\n",
       "        0.84657869,  0.49205564,  0.72130768,  0.64765233,  0.72948536,\n",
       "        0.81127763,  0.45878499,  0.68662743,  0.79675608,  0.62012949,\n",
       "        0.65702242,  0.78085857,  0.82740752,  0.66575457,  0.68131292,\n",
       "        0.64830126,  0.68370094,  0.63621001,  0.85931393,  0.52551701,\n",
       "        0.70512134,  0.77715108,  0.7407637 ,  0.69560216,  0.72525541,\n",
       "        0.68538114,  0.64809374,  0.11092568,  0.67593127,  0.64186857,\n",
       "        0.68857292,  0.64693932,  0.67706722,  0.71848648,  0.72009522,\n",
       "        0.69970453,  0.54514763,  0.73124452,  0.73376962,  0.54956739,\n",
       "        0.35175708,  0.35863386,  0.69315426,  0.72080858,  0.70551128,\n",
       "        0.85531468,  0.61302534,  0.86434023,  0.73763421,  0.69945544,\n",
       "        0.26344224,  0.84282472,  0.81346215,  0.77988893,  0.457298  ,\n",
       "        0.72758052,  0.56105932,  0.74388245,  0.6030924 ,  0.84373734,\n",
       "        0.70513767,  0.75539602,  0.82314621,  0.40598262,  0.83764827,\n",
       "        0.6764497 ,  0.67806402,  0.85371569,  0.7309908 ,  0.39793802,\n",
       "        0.67976046,  0.50219218,  0.41095767,  0.66098766,  0.49589762,\n",
       "        0.45158542,  0.65473612,  0.70979989,  0.85803255,  0.6090255 ,\n",
       "        0.23094383,  0.73256791,  0.51456386,  0.68960014,  0.68782655])"
      ]
     },
     "execution_count": 46,
     "metadata": {},
     "output_type": "execute_result"
    }
   ],
   "source": [
    "silhouette_samples(X,y_pred)#求出每一行的轮廓系数"
   ]
  },
  {
   "cell_type": "code",
   "execution_count": 49,
   "metadata": {},
   "outputs": [
    {
     "name": "stderr",
     "output_type": "stream",
     "text": [
      "D:\\Anaconda3\\lib\\site-packages\\sklearn\\utils\\deprecation.py:87: FutureWarning: Function calinski_harabaz_score is deprecated; Function 'calinski_harabaz_score' has been renamed to 'calinski_harabasz_score' and will be removed in version 0.23.\n",
      "  warnings.warn(msg, category=FutureWarning)\n"
     ]
    },
    {
     "data": {
      "text/plain": [
       "2704.4858735121097"
      ]
     },
     "execution_count": 49,
     "metadata": {},
     "output_type": "execute_result"
    }
   ],
   "source": [
    "from sklearn.metrics import calinski_harabaz_score\n",
    "calinski_harabaz_score(X, y_pred)\n",
    "#卡林斯基-哈拉巴斯指数"
   ]
  },
  {
   "cell_type": "code",
   "execution_count": null,
   "metadata": {},
   "outputs": [],
   "source": []
  }
 ],
 "metadata": {
  "kernelspec": {
   "display_name": "Python 3",
   "language": "python",
   "name": "python3"
  },
  "language_info": {
   "codemirror_mode": {
    "name": "ipython",
    "version": 3
   },
   "file_extension": ".py",
   "mimetype": "text/x-python",
   "name": "python",
   "nbconvert_exporter": "python",
   "pygments_lexer": "ipython3",
   "version": "3.7.4"
  }
 },
 "nbformat": 4,
 "nbformat_minor": 4
}
