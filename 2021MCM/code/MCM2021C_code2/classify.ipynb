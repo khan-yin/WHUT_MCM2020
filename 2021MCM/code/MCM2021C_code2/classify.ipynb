{
 "cells": [
  {
   "cell_type": "code",
   "execution_count": 610,
   "metadata": {},
   "outputs": [],
   "source": [
    "import pandas as pd\n",
    "import numpy as np\n",
    "import matplotlib.pyplot as plt"
   ]
  },
  {
   "cell_type": "code",
   "execution_count": 611,
   "metadata": {},
   "outputs": [],
   "source": [
    "res = pd.read_csv('./last/prediction_all.csv')"
   ]
  },
  {
   "cell_type": "code",
   "execution_count": 612,
   "metadata": {},
   "outputs": [
    {
     "data": {
      "text/html": [
       "<div>\n",
       "<style scoped>\n",
       "    .dataframe tbody tr th:only-of-type {\n",
       "        vertical-align: middle;\n",
       "    }\n",
       "\n",
       "    .dataframe tbody tr th {\n",
       "        vertical-align: top;\n",
       "    }\n",
       "\n",
       "    .dataframe thead th {\n",
       "        text-align: right;\n",
       "    }\n",
       "</style>\n",
       "<table border=\"1\" class=\"dataframe\">\n",
       "  <thead>\n",
       "    <tr style=\"text-align: right;\">\n",
       "      <th></th>\n",
       "      <th>filename</th>\n",
       "      <th>predict</th>\n",
       "      <th>possibility</th>\n",
       "    </tr>\n",
       "  </thead>\n",
       "  <tbody>\n",
       "    <tr>\n",
       "      <th>0</th>\n",
       "      <td>./origin/all\\ATT1000_A5A50BAB-A6EF-4576-A1F8-A...</td>\n",
       "      <td>0</td>\n",
       "      <td>0.599406</td>\n",
       "    </tr>\n",
       "    <tr>\n",
       "      <th>1</th>\n",
       "      <td>./origin/all\\ATT1002_7DFE65D0-B77A-4C7F-8849-6...</td>\n",
       "      <td>0</td>\n",
       "      <td>0.572508</td>\n",
       "    </tr>\n",
       "    <tr>\n",
       "      <th>2</th>\n",
       "      <td>./origin/all\\ATT1003_20200718_151437.jpg</td>\n",
       "      <td>0</td>\n",
       "      <td>0.568513</td>\n",
       "    </tr>\n",
       "    <tr>\n",
       "      <th>3</th>\n",
       "      <td>./origin/all\\ATT1004_Killer Hornet 2020-07-18 ...</td>\n",
       "      <td>0</td>\n",
       "      <td>0.386303</td>\n",
       "    </tr>\n",
       "    <tr>\n",
       "      <th>4</th>\n",
       "      <td>./origin/all\\ATT1005_Killer Hornet 2020-07-18 ...</td>\n",
       "      <td>0</td>\n",
       "      <td>0.510838</td>\n",
       "    </tr>\n",
       "  </tbody>\n",
       "</table>\n",
       "</div>"
      ],
      "text/plain": [
       "                                            filename  predict  possibility\n",
       "0  ./origin/all\\ATT1000_A5A50BAB-A6EF-4576-A1F8-A...        0     0.599406\n",
       "1  ./origin/all\\ATT1002_7DFE65D0-B77A-4C7F-8849-6...        0     0.572508\n",
       "2           ./origin/all\\ATT1003_20200718_151437.jpg        0     0.568513\n",
       "3  ./origin/all\\ATT1004_Killer Hornet 2020-07-18 ...        0     0.386303\n",
       "4  ./origin/all\\ATT1005_Killer Hornet 2020-07-18 ...        0     0.510838"
      ]
     },
     "execution_count": 612,
     "metadata": {},
     "output_type": "execute_result"
    }
   ],
   "source": [
    "res.head()"
   ]
  },
  {
   "cell_type": "code",
   "execution_count": 613,
   "metadata": {},
   "outputs": [],
   "source": [
    "res['filename']=res['filename'].apply(lambda x : x.split('\\\\')[-1])"
   ]
  },
  {
   "cell_type": "code",
   "execution_count": 614,
   "metadata": {},
   "outputs": [
    {
     "data": {
      "text/html": [
       "<div>\n",
       "<style scoped>\n",
       "    .dataframe tbody tr th:only-of-type {\n",
       "        vertical-align: middle;\n",
       "    }\n",
       "\n",
       "    .dataframe tbody tr th {\n",
       "        vertical-align: top;\n",
       "    }\n",
       "\n",
       "    .dataframe thead th {\n",
       "        text-align: right;\n",
       "    }\n",
       "</style>\n",
       "<table border=\"1\" class=\"dataframe\">\n",
       "  <thead>\n",
       "    <tr style=\"text-align: right;\">\n",
       "      <th></th>\n",
       "      <th>filename</th>\n",
       "      <th>predict</th>\n",
       "      <th>possibility</th>\n",
       "    </tr>\n",
       "  </thead>\n",
       "  <tbody>\n",
       "    <tr>\n",
       "      <th>0</th>\n",
       "      <td>ATT1000_A5A50BAB-A6EF-4576-A1F8-A07862AADE3A.jpg</td>\n",
       "      <td>0</td>\n",
       "      <td>0.599406</td>\n",
       "    </tr>\n",
       "    <tr>\n",
       "      <th>1</th>\n",
       "      <td>ATT1002_7DFE65D0-B77A-4C7F-8849-685CEA02E862.jpg</td>\n",
       "      <td>0</td>\n",
       "      <td>0.572508</td>\n",
       "    </tr>\n",
       "    <tr>\n",
       "      <th>2</th>\n",
       "      <td>ATT1003_20200718_151437.jpg</td>\n",
       "      <td>0</td>\n",
       "      <td>0.568513</td>\n",
       "    </tr>\n",
       "    <tr>\n",
       "      <th>3</th>\n",
       "      <td>ATT1004_Killer Hornet 2020-07-18 1.jpg</td>\n",
       "      <td>0</td>\n",
       "      <td>0.386303</td>\n",
       "    </tr>\n",
       "    <tr>\n",
       "      <th>4</th>\n",
       "      <td>ATT1005_Killer Hornet 2020-07-18 2.jpg</td>\n",
       "      <td>0</td>\n",
       "      <td>0.510838</td>\n",
       "    </tr>\n",
       "  </tbody>\n",
       "</table>\n",
       "</div>"
      ],
      "text/plain": [
       "                                           filename  predict  possibility\n",
       "0  ATT1000_A5A50BAB-A6EF-4576-A1F8-A07862AADE3A.jpg        0     0.599406\n",
       "1  ATT1002_7DFE65D0-B77A-4C7F-8849-685CEA02E862.jpg        0     0.572508\n",
       "2                       ATT1003_20200718_151437.jpg        0     0.568513\n",
       "3            ATT1004_Killer Hornet 2020-07-18 1.jpg        0     0.386303\n",
       "4            ATT1005_Killer Hornet 2020-07-18 2.jpg        0     0.510838"
      ]
     },
     "execution_count": 614,
     "metadata": {},
     "output_type": "execute_result"
    }
   ],
   "source": [
    "res.head()"
   ]
  },
  {
   "cell_type": "raw",
   "metadata": {},
   "source": [
    "res = res[['filename','possibility','predict']]"
   ]
  },
  {
   "cell_type": "code",
   "execution_count": 615,
   "metadata": {},
   "outputs": [],
   "source": [
    "res = res.set_index('filename')"
   ]
  },
  {
   "cell_type": "code",
   "execution_count": 616,
   "metadata": {},
   "outputs": [
    {
     "data": {
      "text/plain": [
       "(3111, 2)"
      ]
     },
     "execution_count": 616,
     "metadata": {},
     "output_type": "execute_result"
    }
   ],
   "source": [
    "res.shape"
   ]
  },
  {
   "cell_type": "code",
   "execution_count": 617,
   "metadata": {},
   "outputs": [],
   "source": [
    "def get_hasimg_csv():\n",
    "    try:\n",
    "        hasimg_csv = pd.read_csv('./hasimg.csv')\n",
    "        hasimg_csv['Detection Date'] = pd.to_datetime(hasimg_csv['Detection Date'])\n",
    "#         hasimg_csv = hasimg_csv.drop_duplicates('GlobalID')#去除重复\n",
    "        cls_mapping = {\n",
    "            'Negative ID': 0,\n",
    "            'Positive ID': 1,\n",
    "            'Unprocessed': 2,\n",
    "            'Unverified': 2\n",
    "        }\n",
    "\n",
    "        hasimg_csv['Lab Status']=hasimg_csv['Lab Status'].map(cls_mapping)\n",
    "        hasimg_csv = hasimg_csv.drop_duplicates('GlobalID')#去除重复\n",
    "        hasimg_csv.to_csv('./last/hasimg.csv',index=False)\n",
    "        return hasimg_csv\n",
    "    except FileNotFoundError:\n",
    "        img_id_csv = pd.read_excel(img_id_path)\n",
    "        img_id_csv = img_id_csv[['FileName', 'GlobalID']]\n",
    "        img_dataset = pd.read_excel(img_dataset_path)\n",
    "        img_dataset.head()\n",
    "        pd.Timestamp.min.ceil('D')\n",
    "        img_dataset = img_dataset[img_dataset['Detection Date'] != '<Null>']\n",
    "        img_dataset['Detection Date'] = pd.to_datetime(img_dataset['Detection Date'], errors=\"coerce\")\n",
    "        img_dataset = img_dataset.dropna(subset=['Detection Date'])\n",
    "        img_dataset['Detection Date']\n",
    "        img_ds_idindex = img_dataset.set_index('GlobalID')\n",
    "        img_id_idindex = img_id_csv.set_index('GlobalID')\n",
    "        hasimg_csv = img_ds_idindex.join(img_id_idindex, how='left')\n",
    "        hasimg_csv = hasimg_csv.reset_index()\n",
    "        \n",
    "        cls_mapping = {\n",
    "            'Negative ID': 0,\n",
    "            'Positive ID': 1,\n",
    "            'Unprocessed': 2,\n",
    "            'Unverified': 2\n",
    "        }\n",
    "\n",
    "        hasimg_csv['Lab Status']=hasimg_csv['Lab Status'].map(cls_mapping)\n",
    "        hasimg_csv = hasimg_csv.sort_values(by='Detection Date')\n",
    "        hasimg_csv.to_csv('./data/hasimg.csv')\n",
    "        return hasimg_csv\n"
   ]
  },
  {
   "cell_type": "code",
   "execution_count": 618,
   "metadata": {},
   "outputs": [],
   "source": [
    "hasimg =  get_hasimg_csv()"
   ]
  },
  {
   "cell_type": "code",
   "execution_count": 619,
   "metadata": {},
   "outputs": [
    {
     "data": {
      "text/plain": [
       "(2051, 11)"
      ]
     },
     "execution_count": 619,
     "metadata": {},
     "output_type": "execute_result"
    }
   ],
   "source": [
    "hasimg.shape"
   ]
  },
  {
   "cell_type": "code",
   "execution_count": 620,
   "metadata": {},
   "outputs": [],
   "source": [
    "hasimg = pd.read_csv('./last/hasimg.csv')"
   ]
  },
  {
   "cell_type": "code",
   "execution_count": 621,
   "metadata": {},
   "outputs": [],
   "source": [
    "hasimg = hasimg.set_index('FileName')"
   ]
  },
  {
   "cell_type": "code",
   "execution_count": 622,
   "metadata": {},
   "outputs": [],
   "source": [
    "hasimg=hasimg[['GlobalID','Lab Status']]"
   ]
  },
  {
   "cell_type": "code",
   "execution_count": 632,
   "metadata": {},
   "outputs": [],
   "source": [
    "hasimg.join(res,how='right').to_csv('./res.csv')"
   ]
  },
  {
   "cell_type": "code",
   "execution_count": 629,
   "metadata": {},
   "outputs": [
    {
     "name": "stdout",
     "output_type": "stream",
     "text": [
      "<class 'pandas.core.frame.DataFrame'>\n",
      "Index: 2051 entries, ATT747_20200706_105832.jpg to ATT462_49F3CE7F-19DC-4D81-ACBE-ED0916270AB7.jpg\n",
      "Data columns (total 2 columns):\n",
      " #   Column      Non-Null Count  Dtype \n",
      "---  ------      --------------  ----- \n",
      " 0   GlobalID    2051 non-null   object\n",
      " 1   Lab Status  2051 non-null   int64 \n",
      "dtypes: int64(1), object(1)\n",
      "memory usage: 112.6+ KB\n"
     ]
    }
   ],
   "source": [
    "hasimg.info()"
   ]
  },
  {
   "cell_type": "code",
   "execution_count": 630,
   "metadata": {},
   "outputs": [
    {
     "data": {
      "text/plain": [
       "Index(['GlobalID', 'Lab Status'], dtype='object')"
      ]
     },
     "execution_count": 630,
     "metadata": {},
     "output_type": "execute_result"
    }
   ],
   "source": [
    "hasimg.columns"
   ]
  },
  {
   "cell_type": "code",
   "execution_count": 626,
   "metadata": {},
   "outputs": [],
   "source": [
    "Unvirefiled = hasimg[hasimg['Lab Status']=='Unverified']"
   ]
  },
  {
   "cell_type": "code",
   "execution_count": 627,
   "metadata": {},
   "outputs": [
    {
     "ename": "KeyError",
     "evalue": "\"None of ['FileName'] are in the columns\"",
     "output_type": "error",
     "traceback": [
      "\u001b[1;31m---------------------------------------------------------------------------\u001b[0m",
      "\u001b[1;31mKeyError\u001b[0m                                  Traceback (most recent call last)",
      "\u001b[1;32m<ipython-input-627-0f8a360d6684>\u001b[0m in \u001b[0;36m<module>\u001b[1;34m\u001b[0m\n\u001b[1;32m----> 1\u001b[1;33m \u001b[0mUnvirefiled\u001b[0m \u001b[1;33m=\u001b[0m \u001b[0mUnvirefiled\u001b[0m\u001b[1;33m.\u001b[0m\u001b[0mset_index\u001b[0m\u001b[1;33m(\u001b[0m\u001b[1;34m'FileName'\u001b[0m\u001b[1;33m)\u001b[0m\u001b[1;33m\u001b[0m\u001b[1;33m\u001b[0m\u001b[0m\n\u001b[0m",
      "\u001b[1;32mE:\\Anaconda3\\lib\\site-packages\\pandas\\core\\frame.py\u001b[0m in \u001b[0;36mset_index\u001b[1;34m(self, keys, drop, append, inplace, verify_integrity)\u001b[0m\n\u001b[0;32m   4722\u001b[0m \u001b[1;33m\u001b[0m\u001b[0m\n\u001b[0;32m   4723\u001b[0m         \u001b[1;32mif\u001b[0m \u001b[0mmissing\u001b[0m\u001b[1;33m:\u001b[0m\u001b[1;33m\u001b[0m\u001b[1;33m\u001b[0m\u001b[0m\n\u001b[1;32m-> 4724\u001b[1;33m             \u001b[1;32mraise\u001b[0m \u001b[0mKeyError\u001b[0m\u001b[1;33m(\u001b[0m\u001b[1;34mf\"None of {missing} are in the columns\"\u001b[0m\u001b[1;33m)\u001b[0m\u001b[1;33m\u001b[0m\u001b[1;33m\u001b[0m\u001b[0m\n\u001b[0m\u001b[0;32m   4725\u001b[0m \u001b[1;33m\u001b[0m\u001b[0m\n\u001b[0;32m   4726\u001b[0m         \u001b[1;32mif\u001b[0m \u001b[0minplace\u001b[0m\u001b[1;33m:\u001b[0m\u001b[1;33m\u001b[0m\u001b[1;33m\u001b[0m\u001b[0m\n",
      "\u001b[1;31mKeyError\u001b[0m: \"None of ['FileName'] are in the columns\""
     ]
    }
   ],
   "source": [
    "Unvirefiled = Unvirefiled.set_index('FileName')"
   ]
  },
  {
   "cell_type": "code",
   "execution_count": 628,
   "metadata": {},
   "outputs": [
    {
     "data": {
      "text/html": [
       "<div>\n",
       "<style scoped>\n",
       "    .dataframe tbody tr th:only-of-type {\n",
       "        vertical-align: middle;\n",
       "    }\n",
       "\n",
       "    .dataframe tbody tr th {\n",
       "        vertical-align: top;\n",
       "    }\n",
       "\n",
       "    .dataframe thead th {\n",
       "        text-align: right;\n",
       "    }\n",
       "</style>\n",
       "<table border=\"1\" class=\"dataframe\">\n",
       "  <thead>\n",
       "    <tr style=\"text-align: right;\">\n",
       "      <th></th>\n",
       "      <th>GlobalID</th>\n",
       "      <th>Lab Status</th>\n",
       "    </tr>\n",
       "    <tr>\n",
       "      <th>FileName</th>\n",
       "      <th></th>\n",
       "      <th></th>\n",
       "    </tr>\n",
       "  </thead>\n",
       "  <tbody>\n",
       "  </tbody>\n",
       "</table>\n",
       "</div>"
      ],
      "text/plain": [
       "Empty DataFrame\n",
       "Columns: [GlobalID, Lab Status]\n",
       "Index: []"
      ]
     },
     "execution_count": 628,
     "metadata": {},
     "output_type": "execute_result"
    }
   ],
   "source": [
    "Unvirefiled"
   ]
  },
  {
   "cell_type": "code",
   "execution_count": 55,
   "metadata": {},
   "outputs": [],
   "source": [
    "Unvirefiled=Unvirefiled[['GlobalID','Lab Status','Latitude','Longitude']]"
   ]
  },
  {
   "cell_type": "code",
   "execution_count": 60,
   "metadata": {},
   "outputs": [],
   "source": [
    "Unvirefiled.join(res,how='right').to_csv('res.csv')"
   ]
  },
  {
   "cell_type": "markdown",
   "metadata": {},
   "source": [
    "## Composed"
   ]
  },
  {
   "cell_type": "code",
   "execution_count": 633,
   "metadata": {},
   "outputs": [],
   "source": [
    "res = pd.read_csv('./res.csv')"
   ]
  },
  {
   "cell_type": "code",
   "execution_count": 634,
   "metadata": {},
   "outputs": [
    {
     "data": {
      "text/plain": [
       "Index(['filename', 'GlobalID', 'Lab Status', 'predict', 'possibility'], dtype='object')"
      ]
     },
     "execution_count": 634,
     "metadata": {},
     "output_type": "execute_result"
    }
   ],
   "source": [
    "res.columns"
   ]
  },
  {
   "cell_type": "code",
   "execution_count": 635,
   "metadata": {},
   "outputs": [],
   "source": [
    "text = pd.read_excel('./last/text.xlsx')"
   ]
  },
  {
   "cell_type": "code",
   "execution_count": 636,
   "metadata": {},
   "outputs": [
    {
     "data": {
      "text/html": [
       "<div>\n",
       "<style scoped>\n",
       "    .dataframe tbody tr th:only-of-type {\n",
       "        vertical-align: middle;\n",
       "    }\n",
       "\n",
       "    .dataframe tbody tr th {\n",
       "        vertical-align: top;\n",
       "    }\n",
       "\n",
       "    .dataframe thead th {\n",
       "        text-align: right;\n",
       "    }\n",
       "</style>\n",
       "<table border=\"1\" class=\"dataframe\">\n",
       "  <thead>\n",
       "    <tr style=\"text-align: right;\">\n",
       "      <th></th>\n",
       "      <th>GlobalID</th>\n",
       "      <th>Detection Date</th>\n",
       "      <th>Notes</th>\n",
       "      <th>Lab Status</th>\n",
       "      <th>Lab Comments</th>\n",
       "      <th>Submission Date</th>\n",
       "      <th>Latitude</th>\n",
       "      <th>Longitude</th>\n",
       "      <th>lenth</th>\n",
       "      <th>note emotion</th>\n",
       "      <th>lab emotion</th>\n",
       "      <th>color</th>\n",
       "      <th>bee lenth</th>\n",
       "    </tr>\n",
       "  </thead>\n",
       "  <tbody>\n",
       "    <tr>\n",
       "      <th>0</th>\n",
       "      <td>{5AC8034E-5B46-4294-85F0-5B13117EBEFE}</td>\n",
       "      <td>2019-12-08 00:00:00</td>\n",
       "      <td>One dead wasp seen in Blaine, and suspect flyi...</td>\n",
       "      <td>Positive ID</td>\n",
       "      <td></td>\n",
       "      <td>2020-01-15</td>\n",
       "      <td>48.980994</td>\n",
       "      <td>-122.688503</td>\n",
       "      <td>0.213439</td>\n",
       "      <td>0.155823</td>\n",
       "      <td>0.000000</td>\n",
       "      <td>0</td>\n",
       "      <td>0</td>\n",
       "    </tr>\n",
       "    <tr>\n",
       "      <th>1</th>\n",
       "      <td>{5EAD3364-2CA7-4A39-9A53-7F9DCF5D2041}</td>\n",
       "      <td>2019-10-30 00:00:00</td>\n",
       "      <td>Hornet specimen sent to WSU</td>\n",
       "      <td>Positive ID</td>\n",
       "      <td></td>\n",
       "      <td>2020-01-15</td>\n",
       "      <td>48.971949</td>\n",
       "      <td>-122.700941</td>\n",
       "      <td>0.102767</td>\n",
       "      <td>0.016162</td>\n",
       "      <td>0.000000</td>\n",
       "      <td>0</td>\n",
       "      <td>0</td>\n",
       "    </tr>\n",
       "    <tr>\n",
       "      <th>2</th>\n",
       "      <td>{13B67BCB-AFCE-4100-AD2B-76EF178BA228}</td>\n",
       "      <td>2020-01-15 00:00:00</td>\n",
       "      <td>Massive loss of bees, decapitated. No hornet s...</td>\n",
       "      <td>Unverified</td>\n",
       "      <td></td>\n",
       "      <td>2020-01-15</td>\n",
       "      <td>48.939200</td>\n",
       "      <td>-122.661300</td>\n",
       "      <td>0.264822</td>\n",
       "      <td>0.098034</td>\n",
       "      <td>0.000000</td>\n",
       "      <td>0</td>\n",
       "      <td>0</td>\n",
       "    </tr>\n",
       "    <tr>\n",
       "      <th>3</th>\n",
       "      <td>{124B9BFA-7F7B-4B8E-8A56-42E067F0F72E}</td>\n",
       "      <td>2019-09-19 00:00:00</td>\n",
       "      <td>This was the colony that was found and destroy...</td>\n",
       "      <td>Positive ID</td>\n",
       "      <td>Thanks for adding this, and the great pictures!</td>\n",
       "      <td>2020-02-04</td>\n",
       "      <td>49.149394</td>\n",
       "      <td>-123.943134</td>\n",
       "      <td>0.545455</td>\n",
       "      <td>0.120816</td>\n",
       "      <td>0.062577</td>\n",
       "      <td>0</td>\n",
       "      <td>0</td>\n",
       "    </tr>\n",
       "    <tr>\n",
       "      <th>4</th>\n",
       "      <td>{BBBA5BA0-CAFB-43D3-8F1D-FB2D9CF777E0}</td>\n",
       "      <td>2019-08-31 00:00:00</td>\n",
       "      <td>I was cleaning my gutters when I heard a snapp...</td>\n",
       "      <td>Unverified</td>\n",
       "      <td>Thanks for this report. I can't verify it from...</td>\n",
       "      <td>2020-02-14</td>\n",
       "      <td>48.723779</td>\n",
       "      <td>-122.354431</td>\n",
       "      <td>0.996047</td>\n",
       "      <td>0.832786</td>\n",
       "      <td>0.421214</td>\n",
       "      <td>0</td>\n",
       "      <td>0</td>\n",
       "    </tr>\n",
       "  </tbody>\n",
       "</table>\n",
       "</div>"
      ],
      "text/plain": [
       "                                 GlobalID       Detection Date  \\\n",
       "0  {5AC8034E-5B46-4294-85F0-5B13117EBEFE}  2019-12-08 00:00:00   \n",
       "1  {5EAD3364-2CA7-4A39-9A53-7F9DCF5D2041}  2019-10-30 00:00:00   \n",
       "2  {13B67BCB-AFCE-4100-AD2B-76EF178BA228}  2020-01-15 00:00:00   \n",
       "3  {124B9BFA-7F7B-4B8E-8A56-42E067F0F72E}  2019-09-19 00:00:00   \n",
       "4  {BBBA5BA0-CAFB-43D3-8F1D-FB2D9CF777E0}  2019-08-31 00:00:00   \n",
       "\n",
       "                                               Notes   Lab Status  \\\n",
       "0  One dead wasp seen in Blaine, and suspect flyi...  Positive ID   \n",
       "1                        Hornet specimen sent to WSU  Positive ID   \n",
       "2  Massive loss of bees, decapitated. No hornet s...   Unverified   \n",
       "3  This was the colony that was found and destroy...  Positive ID   \n",
       "4  I was cleaning my gutters when I heard a snapp...   Unverified   \n",
       "\n",
       "                                        Lab Comments Submission Date  \\\n",
       "0                                                         2020-01-15   \n",
       "1                                                         2020-01-15   \n",
       "2                                                         2020-01-15   \n",
       "3    Thanks for adding this, and the great pictures!      2020-02-04   \n",
       "4  Thanks for this report. I can't verify it from...      2020-02-14   \n",
       "\n",
       "    Latitude   Longitude     lenth  note emotion  lab emotion  color  \\\n",
       "0  48.980994 -122.688503  0.213439      0.155823     0.000000      0   \n",
       "1  48.971949 -122.700941  0.102767      0.016162     0.000000      0   \n",
       "2  48.939200 -122.661300  0.264822      0.098034     0.000000      0   \n",
       "3  49.149394 -123.943134  0.545455      0.120816     0.062577      0   \n",
       "4  48.723779 -122.354431  0.996047      0.832786     0.421214      0   \n",
       "\n",
       "   bee lenth  \n",
       "0          0  \n",
       "1          0  \n",
       "2          0  \n",
       "3          0  \n",
       "4          0  "
      ]
     },
     "execution_count": 636,
     "metadata": {},
     "output_type": "execute_result"
    }
   ],
   "source": [
    "text.head()"
   ]
  },
  {
   "cell_type": "code",
   "execution_count": 637,
   "metadata": {},
   "outputs": [
    {
     "data": {
      "text/plain": [
       "Index(['GlobalID', 'Detection Date', 'Notes', 'Lab Status', 'Lab Comments',\n",
       "       'Submission Date', 'Latitude', 'Longitude', 'lenth', 'note emotion',\n",
       "       'lab emotion', 'color', 'bee lenth'],\n",
       "      dtype='object')"
      ]
     },
     "execution_count": 637,
     "metadata": {},
     "output_type": "execute_result"
    }
   ],
   "source": [
    "text.columns"
   ]
  },
  {
   "cell_type": "code",
   "execution_count": 638,
   "metadata": {},
   "outputs": [
    {
     "data": {
      "text/plain": [
       "(4440, 13)"
      ]
     },
     "execution_count": 638,
     "metadata": {},
     "output_type": "execute_result"
    }
   ],
   "source": [
    "text.shape"
   ]
  },
  {
   "cell_type": "code",
   "execution_count": 639,
   "metadata": {},
   "outputs": [],
   "source": [
    "text_index=text.set_index('GlobalID')"
   ]
  },
  {
   "cell_type": "code",
   "execution_count": 640,
   "metadata": {},
   "outputs": [],
   "source": [
    "res_index = res.set_index('GlobalID')"
   ]
  },
  {
   "cell_type": "code",
   "execution_count": 641,
   "metadata": {},
   "outputs": [],
   "source": [
    "res_index=res_index[['predict', 'possibility']]"
   ]
  },
  {
   "cell_type": "code",
   "execution_count": 642,
   "metadata": {},
   "outputs": [
    {
     "data": {
      "text/plain": [
       "(3111, 2)"
      ]
     },
     "execution_count": 642,
     "metadata": {},
     "output_type": "execute_result"
    }
   ],
   "source": [
    "res_index.shape"
   ]
  },
  {
   "cell_type": "code",
   "execution_count": 643,
   "metadata": {},
   "outputs": [
    {
     "data": {
      "text/plain": [
       "Index(['Detection Date', 'Notes', 'Lab Status', 'Lab Comments',\n",
       "       'Submission Date', 'Latitude', 'Longitude', 'lenth', 'note emotion',\n",
       "       'lab emotion', 'color', 'bee lenth', 'predict', 'possibility'],\n",
       "      dtype='object')"
      ]
     },
     "execution_count": 643,
     "metadata": {},
     "output_type": "execute_result"
    }
   ],
   "source": [
    "text_index.join(res_index,how='left').columns"
   ]
  },
  {
   "cell_type": "code",
   "execution_count": 644,
   "metadata": {},
   "outputs": [],
   "source": [
    "total_index = text_index.join(res_index,how='left')"
   ]
  },
  {
   "cell_type": "code",
   "execution_count": 645,
   "metadata": {},
   "outputs": [],
   "source": [
    "total_file = total_index.reset_index()"
   ]
  },
  {
   "cell_type": "code",
   "execution_count": 646,
   "metadata": {},
   "outputs": [
    {
     "data": {
      "text/plain": [
       "Series([], Name: Detection Date, dtype: bool)"
      ]
     },
     "execution_count": 646,
     "metadata": {},
     "output_type": "execute_result"
    }
   ],
   "source": [
    "what = total_file.groupby('GlobalID').agg('count')['Detection Date']>1\n",
    "what[what==True]\n",
    "#无重复"
   ]
  },
  {
   "cell_type": "code",
   "execution_count": 647,
   "metadata": {},
   "outputs": [],
   "source": [
    "total_file.to_csv('./last/total_report_data.csv')"
   ]
  },
  {
   "cell_type": "code",
   "execution_count": 648,
   "metadata": {},
   "outputs": [],
   "source": [
    "total_file.rename(columns={'possibility':'CNNpossibility'}, inplace = True) "
   ]
  },
  {
   "cell_type": "code",
   "execution_count": 649,
   "metadata": {},
   "outputs": [],
   "source": [
    "total_file.to_csv('./last/total_report_data.csv')"
   ]
  },
  {
   "cell_type": "code",
   "execution_count": 650,
   "metadata": {},
   "outputs": [
    {
     "data": {
      "text/plain": [
       "Index(['GlobalID', 'Detection Date', 'Notes', 'Lab Status', 'Lab Comments',\n",
       "       'Submission Date', 'Latitude', 'Longitude', 'lenth', 'note emotion',\n",
       "       'lab emotion', 'color', 'bee lenth', 'predict', 'CNNpossibility'],\n",
       "      dtype='object')"
      ]
     },
     "execution_count": 650,
     "metadata": {},
     "output_type": "execute_result"
    }
   ],
   "source": [
    "total_file.columns"
   ]
  },
  {
   "cell_type": "code",
   "execution_count": 651,
   "metadata": {},
   "outputs": [],
   "source": [
    "total_file = total_file[['GlobalID', 'Detection Date', 'Notes', 'Lab Status', 'Lab Comments',\n",
    "       'Submission Date', 'Latitude', 'Longitude', 'lenth', 'note emotion',\n",
    "       'lab emotion', 'color', 'bee lenth', 'CNNpossibility']]"
   ]
  },
  {
   "cell_type": "code",
   "execution_count": 652,
   "metadata": {},
   "outputs": [],
   "source": [
    "total_file.to_csv('total_report_data.csv')"
   ]
  },
  {
   "cell_type": "code",
   "execution_count": 653,
   "metadata": {},
   "outputs": [
    {
     "name": "stdout",
     "output_type": "stream",
     "text": [
      "<class 'pandas.core.frame.DataFrame'>\n",
      "RangeIndex: 4440 entries, 0 to 4439\n",
      "Data columns (total 14 columns):\n",
      " #   Column           Non-Null Count  Dtype         \n",
      "---  ------           --------------  -----         \n",
      " 0   GlobalID         4440 non-null   object        \n",
      " 1   Detection Date   4440 non-null   object        \n",
      " 2   Notes            4440 non-null   object        \n",
      " 3   Lab Status       4440 non-null   object        \n",
      " 4   Lab Comments     4438 non-null   object        \n",
      " 5   Submission Date  4440 non-null   datetime64[ns]\n",
      " 6   Latitude         4440 non-null   float64       \n",
      " 7   Longitude        4440 non-null   float64       \n",
      " 8   lenth            4440 non-null   float64       \n",
      " 9   note emotion     4440 non-null   float64       \n",
      " 10  lab emotion      4440 non-null   float64       \n",
      " 11  color            4440 non-null   int64         \n",
      " 12  bee lenth        4440 non-null   int64         \n",
      " 13  CNNpossibility   1992 non-null   float64       \n",
      "dtypes: datetime64[ns](1), float64(6), int64(2), object(5)\n",
      "memory usage: 485.8+ KB\n"
     ]
    }
   ],
   "source": [
    "total_file.info()"
   ]
  },
  {
   "cell_type": "code",
   "execution_count": 654,
   "metadata": {},
   "outputs": [],
   "source": [
    "CNN_mean = total_file['CNNpossibility'].mean()"
   ]
  },
  {
   "cell_type": "code",
   "execution_count": 655,
   "metadata": {},
   "outputs": [
    {
     "data": {
      "text/plain": [
       "0.575819705040699"
      ]
     },
     "execution_count": 655,
     "metadata": {},
     "output_type": "execute_result"
    }
   ],
   "source": [
    "CNN_mean"
   ]
  },
  {
   "cell_type": "code",
   "execution_count": 656,
   "metadata": {},
   "outputs": [
    {
     "name": "stdout",
     "output_type": "stream",
     "text": [
      "<class 'pandas.core.frame.DataFrame'>\n",
      "RangeIndex: 4440 entries, 0 to 4439\n",
      "Data columns (total 14 columns):\n",
      " #   Column           Non-Null Count  Dtype         \n",
      "---  ------           --------------  -----         \n",
      " 0   GlobalID         4440 non-null   object        \n",
      " 1   Detection Date   4440 non-null   object        \n",
      " 2   Notes            4440 non-null   object        \n",
      " 3   Lab Status       4440 non-null   object        \n",
      " 4   Lab Comments     4438 non-null   object        \n",
      " 5   Submission Date  4440 non-null   datetime64[ns]\n",
      " 6   Latitude         4440 non-null   float64       \n",
      " 7   Longitude        4440 non-null   float64       \n",
      " 8   lenth            4440 non-null   float64       \n",
      " 9   note emotion     4440 non-null   float64       \n",
      " 10  lab emotion      4440 non-null   float64       \n",
      " 11  color            4440 non-null   int64         \n",
      " 12  bee lenth        4440 non-null   int64         \n",
      " 13  CNNpossibility   1992 non-null   float64       \n",
      "dtypes: datetime64[ns](1), float64(6), int64(2), object(5)\n",
      "memory usage: 485.8+ KB\n"
     ]
    }
   ],
   "source": [
    "total_file.info()"
   ]
  },
  {
   "cell_type": "code",
   "execution_count": 153,
   "metadata": {},
   "outputs": [],
   "source": [
    "del total_file['Season']"
   ]
  },
  {
   "cell_type": "code",
   "execution_count": 657,
   "metadata": {},
   "outputs": [],
   "source": [
    "new_file = total_file.copy()"
   ]
  },
  {
   "cell_type": "code",
   "execution_count": 658,
   "metadata": {},
   "outputs": [],
   "source": [
    "new_file['CNNpossibility'].fillna(CNN_mean,inplace=True)"
   ]
  },
  {
   "cell_type": "code",
   "execution_count": 659,
   "metadata": {},
   "outputs": [
    {
     "name": "stdout",
     "output_type": "stream",
     "text": [
      "<class 'pandas.core.frame.DataFrame'>\n",
      "RangeIndex: 4440 entries, 0 to 4439\n",
      "Data columns (total 14 columns):\n",
      " #   Column           Non-Null Count  Dtype         \n",
      "---  ------           --------------  -----         \n",
      " 0   GlobalID         4440 non-null   object        \n",
      " 1   Detection Date   4440 non-null   object        \n",
      " 2   Notes            4440 non-null   object        \n",
      " 3   Lab Status       4440 non-null   object        \n",
      " 4   Lab Comments     4438 non-null   object        \n",
      " 5   Submission Date  4440 non-null   datetime64[ns]\n",
      " 6   Latitude         4440 non-null   float64       \n",
      " 7   Longitude        4440 non-null   float64       \n",
      " 8   lenth            4440 non-null   float64       \n",
      " 9   note emotion     4440 non-null   float64       \n",
      " 10  lab emotion      4440 non-null   float64       \n",
      " 11  color            4440 non-null   int64         \n",
      " 12  bee lenth        4440 non-null   int64         \n",
      " 13  CNNpossibility   4440 non-null   float64       \n",
      "dtypes: datetime64[ns](1), float64(6), int64(2), object(5)\n",
      "memory usage: 485.8+ KB\n"
     ]
    }
   ],
   "source": [
    "new_file.info()"
   ]
  },
  {
   "cell_type": "code",
   "execution_count": 704,
   "metadata": {},
   "outputs": [],
   "source": [
    "new_file.to_csv('./last/new.csv')"
   ]
  },
  {
   "cell_type": "code",
   "execution_count": 728,
   "metadata": {},
   "outputs": [],
   "source": [
    "new_file['Season'] = new_file['Detection Date']\n",
    "new_file.to_csv('./last/new3.csv')"
   ]
  },
  {
   "cell_type": "code",
   "execution_count": 730,
   "metadata": {},
   "outputs": [],
   "source": [
    "cls_mapping = {\n",
    "    'Negative ID': 0,\n",
    "    'Positive ID': 1,\n",
    "    'Unprocessed': 2,\n",
    "    'Unverified': 2\n",
    "}\n",
    "\n",
    "new_file['Lab Status']=new_file['Lab Status'].map(cls_mapping)"
   ]
  },
  {
   "cell_type": "code",
   "execution_count": 735,
   "metadata": {},
   "outputs": [],
   "source": [
    "new_file['Season'] = new_file['Submission Date'].dt.month"
   ]
  },
  {
   "cell_type": "code",
   "execution_count": 736,
   "metadata": {},
   "outputs": [
    {
     "data": {
      "text/html": [
       "<div>\n",
       "<style scoped>\n",
       "    .dataframe tbody tr th:only-of-type {\n",
       "        vertical-align: middle;\n",
       "    }\n",
       "\n",
       "    .dataframe tbody tr th {\n",
       "        vertical-align: top;\n",
       "    }\n",
       "\n",
       "    .dataframe thead th {\n",
       "        text-align: right;\n",
       "    }\n",
       "</style>\n",
       "<table border=\"1\" class=\"dataframe\">\n",
       "  <thead>\n",
       "    <tr style=\"text-align: right;\">\n",
       "      <th></th>\n",
       "      <th>GlobalID</th>\n",
       "      <th>Detection Date</th>\n",
       "      <th>Notes</th>\n",
       "      <th>Lab Status</th>\n",
       "      <th>Lab Comments</th>\n",
       "      <th>Submission Date</th>\n",
       "      <th>Latitude</th>\n",
       "      <th>Longitude</th>\n",
       "      <th>lenth</th>\n",
       "      <th>note emotion</th>\n",
       "      <th>lab emotion</th>\n",
       "      <th>color</th>\n",
       "      <th>bee lenth</th>\n",
       "      <th>CNNpossibility</th>\n",
       "      <th>Season</th>\n",
       "    </tr>\n",
       "  </thead>\n",
       "  <tbody>\n",
       "    <tr>\n",
       "      <th>0</th>\n",
       "      <td>{0009942D-2F3E-4A2B-9D93-62CD8BA69B8E}</td>\n",
       "      <td>2020-08-18 00:00:00</td>\n",
       "      <td>Saw largest hornet I've ever seen, orange and ...</td>\n",
       "      <td>2</td>\n",
       "      <td></td>\n",
       "      <td>2020-08-19</td>\n",
       "      <td>47.527105</td>\n",
       "      <td>-122.264096</td>\n",
       "      <td>0.430830</td>\n",
       "      <td>0.273981</td>\n",
       "      <td>0.000000</td>\n",
       "      <td>1</td>\n",
       "      <td>0</td>\n",
       "      <td>0.575820</td>\n",
       "      <td>8</td>\n",
       "    </tr>\n",
       "    <tr>\n",
       "      <th>1</th>\n",
       "      <td>{000F804E-2BA9-4838-8E5C-398EE12275E1}</td>\n",
       "      <td>2020-04-23 00:00:00</td>\n",
       "      <td>I though it was a queen wasp and looked for a ...</td>\n",
       "      <td>2</td>\n",
       "      <td></td>\n",
       "      <td>2020-06-12</td>\n",
       "      <td>47.309925</td>\n",
       "      <td>-122.305768</td>\n",
       "      <td>0.288538</td>\n",
       "      <td>0.053153</td>\n",
       "      <td>0.000000</td>\n",
       "      <td>0</td>\n",
       "      <td>0</td>\n",
       "      <td>0.575820</td>\n",
       "      <td>6</td>\n",
       "    </tr>\n",
       "    <tr>\n",
       "      <th>2</th>\n",
       "      <td>{003166CE-682C-40AD-9850-8F9CB145B79D}</td>\n",
       "      <td>2020-07-07 00:00:00</td>\n",
       "      <td>Saw this on the side of the road, the entire t...</td>\n",
       "      <td>0</td>\n",
       "      <td>That's a female sawfly. That is her ovipositor...</td>\n",
       "      <td>2020-07-07</td>\n",
       "      <td>48.935934</td>\n",
       "      <td>-122.736701</td>\n",
       "      <td>0.699605</td>\n",
       "      <td>0.060766</td>\n",
       "      <td>0.067496</td>\n",
       "      <td>1</td>\n",
       "      <td>1</td>\n",
       "      <td>0.544641</td>\n",
       "      <td>7</td>\n",
       "    </tr>\n",
       "    <tr>\n",
       "      <th>3</th>\n",
       "      <td>{003B9570-B649-4452-93B4-B83025F12014}</td>\n",
       "      <td>2020-08-16 00:00:00</td>\n",
       "      <td>This is a 1.75\" long orange and black wasp and...</td>\n",
       "      <td>2</td>\n",
       "      <td></td>\n",
       "      <td>2020-08-16</td>\n",
       "      <td>47.602559</td>\n",
       "      <td>-117.453877</td>\n",
       "      <td>0.996047</td>\n",
       "      <td>0.898562</td>\n",
       "      <td>0.000000</td>\n",
       "      <td>1</td>\n",
       "      <td>1</td>\n",
       "      <td>0.575820</td>\n",
       "      <td>8</td>\n",
       "    </tr>\n",
       "    <tr>\n",
       "      <th>4</th>\n",
       "      <td>{003BC99B-BC86-4D6A-BD68-9DE4C0271103}</td>\n",
       "      <td>2020-08-16 00:00:00</td>\n",
       "      <td>Noticed on my French Drain during watering</td>\n",
       "      <td>2</td>\n",
       "      <td></td>\n",
       "      <td>2020-08-17</td>\n",
       "      <td>47.323825</td>\n",
       "      <td>-122.372725</td>\n",
       "      <td>0.162055</td>\n",
       "      <td>0.033232</td>\n",
       "      <td>0.000000</td>\n",
       "      <td>0</td>\n",
       "      <td>0</td>\n",
       "      <td>0.575820</td>\n",
       "      <td>8</td>\n",
       "    </tr>\n",
       "  </tbody>\n",
       "</table>\n",
       "</div>"
      ],
      "text/plain": [
       "                                 GlobalID       Detection Date  \\\n",
       "0  {0009942D-2F3E-4A2B-9D93-62CD8BA69B8E}  2020-08-18 00:00:00   \n",
       "1  {000F804E-2BA9-4838-8E5C-398EE12275E1}  2020-04-23 00:00:00   \n",
       "2  {003166CE-682C-40AD-9850-8F9CB145B79D}  2020-07-07 00:00:00   \n",
       "3  {003B9570-B649-4452-93B4-B83025F12014}  2020-08-16 00:00:00   \n",
       "4  {003BC99B-BC86-4D6A-BD68-9DE4C0271103}  2020-08-16 00:00:00   \n",
       "\n",
       "                                               Notes  Lab Status  \\\n",
       "0  Saw largest hornet I've ever seen, orange and ...           2   \n",
       "1  I though it was a queen wasp and looked for a ...           2   \n",
       "2  Saw this on the side of the road, the entire t...           0   \n",
       "3  This is a 1.75\" long orange and black wasp and...           2   \n",
       "4         Noticed on my French Drain during watering           2   \n",
       "\n",
       "                                        Lab Comments Submission Date  \\\n",
       "0                                                         2020-08-19   \n",
       "1                                                         2020-06-12   \n",
       "2  That's a female sawfly. That is her ovipositor...      2020-07-07   \n",
       "3                                                         2020-08-16   \n",
       "4                                                         2020-08-17   \n",
       "\n",
       "    Latitude   Longitude     lenth  note emotion  lab emotion  color  \\\n",
       "0  47.527105 -122.264096  0.430830      0.273981     0.000000      1   \n",
       "1  47.309925 -122.305768  0.288538      0.053153     0.000000      0   \n",
       "2  48.935934 -122.736701  0.699605      0.060766     0.067496      1   \n",
       "3  47.602559 -117.453877  0.996047      0.898562     0.000000      1   \n",
       "4  47.323825 -122.372725  0.162055      0.033232     0.000000      0   \n",
       "\n",
       "   bee lenth  CNNpossibility  Season  \n",
       "0          0        0.575820       8  \n",
       "1          0        0.575820       6  \n",
       "2          1        0.544641       7  \n",
       "3          1        0.575820       8  \n",
       "4          0        0.575820       8  "
      ]
     },
     "execution_count": 736,
     "metadata": {},
     "output_type": "execute_result"
    }
   ],
   "source": [
    "new_file.head()"
   ]
  },
  {
   "cell_type": "code",
   "execution_count": 737,
   "metadata": {},
   "outputs": [],
   "source": [
    "new_file.to_csv('./last/best.csv')"
   ]
  },
  {
   "cell_type": "code",
   "execution_count": 710,
   "metadata": {},
   "outputs": [
    {
     "ename": "UnicodeDecodeError",
     "evalue": "'utf-8' codec can't decode bytes in position 20270-20271: invalid continuation byte",
     "output_type": "error",
     "traceback": [
      "\u001b[1;31m---------------------------------------------------------------------------\u001b[0m",
      "\u001b[1;31mUnicodeDecodeError\u001b[0m                        Traceback (most recent call last)",
      "\u001b[1;32m<ipython-input-710-c80af25b2c34>\u001b[0m in \u001b[0;36m<module>\u001b[1;34m\u001b[0m\n\u001b[1;32m----> 1\u001b[1;33m \u001b[0ma\u001b[0m \u001b[1;33m=\u001b[0m\u001b[0mpd\u001b[0m\u001b[1;33m.\u001b[0m\u001b[0mread_csv\u001b[0m\u001b[1;33m(\u001b[0m\u001b[1;34m'./last/new3.csv'\u001b[0m\u001b[1;33m)\u001b[0m\u001b[1;33m\u001b[0m\u001b[1;33m\u001b[0m\u001b[0m\n\u001b[0m",
      "\u001b[1;32mE:\\Anaconda3\\lib\\site-packages\\pandas\\io\\parsers.py\u001b[0m in \u001b[0;36mread_csv\u001b[1;34m(filepath_or_buffer, sep, delimiter, header, names, index_col, usecols, squeeze, prefix, mangle_dupe_cols, dtype, engine, converters, true_values, false_values, skipinitialspace, skiprows, skipfooter, nrows, na_values, keep_default_na, na_filter, verbose, skip_blank_lines, parse_dates, infer_datetime_format, keep_date_col, date_parser, dayfirst, cache_dates, iterator, chunksize, compression, thousands, decimal, lineterminator, quotechar, quoting, doublequote, escapechar, comment, encoding, dialect, error_bad_lines, warn_bad_lines, delim_whitespace, low_memory, memory_map, float_precision, storage_options)\u001b[0m\n\u001b[0;32m    603\u001b[0m     \u001b[0mkwds\u001b[0m\u001b[1;33m.\u001b[0m\u001b[0mupdate\u001b[0m\u001b[1;33m(\u001b[0m\u001b[0mkwds_defaults\u001b[0m\u001b[1;33m)\u001b[0m\u001b[1;33m\u001b[0m\u001b[1;33m\u001b[0m\u001b[0m\n\u001b[0;32m    604\u001b[0m \u001b[1;33m\u001b[0m\u001b[0m\n\u001b[1;32m--> 605\u001b[1;33m     \u001b[1;32mreturn\u001b[0m \u001b[0m_read\u001b[0m\u001b[1;33m(\u001b[0m\u001b[0mfilepath_or_buffer\u001b[0m\u001b[1;33m,\u001b[0m \u001b[0mkwds\u001b[0m\u001b[1;33m)\u001b[0m\u001b[1;33m\u001b[0m\u001b[1;33m\u001b[0m\u001b[0m\n\u001b[0m\u001b[0;32m    606\u001b[0m \u001b[1;33m\u001b[0m\u001b[0m\n\u001b[0;32m    607\u001b[0m \u001b[1;33m\u001b[0m\u001b[0m\n",
      "\u001b[1;32mE:\\Anaconda3\\lib\\site-packages\\pandas\\io\\parsers.py\u001b[0m in \u001b[0;36m_read\u001b[1;34m(filepath_or_buffer, kwds)\u001b[0m\n\u001b[0;32m    455\u001b[0m \u001b[1;33m\u001b[0m\u001b[0m\n\u001b[0;32m    456\u001b[0m     \u001b[1;31m# Create the parser.\u001b[0m\u001b[1;33m\u001b[0m\u001b[1;33m\u001b[0m\u001b[1;33m\u001b[0m\u001b[0m\n\u001b[1;32m--> 457\u001b[1;33m     \u001b[0mparser\u001b[0m \u001b[1;33m=\u001b[0m \u001b[0mTextFileReader\u001b[0m\u001b[1;33m(\u001b[0m\u001b[0mfilepath_or_buffer\u001b[0m\u001b[1;33m,\u001b[0m \u001b[1;33m**\u001b[0m\u001b[0mkwds\u001b[0m\u001b[1;33m)\u001b[0m\u001b[1;33m\u001b[0m\u001b[1;33m\u001b[0m\u001b[0m\n\u001b[0m\u001b[0;32m    458\u001b[0m \u001b[1;33m\u001b[0m\u001b[0m\n\u001b[0;32m    459\u001b[0m     \u001b[1;32mif\u001b[0m \u001b[0mchunksize\u001b[0m \u001b[1;32mor\u001b[0m \u001b[0miterator\u001b[0m\u001b[1;33m:\u001b[0m\u001b[1;33m\u001b[0m\u001b[1;33m\u001b[0m\u001b[0m\n",
      "\u001b[1;32mE:\\Anaconda3\\lib\\site-packages\\pandas\\io\\parsers.py\u001b[0m in \u001b[0;36m__init__\u001b[1;34m(self, f, engine, **kwds)\u001b[0m\n\u001b[0;32m    812\u001b[0m             \u001b[0mself\u001b[0m\u001b[1;33m.\u001b[0m\u001b[0moptions\u001b[0m\u001b[1;33m[\u001b[0m\u001b[1;34m\"has_index_names\"\u001b[0m\u001b[1;33m]\u001b[0m \u001b[1;33m=\u001b[0m \u001b[0mkwds\u001b[0m\u001b[1;33m[\u001b[0m\u001b[1;34m\"has_index_names\"\u001b[0m\u001b[1;33m]\u001b[0m\u001b[1;33m\u001b[0m\u001b[1;33m\u001b[0m\u001b[0m\n\u001b[0;32m    813\u001b[0m \u001b[1;33m\u001b[0m\u001b[0m\n\u001b[1;32m--> 814\u001b[1;33m         \u001b[0mself\u001b[0m\u001b[1;33m.\u001b[0m\u001b[0m_engine\u001b[0m \u001b[1;33m=\u001b[0m \u001b[0mself\u001b[0m\u001b[1;33m.\u001b[0m\u001b[0m_make_engine\u001b[0m\u001b[1;33m(\u001b[0m\u001b[0mself\u001b[0m\u001b[1;33m.\u001b[0m\u001b[0mengine\u001b[0m\u001b[1;33m)\u001b[0m\u001b[1;33m\u001b[0m\u001b[1;33m\u001b[0m\u001b[0m\n\u001b[0m\u001b[0;32m    815\u001b[0m \u001b[1;33m\u001b[0m\u001b[0m\n\u001b[0;32m    816\u001b[0m     \u001b[1;32mdef\u001b[0m \u001b[0mclose\u001b[0m\u001b[1;33m(\u001b[0m\u001b[0mself\u001b[0m\u001b[1;33m)\u001b[0m\u001b[1;33m:\u001b[0m\u001b[1;33m\u001b[0m\u001b[1;33m\u001b[0m\u001b[0m\n",
      "\u001b[1;32mE:\\Anaconda3\\lib\\site-packages\\pandas\\io\\parsers.py\u001b[0m in \u001b[0;36m_make_engine\u001b[1;34m(self, engine)\u001b[0m\n\u001b[0;32m   1043\u001b[0m             )\n\u001b[0;32m   1044\u001b[0m         \u001b[1;31m# error: Too many arguments for \"ParserBase\"\u001b[0m\u001b[1;33m\u001b[0m\u001b[1;33m\u001b[0m\u001b[1;33m\u001b[0m\u001b[0m\n\u001b[1;32m-> 1045\u001b[1;33m         \u001b[1;32mreturn\u001b[0m \u001b[0mmapping\u001b[0m\u001b[1;33m[\u001b[0m\u001b[0mengine\u001b[0m\u001b[1;33m]\u001b[0m\u001b[1;33m(\u001b[0m\u001b[0mself\u001b[0m\u001b[1;33m.\u001b[0m\u001b[0mf\u001b[0m\u001b[1;33m,\u001b[0m \u001b[1;33m**\u001b[0m\u001b[0mself\u001b[0m\u001b[1;33m.\u001b[0m\u001b[0moptions\u001b[0m\u001b[1;33m)\u001b[0m  \u001b[1;31m# type: ignore[call-arg]\u001b[0m\u001b[1;33m\u001b[0m\u001b[1;33m\u001b[0m\u001b[0m\n\u001b[0m\u001b[0;32m   1046\u001b[0m \u001b[1;33m\u001b[0m\u001b[0m\n\u001b[0;32m   1047\u001b[0m     \u001b[1;32mdef\u001b[0m \u001b[0m_failover_to_python\u001b[0m\u001b[1;33m(\u001b[0m\u001b[0mself\u001b[0m\u001b[1;33m)\u001b[0m\u001b[1;33m:\u001b[0m\u001b[1;33m\u001b[0m\u001b[1;33m\u001b[0m\u001b[0m\n",
      "\u001b[1;32mE:\\Anaconda3\\lib\\site-packages\\pandas\\io\\parsers.py\u001b[0m in \u001b[0;36m__init__\u001b[1;34m(self, src, **kwds)\u001b[0m\n\u001b[0;32m   1891\u001b[0m \u001b[1;33m\u001b[0m\u001b[0m\n\u001b[0;32m   1892\u001b[0m         \u001b[1;32mtry\u001b[0m\u001b[1;33m:\u001b[0m\u001b[1;33m\u001b[0m\u001b[1;33m\u001b[0m\u001b[0m\n\u001b[1;32m-> 1893\u001b[1;33m             \u001b[0mself\u001b[0m\u001b[1;33m.\u001b[0m\u001b[0m_reader\u001b[0m \u001b[1;33m=\u001b[0m \u001b[0mparsers\u001b[0m\u001b[1;33m.\u001b[0m\u001b[0mTextReader\u001b[0m\u001b[1;33m(\u001b[0m\u001b[0mself\u001b[0m\u001b[1;33m.\u001b[0m\u001b[0mhandles\u001b[0m\u001b[1;33m.\u001b[0m\u001b[0mhandle\u001b[0m\u001b[1;33m,\u001b[0m \u001b[1;33m**\u001b[0m\u001b[0mkwds\u001b[0m\u001b[1;33m)\u001b[0m\u001b[1;33m\u001b[0m\u001b[1;33m\u001b[0m\u001b[0m\n\u001b[0m\u001b[0;32m   1894\u001b[0m         \u001b[1;32mexcept\u001b[0m \u001b[0mException\u001b[0m\u001b[1;33m:\u001b[0m\u001b[1;33m\u001b[0m\u001b[1;33m\u001b[0m\u001b[0m\n\u001b[0;32m   1895\u001b[0m             \u001b[0mself\u001b[0m\u001b[1;33m.\u001b[0m\u001b[0mhandles\u001b[0m\u001b[1;33m.\u001b[0m\u001b[0mclose\u001b[0m\u001b[1;33m(\u001b[0m\u001b[1;33m)\u001b[0m\u001b[1;33m\u001b[0m\u001b[1;33m\u001b[0m\u001b[0m\n",
      "\u001b[1;32mpandas\\_libs\\parsers.pyx\u001b[0m in \u001b[0;36mpandas._libs.parsers.TextReader.__cinit__\u001b[1;34m()\u001b[0m\n",
      "\u001b[1;32mpandas\\_libs\\parsers.pyx\u001b[0m in \u001b[0;36mpandas._libs.parsers.TextReader._get_header\u001b[1;34m()\u001b[0m\n",
      "\u001b[1;32mpandas\\_libs\\parsers.pyx\u001b[0m in \u001b[0;36mpandas._libs.parsers.TextReader._tokenize_rows\u001b[1;34m()\u001b[0m\n",
      "\u001b[1;32mpandas\\_libs\\parsers.pyx\u001b[0m in \u001b[0;36mpandas._libs.parsers.raise_parser_error\u001b[1;34m()\u001b[0m\n",
      "\u001b[1;31mUnicodeDecodeError\u001b[0m: 'utf-8' codec can't decode bytes in position 20270-20271: invalid continuation byte"
     ]
    }
   ],
   "source": [
    "a =pd.read_csv('./last/new3.csv')"
   ]
  },
  {
   "cell_type": "markdown",
   "metadata": {},
   "source": [
    "春天345- 0  \n",
    "夏天678- 1  \n",
    "秋天9 10 11- 2  \n",
    "冬天 12 1 2 -3  "
   ]
  },
  {
   "cell_type": "code",
   "execution_count": 684,
   "metadata": {},
   "outputs": [
    {
     "data": {
      "text/plain": [
       "Index(['GlobalID', 'Detection Date', 'Notes', 'Lab Status', 'Lab Comments',\n",
       "       'Submission Date', 'Latitude', 'Longitude', 'lenth', 'note emotion',\n",
       "       'lab emotion', 'color', 'bee lenth', 'CNNpossibility'],\n",
       "      dtype='object')"
      ]
     },
     "execution_count": 684,
     "metadata": {},
     "output_type": "execute_result"
    }
   ],
   "source": [
    "new_file.columns"
   ]
  },
  {
   "cell_type": "code",
   "execution_count": 685,
   "metadata": {},
   "outputs": [],
   "source": [
    "my_data=new_file[['GlobalID','Detection Date','Latitude','Longitude','lenth','note emotion','lab emotion','color', 'bee lenth', 'CNNpossibility','Lab Status']]"
   ]
  },
  {
   "cell_type": "code",
   "execution_count": 686,
   "metadata": {},
   "outputs": [
    {
     "data": {
      "text/plain": [
       "Index(['GlobalID', 'Detection Date', 'Latitude', 'Longitude', 'lenth',\n",
       "       'note emotion', 'lab emotion', 'color', 'bee lenth', 'CNNpossibility',\n",
       "       'Lab Status'],\n",
       "      dtype='object')"
      ]
     },
     "execution_count": 686,
     "metadata": {},
     "output_type": "execute_result"
    }
   ],
   "source": [
    "my_data.columns"
   ]
  },
  {
   "cell_type": "code",
   "execution_count": 687,
   "metadata": {},
   "outputs": [],
   "source": [
    "data = my_data[['GlobalID','Detection Date','Latitude','Longitude','lenth','note emotion','lab emotion','color', 'bee lenth', 'CNNpossibility']]"
   ]
  },
  {
   "cell_type": "code",
   "execution_count": 688,
   "metadata": {},
   "outputs": [],
   "source": [
    "data  = data.set_index('GlobalID')"
   ]
  },
  {
   "cell_type": "code",
   "execution_count": 689,
   "metadata": {},
   "outputs": [],
   "source": [
    "data=data.reset_index()"
   ]
  },
  {
   "cell_type": "code",
   "execution_count": 695,
   "metadata": {},
   "outputs": [],
   "source": [
    "data.to_csv('./last/new2.csv')"
   ]
  },
  {
   "cell_type": "code",
   "execution_count": 696,
   "metadata": {},
   "outputs": [
    {
     "data": {
      "text/html": [
       "<div>\n",
       "<style scoped>\n",
       "    .dataframe tbody tr th:only-of-type {\n",
       "        vertical-align: middle;\n",
       "    }\n",
       "\n",
       "    .dataframe tbody tr th {\n",
       "        vertical-align: top;\n",
       "    }\n",
       "\n",
       "    .dataframe thead th {\n",
       "        text-align: right;\n",
       "    }\n",
       "</style>\n",
       "<table border=\"1\" class=\"dataframe\">\n",
       "  <thead>\n",
       "    <tr style=\"text-align: right;\">\n",
       "      <th></th>\n",
       "      <th>Unnamed: 0</th>\n",
       "      <th>GlobalID</th>\n",
       "      <th>Detection Date</th>\n",
       "      <th>Latitude</th>\n",
       "      <th>Longitude</th>\n",
       "      <th>lenth</th>\n",
       "      <th>note emotion</th>\n",
       "      <th>lab emotion</th>\n",
       "      <th>color</th>\n",
       "      <th>bee lenth</th>\n",
       "      <th>CNNpossibility</th>\n",
       "      <th>Season</th>\n",
       "    </tr>\n",
       "  </thead>\n",
       "  <tbody>\n",
       "    <tr>\n",
       "      <th>0</th>\n",
       "      <td>0</td>\n",
       "      <td>{0009942D-2F3E-4A2B-9D93-62CD8BA69B8E}</td>\n",
       "      <td>2020/8/18 0:00</td>\n",
       "      <td>47.527105</td>\n",
       "      <td>-122.264096</td>\n",
       "      <td>0.430830</td>\n",
       "      <td>0.273981</td>\n",
       "      <td>0.000000</td>\n",
       "      <td>1</td>\n",
       "      <td>0</td>\n",
       "      <td>0.575820</td>\n",
       "      <td>08</td>\n",
       "    </tr>\n",
       "    <tr>\n",
       "      <th>1</th>\n",
       "      <td>1</td>\n",
       "      <td>{000F804E-2BA9-4838-8E5C-398EE12275E1}</td>\n",
       "      <td>2020/4/23 0:00</td>\n",
       "      <td>47.309925</td>\n",
       "      <td>-122.305768</td>\n",
       "      <td>0.288538</td>\n",
       "      <td>0.053153</td>\n",
       "      <td>0.000000</td>\n",
       "      <td>0</td>\n",
       "      <td>0</td>\n",
       "      <td>0.575820</td>\n",
       "      <td>04</td>\n",
       "    </tr>\n",
       "    <tr>\n",
       "      <th>2</th>\n",
       "      <td>2</td>\n",
       "      <td>{003166CE-682C-40AD-9850-8F9CB145B79D}</td>\n",
       "      <td>2020/7/7 0:00</td>\n",
       "      <td>48.935934</td>\n",
       "      <td>-122.736701</td>\n",
       "      <td>0.699605</td>\n",
       "      <td>0.060766</td>\n",
       "      <td>0.067496</td>\n",
       "      <td>1</td>\n",
       "      <td>1</td>\n",
       "      <td>0.544641</td>\n",
       "      <td>07</td>\n",
       "    </tr>\n",
       "    <tr>\n",
       "      <th>3</th>\n",
       "      <td>3</td>\n",
       "      <td>{003B9570-B649-4452-93B4-B83025F12014}</td>\n",
       "      <td>2020/8/16 0:00</td>\n",
       "      <td>47.602559</td>\n",
       "      <td>-117.453877</td>\n",
       "      <td>0.996047</td>\n",
       "      <td>0.898562</td>\n",
       "      <td>0.000000</td>\n",
       "      <td>1</td>\n",
       "      <td>1</td>\n",
       "      <td>0.575820</td>\n",
       "      <td>08</td>\n",
       "    </tr>\n",
       "    <tr>\n",
       "      <th>4</th>\n",
       "      <td>4</td>\n",
       "      <td>{003BC99B-BC86-4D6A-BD68-9DE4C0271103}</td>\n",
       "      <td>2020/8/16 0:00</td>\n",
       "      <td>47.323825</td>\n",
       "      <td>-122.372725</td>\n",
       "      <td>0.162055</td>\n",
       "      <td>0.033232</td>\n",
       "      <td>0.000000</td>\n",
       "      <td>0</td>\n",
       "      <td>0</td>\n",
       "      <td>0.575820</td>\n",
       "      <td>08</td>\n",
       "    </tr>\n",
       "    <tr>\n",
       "      <th>...</th>\n",
       "      <td>...</td>\n",
       "      <td>...</td>\n",
       "      <td>...</td>\n",
       "      <td>...</td>\n",
       "      <td>...</td>\n",
       "      <td>...</td>\n",
       "      <td>...</td>\n",
       "      <td>...</td>\n",
       "      <td>...</td>\n",
       "      <td>...</td>\n",
       "      <td>...</td>\n",
       "      <td>...</td>\n",
       "    </tr>\n",
       "    <tr>\n",
       "      <th>4435</th>\n",
       "      <td>4435</td>\n",
       "      <td>{FFA96EE6-153C-4E14-B314-93DA2A4FAD55}</td>\n",
       "      <td>2020/8/1 0:00</td>\n",
       "      <td>48.035730</td>\n",
       "      <td>-122.773200</td>\n",
       "      <td>1.000000</td>\n",
       "      <td>0.007733</td>\n",
       "      <td>0.000000</td>\n",
       "      <td>1</td>\n",
       "      <td>1</td>\n",
       "      <td>0.575820</td>\n",
       "      <td>08</td>\n",
       "    </tr>\n",
       "    <tr>\n",
       "      <th>4436</th>\n",
       "      <td>4436</td>\n",
       "      <td>{FFAB9655-A203-47D6-BAFB-BFB0818E7CDD}</td>\n",
       "      <td>2020/6/14 0:00</td>\n",
       "      <td>47.287735</td>\n",
       "      <td>-116.936844</td>\n",
       "      <td>0.446640</td>\n",
       "      <td>0.348076</td>\n",
       "      <td>0.353948</td>\n",
       "      <td>0</td>\n",
       "      <td>1</td>\n",
       "      <td>0.714613</td>\n",
       "      <td>06</td>\n",
       "    </tr>\n",
       "    <tr>\n",
       "      <th>4437</th>\n",
       "      <td>4437</td>\n",
       "      <td>{FFCF73D5-EC41-4EE3-A3A6-2DCD831E4D92}</td>\n",
       "      <td>2020/5/17 0:00</td>\n",
       "      <td>47.436259</td>\n",
       "      <td>-122.038348</td>\n",
       "      <td>0.992095</td>\n",
       "      <td>0.092946</td>\n",
       "      <td>0.000000</td>\n",
       "      <td>1</td>\n",
       "      <td>1</td>\n",
       "      <td>0.575820</td>\n",
       "      <td>05</td>\n",
       "    </tr>\n",
       "    <tr>\n",
       "      <th>4438</th>\n",
       "      <td>4438</td>\n",
       "      <td>{FFD28418-72D8-4F9F-8A52-86A26874D4F2}</td>\n",
       "      <td>2020/9/11 0:00</td>\n",
       "      <td>47.738572</td>\n",
       "      <td>-122.339470</td>\n",
       "      <td>0.193676</td>\n",
       "      <td>0.175882</td>\n",
       "      <td>0.000000</td>\n",
       "      <td>0</td>\n",
       "      <td>0</td>\n",
       "      <td>0.575820</td>\n",
       "      <td>09</td>\n",
       "    </tr>\n",
       "    <tr>\n",
       "      <th>4439</th>\n",
       "      <td>4439</td>\n",
       "      <td>{FFD85AC0-D1D1-4CB6-BDD4-982A1E341D4A}</td>\n",
       "      <td>2020/9/16 0:00</td>\n",
       "      <td>48.853501</td>\n",
       "      <td>-122.613918</td>\n",
       "      <td>1.000000</td>\n",
       "      <td>0.650064</td>\n",
       "      <td>0.000000</td>\n",
       "      <td>1</td>\n",
       "      <td>1</td>\n",
       "      <td>0.575820</td>\n",
       "      <td>09</td>\n",
       "    </tr>\n",
       "  </tbody>\n",
       "</table>\n",
       "<p>4440 rows × 12 columns</p>\n",
       "</div>"
      ],
      "text/plain": [
       "      Unnamed: 0                                GlobalID  Detection Date  \\\n",
       "0              0  {0009942D-2F3E-4A2B-9D93-62CD8BA69B8E}  2020/8/18 0:00   \n",
       "1              1  {000F804E-2BA9-4838-8E5C-398EE12275E1}  2020/4/23 0:00   \n",
       "2              2  {003166CE-682C-40AD-9850-8F9CB145B79D}   2020/7/7 0:00   \n",
       "3              3  {003B9570-B649-4452-93B4-B83025F12014}  2020/8/16 0:00   \n",
       "4              4  {003BC99B-BC86-4D6A-BD68-9DE4C0271103}  2020/8/16 0:00   \n",
       "...          ...                                     ...             ...   \n",
       "4435        4435  {FFA96EE6-153C-4E14-B314-93DA2A4FAD55}   2020/8/1 0:00   \n",
       "4436        4436  {FFAB9655-A203-47D6-BAFB-BFB0818E7CDD}  2020/6/14 0:00   \n",
       "4437        4437  {FFCF73D5-EC41-4EE3-A3A6-2DCD831E4D92}  2020/5/17 0:00   \n",
       "4438        4438  {FFD28418-72D8-4F9F-8A52-86A26874D4F2}  2020/9/11 0:00   \n",
       "4439        4439  {FFD85AC0-D1D1-4CB6-BDD4-982A1E341D4A}  2020/9/16 0:00   \n",
       "\n",
       "       Latitude   Longitude     lenth  note emotion  lab emotion  color  \\\n",
       "0     47.527105 -122.264096  0.430830      0.273981     0.000000      1   \n",
       "1     47.309925 -122.305768  0.288538      0.053153     0.000000      0   \n",
       "2     48.935934 -122.736701  0.699605      0.060766     0.067496      1   \n",
       "3     47.602559 -117.453877  0.996047      0.898562     0.000000      1   \n",
       "4     47.323825 -122.372725  0.162055      0.033232     0.000000      0   \n",
       "...         ...         ...       ...           ...          ...    ...   \n",
       "4435  48.035730 -122.773200  1.000000      0.007733     0.000000      1   \n",
       "4436  47.287735 -116.936844  0.446640      0.348076     0.353948      0   \n",
       "4437  47.436259 -122.038348  0.992095      0.092946     0.000000      1   \n",
       "4438  47.738572 -122.339470  0.193676      0.175882     0.000000      0   \n",
       "4439  48.853501 -122.613918  1.000000      0.650064     0.000000      1   \n",
       "\n",
       "      bee lenth  CNNpossibility Season  \n",
       "0             0        0.575820     08  \n",
       "1             0        0.575820     04  \n",
       "2             1        0.544641     07  \n",
       "3             1        0.575820     08  \n",
       "4             0        0.575820     08  \n",
       "...         ...             ...    ...  \n",
       "4435          1        0.575820     08  \n",
       "4436          1        0.714613     06  \n",
       "4437          1        0.575820     05  \n",
       "4438          0        0.575820     09  \n",
       "4439          1        0.575820     09  \n",
       "\n",
       "[4440 rows x 12 columns]"
      ]
     },
     "execution_count": 696,
     "metadata": {},
     "output_type": "execute_result"
    }
   ],
   "source": [
    "pd.read_csv('./last/new2.csv')"
   ]
  },
  {
   "cell_type": "code",
   "execution_count": 691,
   "metadata": {},
   "outputs": [],
   "source": [
    "SeasonDict=[0,4,4,1,1,1,2,2,2,3,3,3,4]"
   ]
  },
  {
   "cell_type": "code",
   "execution_count": 693,
   "metadata": {},
   "outputs": [],
   "source": [
    "data['Season']= data['Detection Date']"
   ]
  },
  {
   "cell_type": "code",
   "execution_count": null,
   "metadata": {},
   "outputs": [],
   "source": []
  },
  {
   "cell_type": "code",
   "execution_count": 327,
   "metadata": {},
   "outputs": [],
   "source": [
    "a=lis.apply(lambda x:x)"
   ]
  },
  {
   "cell_type": "code",
   "execution_count": 329,
   "metadata": {},
   "outputs": [],
   "source": [
    "import datetime i"
   ]
  },
  {
   "cell_type": "code",
   "execution_count": 334,
   "metadata": {},
   "outputs": [
    {
     "ename": "AttributeError",
     "evalue": "'str' object has no attribute 'strftime'",
     "output_type": "error",
     "traceback": [
      "\u001b[1;31m---------------------------------------------------------------------------\u001b[0m",
      "\u001b[1;31mAttributeError\u001b[0m                            Traceback (most recent call last)",
      "\u001b[1;32m<ipython-input-334-797680018a97>\u001b[0m in \u001b[0;36m<module>\u001b[1;34m\u001b[0m\n\u001b[1;32m----> 1\u001b[1;33m \u001b[1;33m[\u001b[0m \u001b[0mint\u001b[0m\u001b[1;33m(\u001b[0m\u001b[0mstr\u001b[0m\u001b[1;33m(\u001b[0m\u001b[0mi\u001b[0m\u001b[1;33m.\u001b[0m\u001b[0mstrftime\u001b[0m\u001b[1;33m(\u001b[0m\u001b[1;34m\"%Y-%m-%d %H:%M:%S\"\u001b[0m\u001b[1;33m)\u001b[0m\u001b[1;33m.\u001b[0m\u001b[0msplit\u001b[0m\u001b[1;33m(\u001b[0m\u001b[1;34m'-'\u001b[0m\u001b[1;33m)\u001b[0m\u001b[1;33m[\u001b[0m\u001b[1;36m1\u001b[0m\u001b[1;33m]\u001b[0m\u001b[1;33m)\u001b[0m\u001b[1;33m)\u001b[0m \u001b[1;32mfor\u001b[0m \u001b[0mi\u001b[0m \u001b[1;32min\u001b[0m \u001b[0mlis\u001b[0m\u001b[1;33m]\u001b[0m\u001b[1;33m\u001b[0m\u001b[1;33m\u001b[0m\u001b[0m\n\u001b[0m",
      "\u001b[1;32m<ipython-input-334-797680018a97>\u001b[0m in \u001b[0;36m<listcomp>\u001b[1;34m(.0)\u001b[0m\n\u001b[1;32m----> 1\u001b[1;33m \u001b[1;33m[\u001b[0m \u001b[0mint\u001b[0m\u001b[1;33m(\u001b[0m\u001b[0mstr\u001b[0m\u001b[1;33m(\u001b[0m\u001b[0mi\u001b[0m\u001b[1;33m.\u001b[0m\u001b[0mstrftime\u001b[0m\u001b[1;33m(\u001b[0m\u001b[1;34m\"%Y-%m-%d %H:%M:%S\"\u001b[0m\u001b[1;33m)\u001b[0m\u001b[1;33m.\u001b[0m\u001b[0msplit\u001b[0m\u001b[1;33m(\u001b[0m\u001b[1;34m'-'\u001b[0m\u001b[1;33m)\u001b[0m\u001b[1;33m[\u001b[0m\u001b[1;36m1\u001b[0m\u001b[1;33m]\u001b[0m\u001b[1;33m)\u001b[0m\u001b[1;33m)\u001b[0m \u001b[1;32mfor\u001b[0m \u001b[0mi\u001b[0m \u001b[1;32min\u001b[0m \u001b[0mlis\u001b[0m\u001b[1;33m]\u001b[0m\u001b[1;33m\u001b[0m\u001b[1;33m\u001b[0m\u001b[0m\n\u001b[0m",
      "\u001b[1;31mAttributeError\u001b[0m: 'str' object has no attribute 'strftime'"
     ]
    }
   ],
   "source": [
    "[ int(str(i.strftime(\"%Y-%m-%d %H:%M:%S\").split('-')[1])) for i in lis]"
   ]
  },
  {
   "cell_type": "code",
   "execution_count": 288,
   "metadata": {},
   "outputs": [
    {
     "ename": "ValueError",
     "evalue": "Could not convert object to NumPy datetime",
     "output_type": "error",
     "traceback": [
      "\u001b[1;31m---------------------------------------------------------------------------\u001b[0m",
      "\u001b[1;31mValueError\u001b[0m                                Traceback (most recent call last)",
      "\u001b[1;32m<ipython-input-288-c1f13e589df6>\u001b[0m in \u001b[0;36m<module>\u001b[1;34m\u001b[0m\n\u001b[1;32m----> 1\u001b[1;33m \u001b[0mnp\u001b[0m\u001b[1;33m.\u001b[0m\u001b[0mdatetime64\u001b[0m\u001b[1;33m(\u001b[0m\u001b[0mlis\u001b[0m\u001b[1;33m)\u001b[0m\u001b[1;33m\u001b[0m\u001b[1;33m\u001b[0m\u001b[0m\n\u001b[0m",
      "\u001b[1;31mValueError\u001b[0m: Could not convert object to NumPy datetime"
     ]
    }
   ],
   "source": [
    "np.datetime64(lis)"
   ]
  },
  {
   "cell_type": "code",
   "execution_count": 259,
   "metadata": {},
   "outputs": [
    {
     "ename": "ValueError",
     "evalue": "Could not convert object to NumPy datetime",
     "output_type": "error",
     "traceback": [
      "\u001b[1;31m---------------------------------------------------------------------------\u001b[0m",
      "\u001b[1;31mValueError\u001b[0m                                Traceback (most recent call last)",
      "\u001b[1;32m<ipython-input-259-8ecfdc12009e>\u001b[0m in \u001b[0;36m<module>\u001b[1;34m\u001b[0m\n\u001b[1;32m----> 1\u001b[1;33m \u001b[0mdata\u001b[0m\u001b[1;33m[\u001b[0m\u001b[1;34m'Detection Date'\u001b[0m\u001b[1;33m]\u001b[0m \u001b[1;33m=\u001b[0m \u001b[0mnp\u001b[0m\u001b[1;33m.\u001b[0m\u001b[0mdatetime64\u001b[0m\u001b[1;33m(\u001b[0m\u001b[0mdata\u001b[0m\u001b[1;33m[\u001b[0m\u001b[1;34m'Detection Date'\u001b[0m\u001b[1;33m]\u001b[0m\u001b[1;33m)\u001b[0m\u001b[1;33m\u001b[0m\u001b[1;33m\u001b[0m\u001b[0m\n\u001b[0m",
      "\u001b[1;31mValueError\u001b[0m: Could not convert object to NumPy datetime"
     ]
    }
   ],
   "source": [
    "data['Detection Date'] = np.datetime64(data['Detection Date'])"
   ]
  },
  {
   "cell_type": "code",
   "execution_count": 231,
   "metadata": {},
   "outputs": [],
   "source": [
    "label = my_data[['GlobalID','Lab Status']]"
   ]
  },
  {
   "cell_type": "code",
   "execution_count": 170,
   "metadata": {},
   "outputs": [
    {
     "data": {
      "text/html": [
       "<div>\n",
       "<style scoped>\n",
       "    .dataframe tbody tr th:only-of-type {\n",
       "        vertical-align: middle;\n",
       "    }\n",
       "\n",
       "    .dataframe tbody tr th {\n",
       "        vertical-align: top;\n",
       "    }\n",
       "\n",
       "    .dataframe thead th {\n",
       "        text-align: right;\n",
       "    }\n",
       "</style>\n",
       "<table border=\"1\" class=\"dataframe\">\n",
       "  <thead>\n",
       "    <tr style=\"text-align: right;\">\n",
       "      <th></th>\n",
       "      <th>Lab Status</th>\n",
       "    </tr>\n",
       "    <tr>\n",
       "      <th>GlobalID</th>\n",
       "      <th></th>\n",
       "    </tr>\n",
       "  </thead>\n",
       "  <tbody>\n",
       "    <tr>\n",
       "      <th>{0009942D-2F3E-4A2B-9D93-62CD8BA69B8E}</th>\n",
       "      <td>Unverified</td>\n",
       "    </tr>\n",
       "    <tr>\n",
       "      <th>{000F804E-2BA9-4838-8E5C-398EE12275E1}</th>\n",
       "      <td>Unverified</td>\n",
       "    </tr>\n",
       "    <tr>\n",
       "      <th>{003166CE-682C-40AD-9850-8F9CB145B79D}</th>\n",
       "      <td>Negative ID</td>\n",
       "    </tr>\n",
       "    <tr>\n",
       "      <th>{003B9570-B649-4452-93B4-B83025F12014}</th>\n",
       "      <td>Unverified</td>\n",
       "    </tr>\n",
       "    <tr>\n",
       "      <th>{003BC99B-BC86-4D6A-BD68-9DE4C0271103}</th>\n",
       "      <td>Unverified</td>\n",
       "    </tr>\n",
       "    <tr>\n",
       "      <th>...</th>\n",
       "      <td>...</td>\n",
       "    </tr>\n",
       "    <tr>\n",
       "      <th>{FFA96EE6-153C-4E14-B314-93DA2A4FAD55}</th>\n",
       "      <td>Unverified</td>\n",
       "    </tr>\n",
       "    <tr>\n",
       "      <th>{FFAB9655-A203-47D6-BAFB-BFB0818E7CDD}</th>\n",
       "      <td>Negative ID</td>\n",
       "    </tr>\n",
       "    <tr>\n",
       "      <th>{FFCF73D5-EC41-4EE3-A3A6-2DCD831E4D92}</th>\n",
       "      <td>Unverified</td>\n",
       "    </tr>\n",
       "    <tr>\n",
       "      <th>{FFD28418-72D8-4F9F-8A52-86A26874D4F2}</th>\n",
       "      <td>Unverified</td>\n",
       "    </tr>\n",
       "    <tr>\n",
       "      <th>{FFD85AC0-D1D1-4CB6-BDD4-982A1E341D4A}</th>\n",
       "      <td>Unverified</td>\n",
       "    </tr>\n",
       "  </tbody>\n",
       "</table>\n",
       "<p>4440 rows × 1 columns</p>\n",
       "</div>"
      ],
      "text/plain": [
       "                                         Lab Status\n",
       "GlobalID                                           \n",
       "{0009942D-2F3E-4A2B-9D93-62CD8BA69B8E}   Unverified\n",
       "{000F804E-2BA9-4838-8E5C-398EE12275E1}   Unverified\n",
       "{003166CE-682C-40AD-9850-8F9CB145B79D}  Negative ID\n",
       "{003B9570-B649-4452-93B4-B83025F12014}   Unverified\n",
       "{003BC99B-BC86-4D6A-BD68-9DE4C0271103}   Unverified\n",
       "...                                             ...\n",
       "{FFA96EE6-153C-4E14-B314-93DA2A4FAD55}   Unverified\n",
       "{FFAB9655-A203-47D6-BAFB-BFB0818E7CDD}  Negative ID\n",
       "{FFCF73D5-EC41-4EE3-A3A6-2DCD831E4D92}   Unverified\n",
       "{FFD28418-72D8-4F9F-8A52-86A26874D4F2}   Unverified\n",
       "{FFD85AC0-D1D1-4CB6-BDD4-982A1E341D4A}   Unverified\n",
       "\n",
       "[4440 rows x 1 columns]"
      ]
     },
     "execution_count": 170,
     "metadata": {},
     "output_type": "execute_result"
    }
   ],
   "source": [
    "label.set_index('GlobalID')"
   ]
  },
  {
   "cell_type": "code",
   "execution_count": 739,
   "metadata": {},
   "outputs": [],
   "source": [
    "import pandas as pd\n",
    "my_data2 = pd.read_csv('./last/best.csv')"
   ]
  },
  {
   "cell_type": "code",
   "execution_count": 741,
   "metadata": {},
   "outputs": [
    {
     "data": {
      "text/plain": [
       "(4440, 16)"
      ]
     },
     "execution_count": 741,
     "metadata": {},
     "output_type": "execute_result"
    }
   ],
   "source": [
    "my_data2.shape"
   ]
  },
  {
   "cell_type": "code",
   "execution_count": 742,
   "metadata": {},
   "outputs": [
    {
     "data": {
      "text/html": [
       "<div>\n",
       "<style scoped>\n",
       "    .dataframe tbody tr th:only-of-type {\n",
       "        vertical-align: middle;\n",
       "    }\n",
       "\n",
       "    .dataframe tbody tr th {\n",
       "        vertical-align: top;\n",
       "    }\n",
       "\n",
       "    .dataframe thead th {\n",
       "        text-align: right;\n",
       "    }\n",
       "</style>\n",
       "<table border=\"1\" class=\"dataframe\">\n",
       "  <thead>\n",
       "    <tr style=\"text-align: right;\">\n",
       "      <th></th>\n",
       "      <th>Unnamed: 0</th>\n",
       "      <th>GlobalID</th>\n",
       "      <th>Detection Date</th>\n",
       "      <th>Notes</th>\n",
       "      <th>Lab Status</th>\n",
       "      <th>Lab Comments</th>\n",
       "      <th>Submission Date</th>\n",
       "      <th>Latitude</th>\n",
       "      <th>Longitude</th>\n",
       "      <th>lenth</th>\n",
       "      <th>note emotion</th>\n",
       "      <th>lab emotion</th>\n",
       "      <th>color</th>\n",
       "      <th>bee lenth</th>\n",
       "      <th>CNNpossibility</th>\n",
       "      <th>Season</th>\n",
       "    </tr>\n",
       "  </thead>\n",
       "  <tbody>\n",
       "    <tr>\n",
       "      <th>0</th>\n",
       "      <td>0</td>\n",
       "      <td>{0009942D-2F3E-4A2B-9D93-62CD8BA69B8E}</td>\n",
       "      <td>2020-08-18 00:00:00</td>\n",
       "      <td>Saw largest hornet I've ever seen, orange and ...</td>\n",
       "      <td>2</td>\n",
       "      <td></td>\n",
       "      <td>2020-08-19</td>\n",
       "      <td>47.527105</td>\n",
       "      <td>-122.264096</td>\n",
       "      <td>0.430830</td>\n",
       "      <td>0.273981</td>\n",
       "      <td>0.000000</td>\n",
       "      <td>1</td>\n",
       "      <td>0</td>\n",
       "      <td>0.575820</td>\n",
       "      <td>8</td>\n",
       "    </tr>\n",
       "    <tr>\n",
       "      <th>1</th>\n",
       "      <td>1</td>\n",
       "      <td>{000F804E-2BA9-4838-8E5C-398EE12275E1}</td>\n",
       "      <td>2020-04-23 00:00:00</td>\n",
       "      <td>I though it was a queen wasp and looked for a ...</td>\n",
       "      <td>2</td>\n",
       "      <td></td>\n",
       "      <td>2020-06-12</td>\n",
       "      <td>47.309925</td>\n",
       "      <td>-122.305768</td>\n",
       "      <td>0.288538</td>\n",
       "      <td>0.053153</td>\n",
       "      <td>0.000000</td>\n",
       "      <td>0</td>\n",
       "      <td>0</td>\n",
       "      <td>0.575820</td>\n",
       "      <td>6</td>\n",
       "    </tr>\n",
       "    <tr>\n",
       "      <th>2</th>\n",
       "      <td>2</td>\n",
       "      <td>{003166CE-682C-40AD-9850-8F9CB145B79D}</td>\n",
       "      <td>2020-07-07 00:00:00</td>\n",
       "      <td>Saw this on the side of the road, the entire t...</td>\n",
       "      <td>0</td>\n",
       "      <td>That's a female sawfly. That is her ovipositor...</td>\n",
       "      <td>2020-07-07</td>\n",
       "      <td>48.935934</td>\n",
       "      <td>-122.736701</td>\n",
       "      <td>0.699605</td>\n",
       "      <td>0.060766</td>\n",
       "      <td>0.067496</td>\n",
       "      <td>1</td>\n",
       "      <td>1</td>\n",
       "      <td>0.544641</td>\n",
       "      <td>7</td>\n",
       "    </tr>\n",
       "    <tr>\n",
       "      <th>3</th>\n",
       "      <td>3</td>\n",
       "      <td>{003B9570-B649-4452-93B4-B83025F12014}</td>\n",
       "      <td>2020-08-16 00:00:00</td>\n",
       "      <td>This is a 1.75\" long orange and black wasp and...</td>\n",
       "      <td>2</td>\n",
       "      <td></td>\n",
       "      <td>2020-08-16</td>\n",
       "      <td>47.602559</td>\n",
       "      <td>-117.453877</td>\n",
       "      <td>0.996047</td>\n",
       "      <td>0.898562</td>\n",
       "      <td>0.000000</td>\n",
       "      <td>1</td>\n",
       "      <td>1</td>\n",
       "      <td>0.575820</td>\n",
       "      <td>8</td>\n",
       "    </tr>\n",
       "    <tr>\n",
       "      <th>4</th>\n",
       "      <td>4</td>\n",
       "      <td>{003BC99B-BC86-4D6A-BD68-9DE4C0271103}</td>\n",
       "      <td>2020-08-16 00:00:00</td>\n",
       "      <td>Noticed on my French Drain during watering</td>\n",
       "      <td>2</td>\n",
       "      <td></td>\n",
       "      <td>2020-08-17</td>\n",
       "      <td>47.323825</td>\n",
       "      <td>-122.372725</td>\n",
       "      <td>0.162055</td>\n",
       "      <td>0.033232</td>\n",
       "      <td>0.000000</td>\n",
       "      <td>0</td>\n",
       "      <td>0</td>\n",
       "      <td>0.575820</td>\n",
       "      <td>8</td>\n",
       "    </tr>\n",
       "  </tbody>\n",
       "</table>\n",
       "</div>"
      ],
      "text/plain": [
       "   Unnamed: 0                                GlobalID       Detection Date  \\\n",
       "0           0  {0009942D-2F3E-4A2B-9D93-62CD8BA69B8E}  2020-08-18 00:00:00   \n",
       "1           1  {000F804E-2BA9-4838-8E5C-398EE12275E1}  2020-04-23 00:00:00   \n",
       "2           2  {003166CE-682C-40AD-9850-8F9CB145B79D}  2020-07-07 00:00:00   \n",
       "3           3  {003B9570-B649-4452-93B4-B83025F12014}  2020-08-16 00:00:00   \n",
       "4           4  {003BC99B-BC86-4D6A-BD68-9DE4C0271103}  2020-08-16 00:00:00   \n",
       "\n",
       "                                               Notes  Lab Status  \\\n",
       "0  Saw largest hornet I've ever seen, orange and ...           2   \n",
       "1  I though it was a queen wasp and looked for a ...           2   \n",
       "2  Saw this on the side of the road, the entire t...           0   \n",
       "3  This is a 1.75\" long orange and black wasp and...           2   \n",
       "4         Noticed on my French Drain during watering           2   \n",
       "\n",
       "                                        Lab Comments Submission Date  \\\n",
       "0                                                         2020-08-19   \n",
       "1                                                         2020-06-12   \n",
       "2  That's a female sawfly. That is her ovipositor...      2020-07-07   \n",
       "3                                                         2020-08-16   \n",
       "4                                                         2020-08-17   \n",
       "\n",
       "    Latitude   Longitude     lenth  note emotion  lab emotion  color  \\\n",
       "0  47.527105 -122.264096  0.430830      0.273981     0.000000      1   \n",
       "1  47.309925 -122.305768  0.288538      0.053153     0.000000      0   \n",
       "2  48.935934 -122.736701  0.699605      0.060766     0.067496      1   \n",
       "3  47.602559 -117.453877  0.996047      0.898562     0.000000      1   \n",
       "4  47.323825 -122.372725  0.162055      0.033232     0.000000      0   \n",
       "\n",
       "   bee lenth  CNNpossibility  Season  \n",
       "0          0        0.575820       8  \n",
       "1          0        0.575820       6  \n",
       "2          1        0.544641       7  \n",
       "3          1        0.575820       8  \n",
       "4          0        0.575820       8  "
      ]
     },
     "execution_count": 742,
     "metadata": {},
     "output_type": "execute_result"
    }
   ],
   "source": [
    "my_data2.head()"
   ]
  },
  {
   "cell_type": "code",
   "execution_count": 474,
   "metadata": {},
   "outputs": [],
   "source": [
    "ds = my_data2.copy()"
   ]
  },
  {
   "cell_type": "code",
   "execution_count": 475,
   "metadata": {},
   "outputs": [],
   "source": [
    "ds.rename(columns={'Month':'Season'},inplace=True) "
   ]
  },
  {
   "cell_type": "code",
   "execution_count": 476,
   "metadata": {},
   "outputs": [
    {
     "data": {
      "text/html": [
       "<div>\n",
       "<style scoped>\n",
       "    .dataframe tbody tr th:only-of-type {\n",
       "        vertical-align: middle;\n",
       "    }\n",
       "\n",
       "    .dataframe tbody tr th {\n",
       "        vertical-align: top;\n",
       "    }\n",
       "\n",
       "    .dataframe thead th {\n",
       "        text-align: right;\n",
       "    }\n",
       "</style>\n",
       "<table border=\"1\" class=\"dataframe\">\n",
       "  <thead>\n",
       "    <tr style=\"text-align: right;\">\n",
       "      <th></th>\n",
       "      <th>Unnamed: 0</th>\n",
       "      <th>GlobalID</th>\n",
       "      <th>Detection Date</th>\n",
       "      <th>Season</th>\n",
       "      <th>Lab Status</th>\n",
       "      <th>Lab Comments</th>\n",
       "      <th>Submission Date</th>\n",
       "      <th>Latitude</th>\n",
       "      <th>Longitude</th>\n",
       "      <th>lenth</th>\n",
       "      <th>note emotion</th>\n",
       "      <th>lab emotion</th>\n",
       "      <th>color</th>\n",
       "      <th>bee lenth</th>\n",
       "      <th>predict</th>\n",
       "      <th>CNNpossibility</th>\n",
       "      <th>Unnamed: 16</th>\n",
       "    </tr>\n",
       "  </thead>\n",
       "  <tbody>\n",
       "    <tr>\n",
       "      <th>0</th>\n",
       "      <td>0</td>\n",
       "      <td>{0009942D-2F3E-4A2B-9D93-62CD8BA69B8E}</td>\n",
       "      <td>2020/8/18 0:00</td>\n",
       "      <td>1.0</td>\n",
       "      <td>Unverified</td>\n",
       "      <td></td>\n",
       "      <td>2020/8/19</td>\n",
       "      <td>47.527105</td>\n",
       "      <td>-122.264096</td>\n",
       "      <td>0.43083004</td>\n",
       "      <td>0.273981</td>\n",
       "      <td>0.0</td>\n",
       "      <td>1.0</td>\n",
       "      <td>0.0</td>\n",
       "      <td>NaN</td>\n",
       "      <td>NaN</td>\n",
       "      <td>NaN</td>\n",
       "    </tr>\n",
       "    <tr>\n",
       "      <th>1</th>\n",
       "      <td>1</td>\n",
       "      <td>{000F804E-2BA9-4838-8E5C-398EE12275E1}</td>\n",
       "      <td>2020/4/23 0:00</td>\n",
       "      <td>0.0</td>\n",
       "      <td>Unverified</td>\n",
       "      <td></td>\n",
       "      <td>2020/6/12</td>\n",
       "      <td>47.309925</td>\n",
       "      <td>-122.305768</td>\n",
       "      <td>0.288537549</td>\n",
       "      <td>0.053153</td>\n",
       "      <td>0.0</td>\n",
       "      <td>0.0</td>\n",
       "      <td>0.0</td>\n",
       "      <td>NaN</td>\n",
       "      <td>NaN</td>\n",
       "      <td>NaN</td>\n",
       "    </tr>\n",
       "  </tbody>\n",
       "</table>\n",
       "</div>"
      ],
      "text/plain": [
       "   Unnamed: 0                                GlobalID  Detection Date  Season  \\\n",
       "0           0  {0009942D-2F3E-4A2B-9D93-62CD8BA69B8E}  2020/8/18 0:00     1.0   \n",
       "1           1  {000F804E-2BA9-4838-8E5C-398EE12275E1}  2020/4/23 0:00     0.0   \n",
       "\n",
       "   Lab Status Lab Comments Submission Date   Latitude    Longitude  \\\n",
       "0  Unverified                    2020/8/19  47.527105  -122.264096   \n",
       "1  Unverified                    2020/6/12  47.309925  -122.305768   \n",
       "\n",
       "         lenth  note emotion  lab emotion  color  bee lenth  predict  \\\n",
       "0   0.43083004      0.273981          0.0    1.0        0.0      NaN   \n",
       "1  0.288537549      0.053153          0.0    0.0        0.0      NaN   \n",
       "\n",
       "   CNNpossibility  Unnamed: 16  \n",
       "0             NaN          NaN  \n",
       "1             NaN          NaN  "
      ]
     },
     "execution_count": 476,
     "metadata": {},
     "output_type": "execute_result"
    }
   ],
   "source": [
    "ds.head(2)"
   ]
  },
  {
   "cell_type": "code",
   "execution_count": 480,
   "metadata": {},
   "outputs": [
    {
     "data": {
      "text/plain": [
       "Index(['Unnamed: 0', 'GlobalID', 'Detection Date', 'Season', 'Lab Status',\n",
       "       'Lab Comments', 'Submission Date', 'Latitude', 'Longitude', 'lenth',\n",
       "       'note emotion', 'lab emotion', 'color', 'bee lenth', 'predict',\n",
       "       'CNNpossibility', 'Unnamed: 16'],\n",
       "      dtype='object')"
      ]
     },
     "execution_count": 480,
     "metadata": {},
     "output_type": "execute_result"
    }
   ],
   "source": [
    "ds.columns"
   ]
  },
  {
   "cell_type": "code",
   "execution_count": 481,
   "metadata": {},
   "outputs": [],
   "source": [
    "ds = ds[['GlobalID', 'Detection Date', 'Season', 'Lab Status',\n",
    "       'Lab Comments', 'Submission Date', 'Latitude', 'Longitude', 'lenth',\n",
    "       'note emotion', 'lab emotion', 'color', 'bee lenth', 'predict',\n",
    "       'CNNpossibility']]"
   ]
  },
  {
   "cell_type": "code",
   "execution_count": 486,
   "metadata": {},
   "outputs": [
    {
     "name": "stdout",
     "output_type": "stream",
     "text": [
      "<class 'pandas.core.frame.DataFrame'>\n",
      "Int64Index: 4437 entries, 0 to 4436\n",
      "Data columns (total 15 columns):\n",
      " #   Column           Non-Null Count  Dtype  \n",
      "---  ------           --------------  -----  \n",
      " 0   GlobalID         4437 non-null   object \n",
      " 1   Detection Date   4437 non-null   object \n",
      " 2   Season           4423 non-null   float64\n",
      " 3   Lab Status       4437 non-null   object \n",
      " 4   Lab Comments     4435 non-null   object \n",
      " 5   Submission Date  4437 non-null   object \n",
      " 6   Latitude         4437 non-null   object \n",
      " 7   Longitude        4437 non-null   object \n",
      " 8   lenth            4437 non-null   object \n",
      " 9   note emotion     4437 non-null   float64\n",
      " 10  lab emotion      4437 non-null   float64\n",
      " 11  color            4437 non-null   float64\n",
      " 12  bee lenth        4434 non-null   float64\n",
      " 13  predict          55 non-null     float64\n",
      " 14  CNNpossibility   54 non-null     float64\n",
      "dtypes: float64(7), object(8)\n",
      "memory usage: 554.6+ KB\n"
     ]
    }
   ],
   "source": [
    "ds.info()"
   ]
  },
  {
   "cell_type": "code",
   "execution_count": 488,
   "metadata": {},
   "outputs": [],
   "source": [
    "def changelabel(x):\n",
    "    if x=='Positive ID':\n",
    "        return 1\n",
    "    elif x=='Negative ID':\n",
    "        return 0\n",
    "    else:\n",
    "        return 2"
   ]
  },
  {
   "cell_type": "code",
   "execution_count": 489,
   "metadata": {},
   "outputs": [],
   "source": [
    "ds['Lab Status'] = ds['Lab Status'].apply(lambda x:changelabel(x))"
   ]
  },
  {
   "cell_type": "code",
   "execution_count": 492,
   "metadata": {},
   "outputs": [],
   "source": [
    "del ds['predict']"
   ]
  },
  {
   "cell_type": "code",
   "execution_count": 493,
   "metadata": {},
   "outputs": [
    {
     "data": {
      "text/plain": [
       "0.3755471482263779"
      ]
     },
     "execution_count": 493,
     "metadata": {},
     "output_type": "execute_result"
    }
   ],
   "source": [
    "CNN_mean"
   ]
  },
  {
   "cell_type": "code",
   "execution_count": null,
   "metadata": {},
   "outputs": [],
   "source": [
    "ds['CNNpossibility']"
   ]
  },
  {
   "cell_type": "markdown",
   "metadata": {},
   "source": [
    "## start"
   ]
  },
  {
   "cell_type": "code",
   "execution_count": 755,
   "metadata": {},
   "outputs": [],
   "source": [
    "final = pd.read_csv('./last/best.csv')"
   ]
  },
  {
   "cell_type": "code",
   "execution_count": 876,
   "metadata": {},
   "outputs": [],
   "source": [
    "final = pd.read_csv('./last/best.csv')"
   ]
  },
  {
   "cell_type": "code",
   "execution_count": 885,
   "metadata": {},
   "outputs": [],
   "source": [
    "best = final[(final['Lab Status']==1) | (final['Lab Status']==0)]"
   ]
  },
  {
   "cell_type": "code",
   "execution_count": 889,
   "metadata": {},
   "outputs": [],
   "source": [
    "best.to_csv('./last/train.csv')"
   ]
  },
  {
   "cell_type": "code",
   "execution_count": 890,
   "metadata": {},
   "outputs": [],
   "source": [
    "test = final[(final['Lab Status']==2) ]"
   ]
  },
  {
   "cell_type": "code",
   "execution_count": 891,
   "metadata": {},
   "outputs": [],
   "source": [
    "test.to_csv('./last/test.csv')"
   ]
  },
  {
   "cell_type": "code",
   "execution_count": 756,
   "metadata": {},
   "outputs": [],
   "source": [
    "train=final[(final['Lab Status']==0) | (final['Lab Status']==1) ]"
   ]
  },
  {
   "cell_type": "code",
   "execution_count": 757,
   "metadata": {},
   "outputs": [
    {
     "data": {
      "text/plain": [
       "Index(['Unnamed: 0', 'GlobalID', 'Detection Date', 'Notes', 'Lab Status',\n",
       "       'Lab Comments', 'Submission Date', 'Latitude', 'Longitude', 'lenth',\n",
       "       'note emotion', 'lab emotion', 'color', 'bee lenth', 'CNNpossibility',\n",
       "       'Season'],\n",
       "      dtype='object')"
      ]
     },
     "execution_count": 757,
     "metadata": {},
     "output_type": "execute_result"
    }
   ],
   "source": [
    "train.columns"
   ]
  },
  {
   "cell_type": "code",
   "execution_count": 771,
   "metadata": {},
   "outputs": [
    {
     "data": {
      "text/plain": [
       "10"
      ]
     },
     "execution_count": 771,
     "metadata": {},
     "output_type": "execute_result"
    }
   ],
   "source": [
    "final['Season'].max()"
   ]
  },
  {
   "cell_type": "code",
   "execution_count": 773,
   "metadata": {},
   "outputs": [],
   "source": [
    "data=train[['Latitude', 'Longitude', 'lenth','note emotion', 'lab emotion', 'color', 'bee lenth', 'CNNpossibility',\n",
    "       'Season']]"
   ]
  },
  {
   "cell_type": "code",
   "execution_count": 774,
   "metadata": {},
   "outputs": [],
   "source": [
    "label = train[['Lab Status']]"
   ]
  },
  {
   "cell_type": "code",
   "execution_count": 844,
   "metadata": {},
   "outputs": [],
   "source": [
    "X_train, X_test, y_train, y_test = train_test_split(data, label, test_size=0.4, random_state=0)"
   ]
  },
  {
   "cell_type": "code",
   "execution_count": 845,
   "metadata": {},
   "outputs": [],
   "source": [
    "from sklearn.ensemble import RandomForestClassifier\n",
    "from sklearn.tree import DecisionTreeClassifier"
   ]
  },
  {
   "cell_type": "code",
   "execution_count": 857,
   "metadata": {},
   "outputs": [],
   "source": [
    "from imblearn.over_sampling import SMOTE, ADASYN\n",
    "\n",
    "X_resampled_smote, y_resampled_smote = SMOTE(k_neighbors=5).fit_sample(X_train,y_train)"
   ]
  },
  {
   "cell_type": "code",
   "execution_count": null,
   "metadata": {},
   "outputs": [],
   "source": []
  },
  {
   "cell_type": "markdown",
   "metadata": {},
   "source": [
    "## origin"
   ]
  },
  {
   "cell_type": "code",
   "execution_count": 859,
   "metadata": {},
   "outputs": [
    {
     "name": "stderr",
     "output_type": "stream",
     "text": [
      "E:\\Anaconda3\\lib\\site-packages\\ipykernel_launcher.py:2: DataConversionWarning: A column-vector y was passed when a 1d array was expected. Please change the shape of y to (n_samples,), for example using ravel().\n",
      "  \n"
     ]
    },
    {
     "data": {
      "text/plain": [
       "0.9892086330935251"
      ]
     },
     "execution_count": 859,
     "metadata": {},
     "output_type": "execute_result"
    }
   ],
   "source": [
    "model = RandomForestClassifier()\n",
    "model.fit(X_resampled_smote, y_resampled_smote)\n",
    "result = model.score(X_test,y_test)\n",
    "result"
   ]
  },
  {
   "cell_type": "code",
   "execution_count": 860,
   "metadata": {},
   "outputs": [
    {
     "data": {
      "text/plain": [
       "array([[1., 0.],\n",
       "       [1., 0.],\n",
       "       [1., 0.],\n",
       "       ...,\n",
       "       [1., 0.],\n",
       "       [1., 0.],\n",
       "       [1., 0.]])"
      ]
     },
     "execution_count": 860,
     "metadata": {},
     "output_type": "execute_result"
    }
   ],
   "source": [
    "model.predict_proba(X_test)"
   ]
  },
  {
   "cell_type": "code",
   "execution_count": 861,
   "metadata": {},
   "outputs": [
    {
     "name": "stderr",
     "output_type": "stream",
     "text": [
      "E:\\Anaconda3\\lib\\site-packages\\sklearn\\utils\\validation.py:63: DataConversionWarning: A column-vector y was passed when a 1d array was expected. Please change the shape of y to (n_samples, ), for example using ravel().\n",
      "  return f(*args, **kwargs)\n"
     ]
    },
    {
     "data": {
      "text/plain": [
       "0.9280575539568345"
      ]
     },
     "execution_count": 861,
     "metadata": {},
     "output_type": "execute_result"
    }
   ],
   "source": [
    "import numpy as np\n",
    "from sklearn import svm\n",
    " \n",
    "\n",
    "clt = svm.SVC(probability = True)\n",
    "clt.fit(X_resampled, y_resampled)\n",
    "clt.score(X_test,y_test)\n",
    "# clt.predict(X_test)"
   ]
  },
  {
   "cell_type": "code",
   "execution_count": 862,
   "metadata": {},
   "outputs": [
    {
     "data": {
      "text/plain": [
       "array([[0.88467794, 0.11532206],\n",
       "       [0.17455427, 0.82544573],\n",
       "       [0.821588  , 0.178412  ],\n",
       "       ...,\n",
       "       [0.95146668, 0.04853332],\n",
       "       [0.57900387, 0.42099613],\n",
       "       [0.32471843, 0.67528157]])"
      ]
     },
     "execution_count": 862,
     "metadata": {},
     "output_type": "execute_result"
    }
   ],
   "source": [
    "clt.predict_proba(X_test)"
   ]
  },
  {
   "cell_type": "code",
   "execution_count": 863,
   "metadata": {},
   "outputs": [],
   "source": [
    "from sklearn import linear_model"
   ]
  },
  {
   "cell_type": "code",
   "execution_count": 864,
   "metadata": {},
   "outputs": [
    {
     "name": "stderr",
     "output_type": "stream",
     "text": [
      "E:\\Anaconda3\\lib\\site-packages\\sklearn\\utils\\validation.py:63: DataConversionWarning: A column-vector y was passed when a 1d array was expected. Please change the shape of y to (n_samples, ), for example using ravel().\n",
      "  return f(*args, **kwargs)\n"
     ]
    },
    {
     "data": {
      "text/plain": [
       "LogisticRegression(solver='liblinear')"
      ]
     },
     "execution_count": 864,
     "metadata": {},
     "output_type": "execute_result"
    }
   ],
   "source": [
    "lr=linear_model.LogisticRegression(solver='liblinear')#在新版的sklearn当中只需要指定后面的参数值就不会进行报错啦！\n",
    "lr.fit(X_resampled,y_resampled)"
   ]
  },
  {
   "cell_type": "code",
   "execution_count": 865,
   "metadata": {},
   "outputs": [
    {
     "data": {
      "text/plain": [
       "0.9028776978417267"
      ]
     },
     "execution_count": 865,
     "metadata": {},
     "output_type": "execute_result"
    }
   ],
   "source": [
    "lr.score(X_test,y_test)"
   ]
  },
  {
   "cell_type": "code",
   "execution_count": 866,
   "metadata": {},
   "outputs": [
    {
     "data": {
      "text/plain": [
       "array([[4.86938248e-01, 5.13061752e-01],\n",
       "       [9.99716002e-01, 2.83997727e-04],\n",
       "       [8.41879342e-01, 1.58120658e-01],\n",
       "       ...,\n",
       "       [9.67205815e-01, 3.27941850e-02],\n",
       "       [1.41708833e-01, 8.58291167e-01],\n",
       "       [9.63978949e-01, 3.60210509e-02]])"
      ]
     },
     "execution_count": 866,
     "metadata": {},
     "output_type": "execute_result"
    }
   ],
   "source": [
    "lr.predict_proba(X_test)"
   ]
  },
  {
   "cell_type": "code",
   "execution_count": 868,
   "metadata": {},
   "outputs": [],
   "source": [
    "from sklearn import tree"
   ]
  },
  {
   "cell_type": "code",
   "execution_count": null,
   "metadata": {},
   "outputs": [],
   "source": [
    "tree_clf = tree.DecisionTreeClassifier()\n",
    "tree_clf = tree_clf.fit(X_resampled,y_resampled_smote)\n",
    "tree_clf.predict(X_test)"
   ]
  },
  {
   "cell_type": "code",
   "execution_count": 871,
   "metadata": {},
   "outputs": [],
   "source": [
    "tree_clf"
   ]
  },
  {
   "cell_type": "code",
   "execution_count": 892,
   "metadata": {},
   "outputs": [],
   "source": [
    "import matplotlib.pyplot as plt"
   ]
  },
  {
   "cell_type": "code",
   "execution_count": null,
   "metadata": {},
   "outputs": [],
   "source": []
  },
  {
   "cell_type": "code",
   "execution_count": null,
   "metadata": {},
   "outputs": [],
   "source": []
  }
 ],
 "metadata": {
  "kernelspec": {
   "display_name": "Python 3",
   "language": "python",
   "name": "python3"
  },
  "language_info": {
   "codemirror_mode": {
    "name": "ipython",
    "version": 3
   },
   "file_extension": ".py",
   "mimetype": "text/x-python",
   "name": "python",
   "nbconvert_exporter": "python",
   "pygments_lexer": "ipython3",
   "version": "3.7.4"
  }
 },
 "nbformat": 4,
 "nbformat_minor": 4
}
