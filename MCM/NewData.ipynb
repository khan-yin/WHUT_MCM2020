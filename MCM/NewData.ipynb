{
 "cells": [
  {
   "cell_type": "code",
   "execution_count": 81,
   "metadata": {},
   "outputs": [],
   "source": [
    "import pandas as pd\n",
    "import matplotlib.pyplot as plt\n",
    "import numpy as np"
   ]
  },
  {
   "cell_type": "code",
   "execution_count": 82,
   "metadata": {},
   "outputs": [],
   "source": [
    "import os\n",
    "import shutil"
   ]
  },
  {
   "cell_type": "markdown",
   "metadata": {},
   "source": [
    "## ChangeImg"
   ]
  },
  {
   "cell_type": "code",
   "execution_count": 83,
   "metadata": {},
   "outputs": [],
   "source": [
    "from albumentations import (\n",
    "    HorizontalFlip, VerticalFlip, IAAPerspective, ShiftScaleRotate, CLAHE, RandomRotate90,\n",
    "    Transpose, ShiftScaleRotate, Blur, OpticalDistortion, GridDistortion, HueSaturationValue,\n",
    "    IAAAdditiveGaussianNoise, GaussNoise, MotionBlur, MedianBlur, IAAPiecewiseAffine, RandomResizedCrop,\n",
    "    IAASharpen, IAAEmboss, RandomBrightnessContrast, Flip, OneOf, Compose, Normalize, Cutout, CoarseDropout, ShiftScaleRotate, CenterCrop, Resize\n",
    ")"
   ]
  },
  {
   "cell_type": "code",
   "execution_count": 84,
   "metadata": {},
   "outputs": [],
   "source": [
    "from albumentations.pytorch import ToTensorV2"
   ]
  },
  {
   "cell_type": "code",
   "execution_count": 93,
   "metadata": {},
   "outputs": [],
   "source": [
    "import glob\n",
    "singal = \"55\"\n",
    "data_path = glob.glob('./newdata/'+singal+'/Positive/*.jpg')\n",
    "data_path.sort()"
   ]
  },
  {
   "cell_type": "code",
   "execution_count": 94,
   "metadata": {},
   "outputs": [],
   "source": [
    "from PIL import Image\n",
    "img = Image.open(data_path[1]).convert('RGB')"
   ]
  },
  {
   "cell_type": "markdown",
   "metadata": {},
   "source": [
    "## demo"
   ]
  },
  {
   "cell_type": "code",
   "execution_count": 95,
   "metadata": {},
   "outputs": [],
   "source": [
    "import cv2\n",
    "import matplotlib.pyplot as plt"
   ]
  },
  {
   "cell_type": "code",
   "execution_count": 96,
   "metadata": {},
   "outputs": [],
   "source": [
    "target = './newdata/'+singal+'/'\n",
    "img_name = '00.jpg'\n",
    "img = cv2.imread('./data/Positive/0.jpg')\n",
    "img = cv2.cvtColor(img, cv2.COLOR_BGR2RGB)\n",
    "\n",
    "image1 = Compose([\n",
    "        # 对比度受限直方图均衡\n",
    "            #（Contrast Limited Adaptive Histogram Equalization）\n",
    "        CLAHE(),\n",
    "        # 随机旋转 90°\n",
    "        RandomRotate90(),\n",
    "        # 转置\n",
    "        Transpose(),\n",
    "        # 随机仿射变换\n",
    "        ShiftScaleRotate(shift_limit=0.0625, scale_limit=0.50, rotate_limit=45, p=.75),\n",
    "        # 模糊\n",
    "        Blur(blur_limit=3),\n",
    "        # 光学畸变\n",
    "        OpticalDistortion(),\n",
    "        # 网格畸变\n",
    "        GridDistortion(),\n",
    "        Transpose(p=0.5),\n",
    "        HorizontalFlip(p=0.5),\n",
    "        VerticalFlip(p=0.5),\n",
    "    # 随机改变图片的 HUE、饱和度和值\n",
    "        HueSaturationValue(hue_shift_limit=0.2, sat_shift_limit=0.2, val_shift_limit=0.2, p=0.5),\n",
    "        RandomBrightnessContrast(brightness_limit=(-0.1,0.1), contrast_limit=(-0.1, 0.1), p=0.5),\n",
    "    ], p=1.0)(image=img)['image']\n",
    "# plt.figure(figsize=(10, 10))\n",
    "# plt.imshow(image1)\n",
    "image2 = cv2.cvtColor(image1, cv2.COLOR_BGR2RGB)\n",
    "cv2.imwrite( target+img_name, image2);"
   ]
  },
  {
   "cell_type": "code",
   "execution_count": 97,
   "metadata": {},
   "outputs": [],
   "source": [
    "def change_img(img_path):\n",
    "    img = Image.open(img_path).convert('RGB')\n",
    "    img = cv2.imread(img_path)\n",
    "    img = cv2.cvtColor(img, cv2.COLOR_BGR2RGB)\n",
    "    cnt=3\n",
    "    for c in range(cnt):\n",
    "        image1 = Compose([\n",
    "                # 对比度受限直方图均衡\n",
    "                    #（Contrast Limited Adaptive Histogram Equalization）\n",
    "                CLAHE(),\n",
    "                # 随机旋转 90°\n",
    "                RandomRotate90(),\n",
    "                # 转置\n",
    "                Transpose(),\n",
    "                # 随机仿射变换\n",
    "                ShiftScaleRotate(shift_limit=0.0625, scale_limit=0.50, rotate_limit=45, p=.75),\n",
    "                # 模糊\n",
    "                Blur(blur_limit=3),\n",
    "                # 光学畸变\n",
    "                OpticalDistortion(),\n",
    "                # 网格畸变\n",
    "                GridDistortion(),\n",
    "                # 随机改变图片的 HUE、饱和度和值\n",
    "                HueSaturationValue()\n",
    "            ], p=1.0)(image=img)['image']\n",
    "#         plt.figure(figsize=(10, 10))\n",
    "#         plt.imshow(image1)\n",
    "        image2 = cv2.cvtColor(image1, cv2.COLOR_BGR2RGB)\n",
    "\n",
    "        filepath = img_path.split('\\\\')\n",
    "#         print(filepath[0])\n",
    "        name = filepath[1].split('.')[0]\n",
    "        houzhui = filepath[1].split('.')[1]\n",
    "#         print(filepath[0]+'/'+name+'-'+str(c)+'.'+houzhui)\n",
    "        cv2.imwrite( filepath[0]+'/'+name+'-'+str(c)+'.'+houzhui, image2);\n",
    "    "
   ]
  },
  {
   "cell_type": "code",
   "execution_count": 98,
   "metadata": {},
   "outputs": [
    {
     "data": {
      "text/plain": [
       "['./data/Positive', '0.jpg']"
      ]
     },
     "execution_count": 98,
     "metadata": {},
     "output_type": "execute_result"
    }
   ],
   "source": [
    "'./data/Positive\\\\0.jpg'.split('\\\\')"
   ]
  },
  {
   "cell_type": "code",
   "execution_count": 99,
   "metadata": {},
   "outputs": [],
   "source": [
    "for i in data_path:\n",
    "    change_img(i)"
   ]
  },
  {
   "cell_type": "code",
   "execution_count": 100,
   "metadata": {},
   "outputs": [],
   "source": [
    "import os\n",
    "import shutil\n",
    "cnt=0\n",
    "train_target='./newdata/'+singal+'/train/'\n",
    "json_path1 = 'train_data_'+singal+'.json'\n",
    "test_target='./newdata/'+singal+'/test/'\n",
    "positive = './newdata/'+singal+'/Positive/'\n",
    "negative = './newdata/'+singal+'/Negative/'\n",
    "test = \"./newdata/\"+singal+\"/Unverified/\"\n",
    "\n",
    "isExists=os.path.exists(train_target)\n",
    "if not isExists:\n",
    "        os.makedirs(train_target) \n",
    "train_data_json = {}\n",
    "for root, dirs, files in os.walk(positive, topdown=False):\n",
    "    for name in files:\n",
    "        shutil.copy(os.path.join(root, name), train_target+str(cnt)+'.jpg')\n",
    "        train_data_json[str(cnt)+'.jpg']=1\n",
    "        cnt+=1\n",
    "\n",
    "for root, dirs, files in os.walk(negative, topdown=False):\n",
    "    for name in files:\n",
    "        shutil.copy(os.path.join(root, name), train_target+str(cnt)+'.jpg')\n",
    "        train_data_json[str(cnt)+'.jpg']=0\n",
    "        cnt+=1      \n",
    "\n",
    "import json\n",
    "with open(json_path1, 'w') as fp:\n",
    "    json.dump(train_data_json, fp)\n",
    "\n",
    "cnt=0\n",
    "\n",
    "isExists=os.path.exists(test_target)\n",
    "if not isExists:\n",
    "        os.makedirs(test_target) \n",
    "\n",
    "for root, dirs, files in os.walk(test, topdown=False):\n",
    "    for name in files:\n",
    "        shutil.copy(os.path.join(root, name), test_target+str(cnt)+'.jpg')\n",
    "        cnt+=1"
   ]
  },
  {
   "cell_type": "code",
   "execution_count": null,
   "metadata": {},
   "outputs": [],
   "source": []
  }
 ],
 "metadata": {
  "kernelspec": {
   "display_name": "Python 3",
   "language": "python",
   "name": "python3"
  },
  "language_info": {
   "codemirror_mode": {
    "name": "ipython",
    "version": 3
   },
   "file_extension": ".py",
   "mimetype": "text/x-python",
   "name": "python",
   "nbconvert_exporter": "python",
   "pygments_lexer": "ipython3",
   "version": "3.7.4"
  }
 },
 "nbformat": 4,
 "nbformat_minor": 4
}
