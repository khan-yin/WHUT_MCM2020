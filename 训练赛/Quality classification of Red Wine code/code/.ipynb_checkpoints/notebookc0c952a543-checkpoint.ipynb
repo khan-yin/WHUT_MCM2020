{
 "cells": [
  {
   "cell_type": "markdown",
   "metadata": {
    "_uuid": "ec1a127cb3a692997f1e17a3433fbf2635ba5953"
   },
   "source": [
    "**Predicting White Wine Quality **  \n",
    "This data anlysis is the part of final project for the \"Data Analysis with R\" course on Udacity.   \n",
    "*(Course: https://classroom.udacity.com/courses/ud651)   *  \n",
    "I am using White Wine Quality dataset which is a tidy data set. This data set contains **4,898** white wines with **11 **variables on quantifying the chemical properties of each wine. At least 3 wine experts rated the quality of each wine, providing a rating between 0 (very bad) and 10 (very excellent).\n",
    "\n",
    "**Objective:** To identify which chemical properties influence the quality of white wines?"
   ]
  },
  {
   "cell_type": "markdown",
   "metadata": {
    "_uuid": "d0b92655257f2066e8f888ec2a6c607342eafac4"
   },
   "source": [
    "**Laoding the dataset and libraries**  \n",
    "We will load the dataset and additional libraries and take a glimpse at our dataset. "
   ]
  },
  {
   "cell_type": "code",
   "execution_count": 2,
   "metadata": {
    "_uuid": "529f537216f71e9d8283f162a9b867e4688760c8",
    "scrolled": true
   },
   "outputs": [],
   "source": [
    "library(ggplot2)\n",
    "library(dplyr)\n",
    "library(gridExtra)\n",
    "library(RColorBrewer)\n",
    "library(randomForest)\n",
    "library(party)\n",
    "theme_set(theme_classic())\n",
    "\n",
    "wine <- read.csv (\"../input/wineQualityWhites.csv\")\n",
    "glimpse(wine)"
   ]
  },
  {
   "cell_type": "markdown",
   "metadata": {
    "_uuid": "e014fcf8e92644a710aa2814157fd318fd9ae361"
   },
   "source": [
    "**Variables in the data set**   \n",
    "**Input variables** (based on physicochemical tests):  \n",
    "   1 - fixed acidity (tartaric acid - g / dm^3)  \n",
    "   2 - volatile acidity (acetic acid - g / dm^3)  \n",
    "   3 - citric acid (g / dm^3)  \n",
    "   4 - residual sugar (g / dm^3)  \n",
    "   5 - chlorides (sodium chloride - g / dm^3  \n",
    "   6 - free sulfur dioxide (mg / dm^3)  \n",
    "   7 - total sulfur dioxide (mg / dm^3)  \n",
    "   8 - density (g / cm^3)  \n",
    "   9 - pH  \n",
    "   10 - sulphates (potassium sulphate - g / dm3)  \n",
    "   11 - alcohol (% by volume)  \n",
    "  ** Output variable** (based on sensory data):   \n",
    "   12 - quality (score between 0 and 10)  \n",
    "   \n",
    " X is the row number. Quality is discrete variable while all the input variables are continuous. We will first remove \"X\" from our data frame and then we will see the summary of each variable in the dataframe."
   ]
  },
  {
   "cell_type": "code",
   "execution_count": 3,
   "metadata": {
    "_uuid": "9dfb330787f76badb78ff42c080a9001e7be5d1c"
   },
   "outputs": [],
   "source": [
    "wine$X <- NULL  # removing the first column 'X'\n",
    "str(wine)\n",
    "summary(wine)"
   ]
  },
  {
   "cell_type": "markdown",
   "metadata": {
    "_uuid": "afca2988a3772f7af8873c229f8f5a29b1aaa745"
   },
   "source": [
    "**Wine Quality Distribution**  \n",
    "The most important parameter is wine quality and this is also the variable we would like to predict based on other attributes. Let's have a look at the wine quality summary using the table and histogram."
   ]
  },
  {
   "cell_type": "code",
   "execution_count": 4,
   "metadata": {
    "_uuid": "e3a8a54b6d66c8cad6244918d0d0aaf0e602a0e6",
    "scrolled": true
   },
   "outputs": [],
   "source": [
    "print(\" Number of wines for a partcular rating of wine:\")\n",
    "table(wine$quality)\n",
    "theme_set(theme_minimal())\n",
    "ggplot(wine,aes(quality)) + geom_histogram(stat=\"count\") +\n",
    "   xlab(\"Quality of white wines\") + ylab(\"Number of white wines\")"
   ]
  },
  {
   "cell_type": "markdown",
   "metadata": {
    "_uuid": "d63b4df1085fb01d4824f10237a172512e569a31"
   },
   "source": [
    "**Classifying the Quality of White Wines**   \n",
    "Quality of the white wines is normally distributed. Most of the wines are rated **5-7**, while very few are rated **\"very poor\"** (rating **< 4**) or **\"very good\"** (rating **> 7**). We will try to make prediction on quality of wine using our 11 input variables. Looking at the dataset we can say that wines rated **8** and **9** are few and can be regarded as the best quality wines. We will identify how physiochemical properties for these wines are different from rest of the wines that make a wine taste better according to the experts.\n",
    "\n",
    "**Subsetting: ** First we will create a subset of wines rated **8 or above** effectively making quality having two factors.  \n",
    "Quality rating **> 7 **: wine is **\"Good\"**   \n",
    "Quality rating **<=7** : wine is **\"Not good\"**   "
   ]
  },
  {
   "cell_type": "code",
   "execution_count": 4,
   "metadata": {
    "_uuid": "c560e0f7e0495cb4729931999b3c0461ae0bbfe0"
   },
   "outputs": [],
   "source": [
    "wine$rating   <- ifelse (as.integer(wine$quality) > 7, 1, 0)\n",
    "glimpse(wine)\n",
    "table(wine$rating)"
   ]
  },
  {
   "cell_type": "markdown",
   "metadata": {
    "_uuid": "ed74ea222ccd9a8668b7c667251f82f9fd2fd2c0"
   },
   "source": [
    "**Visualizing the attributes**  \n",
    "Before making prediction, we will try to visualize the rest of the variables and see if we can find any pattern that could explain the quality of white wines. For our exploration, boxplot is the most useful and suitable type of plot. \n",
    "\n",
    "**Correlation: **   \n",
    "The dataset has 11 physio-chemical attributes and there are chances that some of them are correlated. To check this and also to check how strongly quality is correlated with other variables we will plot correlation matrix."
   ]
  },
  {
   "cell_type": "code",
   "execution_count": null,
   "metadata": {
    "_uuid": "7445ab119f6d09fc12c481198cd678ed1d4ffd3b"
   },
   "outputs": [],
   "source": [
    "library(corrplot)\n",
    "M <- cor(wine)\n",
    "corrplot(M, method = \"number\")"
   ]
  },
  {
   "cell_type": "markdown",
   "metadata": {
    "_uuid": "2fd13573125fd220adabeb44eac7f90f2dd816ab"
   },
   "source": [
    "**Correlation among variables**    \n",
    "* Quality is moderately correlated with alcohol  \n",
    "* Alcohol is moderately correlated with the density of wine apart from being moderaltely correlated with quality  \n",
    "* Density is strongly correlated with residual sugar quantity and moderately correlated with pH  \n",
    "* Free sulfur dioxide and total sulfur dioxide are strongly correlated  \n",
    "\n",
    "Now let's see the variables visually with the help of boxplot first."
   ]
  },
  {
   "cell_type": "code",
   "execution_count": 7,
   "metadata": {
    "_uuid": "85de89332781bbd368a13697fb40192d96fb4464"
   },
   "outputs": [],
   "source": [
    "# Boxplots of variables\n",
    "p1 <- ggplot(wine, aes(as.factor(quality),fixed.acidity))+ geom_boxplot() + coord_cartesian(ylim = c(4.5,10.5))\n",
    "p2 <- ggplot(wine, aes(as.factor(quality),volatile.acidity))+ geom_boxplot()+ coord_cartesian(ylim = c(0,0.6))\n",
    "p3 <- ggplot(wine, aes(as.factor(quality),citric.acid))+ geom_boxplot()+ coord_cartesian(ylim = c(0,0.5))\n",
    "p4 <- ggplot(wine, aes(as.factor(quality),residual.sugar))+ geom_boxplot()+ coord_cartesian(ylim = c(0,20))\n",
    "p5 <- ggplot(wine, aes(as.factor(quality),chlorides))+ geom_boxplot()+ coord_cartesian(ylim = c(0,0.07))\n",
    "p6 <- ggplot(wine, aes(as.factor(quality),free.sulfur.dioxide))+ geom_boxplot()+ coord_cartesian(ylim = c(0,70))\n",
    "p7 <- ggplot(wine, aes(as.factor(quality),total.sulfur.dioxide))+ geom_boxplot()+ coord_cartesian(ylim = c(0,220))\n",
    "p8 <- ggplot(wine, aes(as.factor(quality),density))+ geom_boxplot()+ coord_cartesian(ylim = c(0.98,1.0))\n",
    "p9 <- ggplot(wine, aes(as.factor(quality),pH))+ geom_boxplot()+ coord_cartesian(ylim = c(2.8,3.6))\n",
    "p10 <- ggplot(wine, aes(as.factor(quality),sulphates))+ geom_boxplot()+ coord_cartesian(ylim = c(0.3,0.8))\n",
    "p11 <- ggplot(wine, aes(as.factor(quality),alcohol))+ geom_boxplot()+ coord_cartesian(ylim = c(8,13))\n",
    "grid.arrange(p1,p2, nrow=1)"
   ]
  },
  {
   "cell_type": "markdown",
   "metadata": {
    "_uuid": "bd75faf4c9ffb945771dce79107994167d09b555"
   },
   "source": [
    "**Acidity:** It is diificult to find a certain pattern, but usually better quality wines have lower volatile.acidity. Fixed acidity quantity roughly follow the same pattern except the wines rated 9."
   ]
  },
  {
   "cell_type": "code",
   "execution_count": 8,
   "metadata": {
    "_uuid": "31e9c36d933be43884604c237cd75d3fbe03d309"
   },
   "outputs": [],
   "source": [
    "grid.arrange(p3,p4,p5, nrow=1)"
   ]
  },
  {
   "cell_type": "markdown",
   "metadata": {
    "_uuid": "c6b97eebdabbe3b8224b27d05b83e27c5236128e"
   },
   "source": [
    "Chlorides are clearly lower for highly rated wines and residual sugar is also mostly on the lower side for better wines."
   ]
  },
  {
   "cell_type": "code",
   "execution_count": 9,
   "metadata": {
    "_uuid": "8cfca5dc5126817b6778b59e2e5bb2188e93d9af"
   },
   "outputs": [],
   "source": [
    "grid.arrange(p6,p7, nrow=1)"
   ]
  },
  {
   "cell_type": "markdown",
   "metadata": {
    "_uuid": "eaba35f6043093261688c83e94dab6a7b804afb1"
   },
   "source": [
    "**Sulfur dioxide:** Corplot showed that free sulfur dioxide and total sulfur dioxide are moderately correlated and their distribution agianst the quality of the wines are similar. Except the wines rated 4, usually the better wines have low sulfur dioxide."
   ]
  },
  {
   "cell_type": "code",
   "execution_count": 10,
   "metadata": {
    "_uuid": "8f07748a04d0ee705e17953768aab4b5073baab1"
   },
   "outputs": [],
   "source": [
    "grid.arrange(p8,p9, nrow=1)"
   ]
  },
  {
   "cell_type": "markdown",
   "metadata": {
    "_uuid": "46021a007acc0236c9a573c8adf74e85a0e24c87"
   },
   "source": [
    "**Density,pH and acidity:** Better wines on an average have lower density and higher pH. As we can see from the correlation matrix pH and acidity are moderately negatively correlated. We saw earlier that better wines had usually lower acidity, so one would expect pH for highly rated wines to be higher."
   ]
  },
  {
   "cell_type": "code",
   "execution_count": 11,
   "metadata": {
    "_uuid": "97ab200caa36286d3330d2ddcef555da1e9eafb2"
   },
   "outputs": [],
   "source": [
    "grid.arrange(p10,p11, nrow=1)"
   ]
  },
  {
   "cell_type": "markdown",
   "metadata": {
    "_uuid": "07c25fedfd3daf603c25695c8276bc7085e47886"
   },
   "source": [
    "Sulphates don't have clear differentiating pattern but it is clear that better wines have on an average higher alcohol content."
   ]
  },
  {
   "cell_type": "markdown",
   "metadata": {
    "_uuid": "64f2d36451faf0f0ae161ea5a4ccc6dbe603369c"
   },
   "source": [
    "**Linear Regression Model**     \n",
    "Now let's create a linear regression model and find out which variables are significant. We will improve our model by removing the insignificant variables and checking for improvement in R-Squared value. So, first we will create a model to predict the quality of the wines. For this model we are going to use the first wine dataset that didn't have the derived variable 'rating'. \n",
    "First we will have to split our dataset into training and testing sets. Training set wiill be used to craete our model and we will predict over testing set."
   ]
  },
  {
   "cell_type": "code",
   "execution_count": 12,
   "metadata": {
    "_uuid": "731bedbb72c3f9d0dfded56a582fd6103ed5fdc4"
   },
   "outputs": [],
   "source": [
    "# Splitting the data into Training and Testing sets\n",
    "library(caTools)\n",
    "set.seed(144)\n",
    "spl = sample.split(wine$quality, 0.7)\n",
    "train = subset(wine, spl == TRUE)\n",
    "test=subset(wine,spl==FALSE)"
   ]
  },
  {
   "cell_type": "code",
   "execution_count": 13,
   "metadata": {
    "_uuid": "0cd95f826884b1feb026955397c0bd77cab694af",
    "scrolled": true
   },
   "outputs": [],
   "source": [
    "model1 <- lm(quality ~ .-rating, data = train)\n",
    "summary(model1)"
   ]
  },
  {
   "cell_type": "markdown",
   "metadata": {
    "_uuid": "d3dbd1f09f5fb2acfd5ea1f92cb1fe6f9fd146e3"
   },
   "source": [
    "Adjusted R-squared for this model is **0.2831. **Citric acid, total sulfur dioxide and chlorides are not significant. One peculiar observation is that from our box-plot we saw that chlorides were lower for better wines but according to this model it is not significant. One more peculiar observation is that chloride is moderately correlated with alcohol and alcohol was usually higher for better wines. We will remove the insignificant variables and see if that improves R-squared of the model."
   ]
  },
  {
   "cell_type": "code",
   "execution_count": 14,
   "metadata": {
    "_uuid": "5a0efa56015b945c7c159c3e5ec581b4fdea9e07"
   },
   "outputs": [],
   "source": [
    "model2 <- lm(quality ~ .-rating-chlorides-total.sulfur.dioxide-citric.acid, data = train)\n",
    "summary(model2)"
   ]
  },
  {
   "cell_type": "markdown",
   "metadata": {
    "_uuid": "23e01cf05e653e321601a5bf46144316456f6fcf"
   },
   "source": [
    "Adjusted R-squared for this model is **0.2837**. This model didn't improve on the previous one significantly. One more observation is that now all variables in the model are significant and same level of significance. Let's remove fixed acidity and see if that improves our model as it is the lowest significant variable based on the p-value."
   ]
  },
  {
   "cell_type": "code",
   "execution_count": 15,
   "metadata": {
    "_uuid": "dd87ac1bd71c52848545613a00a988c89943044d"
   },
   "outputs": [],
   "source": [
    "model3 <- lm(quality ~ .-rating-chlorides-total.sulfur.dioxide-citric.acid-fixed.acidity, data = train)\n",
    "summary(model3)"
   ]
  },
  {
   "cell_type": "markdown",
   "metadata": {
    "_uuid": "b25d30c3d11cacf93fef29d6fbbcab51cd1b0566"
   },
   "source": [
    "Removing fixed acidity didn't improve our model. We can see one problem in our model is that predictors are continuous while quality is integer in our dataset. Prediction made by our model will not be integer, so it is difficult to explain the variation in quality using linear model. We can check the prediction made by our best model (model2) over testing set."
   ]
  },
  {
   "cell_type": "code",
   "execution_count": 16,
   "metadata": {
    "_uuid": "785cb0c8d8c876bfccccd6d410bca4a6e0bc99c2",
    "scrolled": true
   },
   "outputs": [],
   "source": [
    "predictTest <- predict(model2, newdata = test)\n",
    "summary(predictTest)"
   ]
  },
  {
   "cell_type": "markdown",
   "metadata": {
    "_uuid": "9f7229519dfac22eb07ffab0336c78b6bf661acd"
   },
   "source": [
    "We can see the limitations of our linear regression model. First it is not predicting integer values and maximum value is only **7.2**, so it is not predicting any wine to be of high quality.\n",
    "\n",
    "We will now change our approach to predict the quality. Instead of predicting a single value, we will predict for the classification of the variable 'rating'. "
   ]
  },
  {
   "cell_type": "markdown",
   "metadata": {
    "_uuid": "17492214f772c4d817f9276b7500088ca2260b61"
   },
   "source": [
    "**Logistics Regression Model**    \n",
    "We will make a logistics regression model to predict the quality of wine using input variables. First we will split our dataset into training and testing sets and then create a logistic regression model using the training set."
   ]
  },
  {
   "cell_type": "code",
   "execution_count": 17,
   "metadata": {
    "_uuid": "9f7b9c961e264a10e99e238d2cbceb07d0c1854a"
   },
   "outputs": [],
   "source": [
    "# Splitting the data into Training and Testing sets\n",
    "library(caTools)\n",
    "set.seed(144)\n",
    "spl = sample.split(wine$rating, 0.7)\n",
    "train1 = subset(wine, spl == TRUE)\n",
    "test1=subset(wine,spl==FALSE)"
   ]
  },
  {
   "cell_type": "code",
   "execution_count": 18,
   "metadata": {
    "_uuid": "f808dacb68d83fc415936d0f6e0df87fa1b5cc3f"
   },
   "outputs": [],
   "source": [
    "# Creating the logistics regression model\n",
    "mod = glm(rating ~.-quality ,data=train1,family = \"binomial\")\n",
    "summary(mod)"
   ]
  },
  {
   "cell_type": "markdown",
   "metadata": {
    "_uuid": "ad6a2fe378dd28fd045d1ce3b2cfd84e0b620114"
   },
   "source": [
    "**Significant variables**  \n",
    "* fixed.acidity    \n",
    "* volatile.acidity  \n",
    "* residual.sugar  \n",
    "* free.sulfur.dioxide  \n",
    "* density  \n",
    "* alcohol   \n",
    "* pH   "
   ]
  },
  {
   "cell_type": "markdown",
   "metadata": {
    "_uuid": "da800528d90abc4af27f7652dc79d18fe31db3d6"
   },
   "source": [
    "**Predicting the quality of wine**   \n",
    "We will use our logistic model to predict over testing set."
   ]
  },
  {
   "cell_type": "code",
   "execution_count": 19,
   "metadata": {
    "_uuid": "5948f64b906dafe419fc19387b802ad2a52fb4e9",
    "scrolled": true
   },
   "outputs": [],
   "source": [
    "prediction = predict(mod, newdata=test1, type=\"response\")\n",
    "table(test$rating, prediction > 0.5)"
   ]
  },
  {
   "cell_type": "markdown",
   "metadata": {
    "_uuid": "d01174bfc39f6aad5485e39334a423a59faee955"
   },
   "source": [
    "Our model predicts that no wine is in the best rated wine group, but actually **54** of the wines are rated 8 or 9 in the test set. Our prediction is same as the baseline prediction. So, there is not much benefit from this model. Let's check what is the maximum value of prediction over test set. "
   ]
  },
  {
   "cell_type": "code",
   "execution_count": 20,
   "metadata": {
    "_uuid": "fc975c74a6ec93128d4589b3a14f23087bce82c6"
   },
   "outputs": [],
   "source": [
    "print(\"The maximum value of prediction over testing set is \")\n",
    "round(max(prediction),3)"
   ]
  },
  {
   "cell_type": "markdown",
   "metadata": {
    "_uuid": "e60645a74d8eb8737911eb3e8547b4c71d72cb77"
   },
   "source": [
    "As the maximum value is less than **0.5**, our model will always predict that wine quality will be less than 8 on the rating used by the experts.\n",
    "\n",
    "**Random Forest Model**   \n",
    "We can remove the insignificant variables and keep modifying the regression model until we get the model with the best accuracy. Instead of repeating this over and over we will use Random Forest model as it is more efficient."
   ]
  },
  {
   "cell_type": "code",
   "execution_count": 21,
   "metadata": {
    "_uuid": "f5b0d99c2591892c024ba582c49bcb03ddb7c3ee"
   },
   "outputs": [],
   "source": [
    "library(randomForest)\n",
    "set.seed(144)\n",
    "fit <- randomForest(rating ~ .-quality,data=train1, importance=TRUE, ntree=2000)\n",
    "varImpPlot(fit)"
   ]
  },
  {
   "cell_type": "markdown",
   "metadata": {
    "_uuid": "0a49d75c96376391e1fc084f4d8e1eb1c7cc567a"
   },
   "source": [
    "**Important Variables: ** The first plot represents % increase in mean squared error accuracy without using a variable. This plot tests to see how worse the model performs without each variable, so a high decrease in accuracy would be expected for very predictive variables.  The second tests to see the result if each variable is taken out and a high score means the variable was important. For our case, we can see from both these plots that alcohol and residual sugar are the most important variables. \n",
    "Now we will visualize the tree for our model using additional libraries.\n",
    "Now let's make prediction over test set.\n"
   ]
  },
  {
   "cell_type": "code",
   "execution_count": 22,
   "metadata": {
    "_uuid": "76debd06864242ca286d7f2df13e632a43091101",
    "scrolled": true
   },
   "outputs": [],
   "source": [
    "Prediction <- predict(fit, test1)\n",
    "table(test1$rating,Prediction > 0.5)"
   ]
  },
  {
   "cell_type": "markdown",
   "metadata": {
    "_uuid": "c99eb9f9093b770815d3563de554bcdbfb1877eb"
   },
   "source": [
    "Unlike the first logistics model, Random Forest model has predicted **16** wines to be the best ones. Accuracy of the logistics model was 1415/(1415+54)= **0.96.**\n",
    "Accuracy of the Random Forest model is (1415+16/(1415+16+38+0**)= 0.974**.\n",
    "\n",
    "**Conditional Inference Trees**  \n",
    "To make even better prediction we will try using a forest of conditional inference trees."
   ]
  },
  {
   "cell_type": "code",
   "execution_count": 32,
   "metadata": {
    "_uuid": "de92a1b48fadb950c62c8ec6528abbe313005640"
   },
   "outputs": [],
   "source": [
    "library(party)\n",
    "set.seed(144)\n",
    "fit2 <- cforest(rating ~ .-quality, data = train1,controls=cforest_unbiased(ntree=2000, mtry=3))\n",
    "Prediction2 <- predict(fit2, newdata=test1, type = \"response\")\n",
    "table(test1$rating, Prediction2 > 0.5)"
   ]
  },
  {
   "cell_type": "markdown",
   "metadata": {
    "_uuid": "c16c0118182881aa337065f42caa16efcfdf76f1"
   },
   "source": [
    "Accuracy of the conditional inference trees model is (1415+52)/(1415+52+2+0) = **0.998.** This model performs the best prediction on test set. So, we are going to use variables used by this model to predict wine quality.\n",
    "\n",
    "**Quality Rating Adjustment**   \n",
    "Random Forest and Conditional inference Tree model predicted with very astonishing accuracy. One thing we missed to notice that less than **4%** of the wines were rated good in this case. Let's see if we change the basis of our rating and check how these two model perform then. This time we will rate wine quality above **6 (i.e. 7-9**) to be good wines and quality 6 or less than 6 to be not good."
   ]
  },
  {
   "cell_type": "code",
   "execution_count": 33,
   "metadata": {
    "_uuid": "10377662dda1db874b6d3d189aeb713e6f3f5725"
   },
   "outputs": [],
   "source": [
    "wine$rating2   <- ifelse (as.integer(wine$quality) > 6, 1, 0)\n",
    "glimpse(wine)\n",
    "table(wine$rating2)"
   ]
  },
  {
   "cell_type": "markdown",
   "metadata": {
    "_uuid": "476caf1d4c8aadcc897290cb7dedc7c68ac5157d"
   },
   "source": [
    "This time around **22%** of the wines are rated good. We will make our training and testing set again by splitting the data."
   ]
  },
  {
   "cell_type": "code",
   "execution_count": 39,
   "metadata": {
    "_uuid": "580fef938ab4de9ce45148cc7fb208dc3eac2acd"
   },
   "outputs": [],
   "source": [
    "library(caTools)\n",
    "set.seed(144)\n",
    "spl = sample.split(wine$rating2, 0.7)\n",
    "train2 = subset(wine, spl == TRUE)\n",
    "test2 =subset(wine,spl==FALSE)"
   ]
  },
  {
   "cell_type": "code",
   "execution_count": 35,
   "metadata": {
    "_uuid": "58c6856326d2f49ed293de6025232bb36c26f295"
   },
   "outputs": [],
   "source": [
    "# random Forest Model\n",
    "library(randomForest)\n",
    "set.seed(144)\n",
    "fit3 <- randomForest(rating2 ~ .-quality-rating,data=train2, importance=TRUE, ntree=2000)\n",
    "varImpPlot(fit3)"
   ]
  },
  {
   "cell_type": "code",
   "execution_count": 36,
   "metadata": {
    "_uuid": "f37773ce1fae9749732d366b697529a0273576d1"
   },
   "outputs": [],
   "source": [
    "Prediction3 <- predict(fit, test2)\n",
    "table(test2$rating2,Prediction3 > 0.5)"
   ]
  },
  {
   "cell_type": "markdown",
   "metadata": {
    "_uuid": "1de0c8a5692556a5038db672ecc12892af2a29f9"
   },
   "source": [
    "Accuracy of the Random Forest model is (1151+45)/(1151+45+273+0) = **0.814.**  Let's now make a conditional inference tree to predict wine rating."
   ]
  },
  {
   "cell_type": "code",
   "execution_count": 38,
   "metadata": {
    "_uuid": "2e777cee7cd62651f3df633c43d8f263e43531c4"
   },
   "outputs": [],
   "source": [
    "library(party)\n",
    "set.seed(144)\n",
    "fit4 <- cforest(rating2 ~ .-quality-rating, data = train2,controls=cforest_unbiased(ntree=2000, mtry=3))\n",
    "Prediction4 <- predict(fit4, newdata=test2, type = \"response\")\n",
    "table(test2$rating2, Prediction4 > 0.5)"
   ]
  },
  {
   "cell_type": "markdown",
   "metadata": {
    "_uuid": "89cb924ab8f75f7e81762fd93f73b9b44a81ff93"
   },
   "source": [
    "Accuracy of the conditional inference tree model is 100 %.  "
   ]
  }
 ],
 "metadata": {
  "kernelspec": {
   "display_name": "Julia 1.4.2",
   "language": "julia",
   "name": "julia-1.4"
  },
  "language_info": {
   "codemirror_mode": "r",
   "file_extension": ".r",
   "mimetype": "text/x-r-source",
   "name": "R",
   "pygments_lexer": "r",
   "version": "3.4.2"
  },
  "toc": {
   "base_numbering": 1,
   "nav_menu": {},
   "number_sections": true,
   "sideBar": true,
   "skip_h1_title": false,
   "title_cell": "Table of Contents",
   "title_sidebar": "Contents",
   "toc_cell": false,
   "toc_position": {},
   "toc_section_display": true,
   "toc_window_display": false
  }
 },
 "nbformat": 4,
 "nbformat_minor": 1
}
