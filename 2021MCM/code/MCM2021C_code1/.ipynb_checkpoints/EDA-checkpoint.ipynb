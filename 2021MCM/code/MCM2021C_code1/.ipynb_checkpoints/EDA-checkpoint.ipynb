{
 "cells": [
  {
   "cell_type": "code",
   "execution_count": 132,
   "metadata": {},
   "outputs": [],
   "source": [
    "import pandas as pd\n",
    "import matplotlib.pyplot as plt\n",
    "import numpy as np\n"
   ]
  },
  {
   "cell_type": "code",
   "execution_count": 3,
   "metadata": {},
   "outputs": [],
   "source": [
    "img_id_path = './2021MCM_ProblemC_ Images_by_GlobalID.xlsx'"
   ]
  },
  {
   "cell_type": "code",
   "execution_count": 31,
   "metadata": {},
   "outputs": [],
   "source": [
    "img_dataset_path = './2021MCMProblemC_DataSet.xlsx'"
   ]
  },
  {
   "cell_type": "code",
   "execution_count": 32,
   "metadata": {},
   "outputs": [
    {
     "name": "stderr",
     "output_type": "stream",
     "text": [
      "E:\\Anaconda3\\lib\\site-packages\\openpyxl\\worksheet\\header_footer.py:48: UserWarning: Cannot parse header or footer so it will be ignored\n",
      "  warn(\"\"\"Cannot parse header or footer so it will be ignored\"\"\")\n"
     ]
    }
   ],
   "source": [
    "img_id_csv = pd.read_excel(img_id_path)"
   ]
  },
  {
   "cell_type": "code",
   "execution_count": 33,
   "metadata": {},
   "outputs": [
    {
     "data": {
      "text/html": [
       "<div>\n",
       "<style scoped>\n",
       "    .dataframe tbody tr th:only-of-type {\n",
       "        vertical-align: middle;\n",
       "    }\n",
       "\n",
       "    .dataframe tbody tr th {\n",
       "        vertical-align: top;\n",
       "    }\n",
       "\n",
       "    .dataframe thead th {\n",
       "        text-align: right;\n",
       "    }\n",
       "</style>\n",
       "<table border=\"1\" class=\"dataframe\">\n",
       "  <thead>\n",
       "    <tr style=\"text-align: right;\">\n",
       "      <th></th>\n",
       "      <th>FileName</th>\n",
       "      <th>GlobalID</th>\n",
       "      <th>FileType</th>\n",
       "      <th>Unnamed: 3</th>\n",
       "    </tr>\n",
       "  </thead>\n",
       "  <tbody>\n",
       "    <tr>\n",
       "      <th>0</th>\n",
       "      <td>ATT1_DSCN9647.jpg</td>\n",
       "      <td>{5AC8034E-5B46-4294-85F0-5B13117EBEFE}</td>\n",
       "      <td>image/jpg</td>\n",
       "      <td>NaN</td>\n",
       "    </tr>\n",
       "    <tr>\n",
       "      <th>1</th>\n",
       "      <td>ATT10_67EAF187-B59C-4F5F-BAAC-9F76E06A96D6.jpg</td>\n",
       "      <td>{C4F44511-EA53-4FCF-9422-E1C57703720D}</td>\n",
       "      <td>image/jpg</td>\n",
       "      <td>NaN</td>\n",
       "    </tr>\n",
       "    <tr>\n",
       "      <th>2</th>\n",
       "      <td>ATT100_inbound241937372812029587.jpg</td>\n",
       "      <td>{43506835-18B8-46B2-A2CB-586AF9C8ECE6}</td>\n",
       "      <td>image/jpg</td>\n",
       "      <td>NaN</td>\n",
       "    </tr>\n",
       "    <tr>\n",
       "      <th>3</th>\n",
       "      <td>ATT1000_A5A50BAB-A6EF-4576-A1F8-A07862AADE3A.jpg</td>\n",
       "      <td>{E0AE2F2A-38A5-463C-97B5-9F84A477F9AE}</td>\n",
       "      <td>image/jpg</td>\n",
       "      <td>NaN</td>\n",
       "    </tr>\n",
       "    <tr>\n",
       "      <th>4</th>\n",
       "      <td>ATT1001_8B9F8599-61EF-4690-B195-888BCD319F32.png</td>\n",
       "      <td>{1CD14B56-4046-44C4-B1B8-8FB07A9071E9}</td>\n",
       "      <td>image/png</td>\n",
       "      <td>NaN</td>\n",
       "    </tr>\n",
       "  </tbody>\n",
       "</table>\n",
       "</div>"
      ],
      "text/plain": [
       "                                           FileName  \\\n",
       "0                                 ATT1_DSCN9647.jpg   \n",
       "1    ATT10_67EAF187-B59C-4F5F-BAAC-9F76E06A96D6.jpg   \n",
       "2              ATT100_inbound241937372812029587.jpg   \n",
       "3  ATT1000_A5A50BAB-A6EF-4576-A1F8-A07862AADE3A.jpg   \n",
       "4  ATT1001_8B9F8599-61EF-4690-B195-888BCD319F32.png   \n",
       "\n",
       "                                 GlobalID   FileType  Unnamed: 3  \n",
       "0  {5AC8034E-5B46-4294-85F0-5B13117EBEFE}  image/jpg         NaN  \n",
       "1  {C4F44511-EA53-4FCF-9422-E1C57703720D}  image/jpg         NaN  \n",
       "2  {43506835-18B8-46B2-A2CB-586AF9C8ECE6}  image/jpg         NaN  \n",
       "3  {E0AE2F2A-38A5-463C-97B5-9F84A477F9AE}  image/jpg         NaN  \n",
       "4  {1CD14B56-4046-44C4-B1B8-8FB07A9071E9}  image/png         NaN  "
      ]
     },
     "execution_count": 33,
     "metadata": {},
     "output_type": "execute_result"
    }
   ],
   "source": [
    "img_id_csv.head()"
   ]
  },
  {
   "cell_type": "code",
   "execution_count": 34,
   "metadata": {},
   "outputs": [],
   "source": [
    "img_id_csv= img_id_csv[['FileName','GlobalID']]"
   ]
  },
  {
   "cell_type": "code",
   "execution_count": 35,
   "metadata": {},
   "outputs": [],
   "source": [
    "img_path='./img'"
   ]
  },
  {
   "cell_type": "code",
   "execution_count": 36,
   "metadata": {},
   "outputs": [],
   "source": [
    "data_PATH='./data'"
   ]
  },
  {
   "cell_type": "code",
   "execution_count": 37,
   "metadata": {},
   "outputs": [],
   "source": [
    "img_dataset = pd.read_excel(img_dataset_path)"
   ]
  },
  {
   "cell_type": "code",
   "execution_count": 44,
   "metadata": {},
   "outputs": [
    {
     "data": {
      "text/html": [
       "<div>\n",
       "<style scoped>\n",
       "    .dataframe tbody tr th:only-of-type {\n",
       "        vertical-align: middle;\n",
       "    }\n",
       "\n",
       "    .dataframe tbody tr th {\n",
       "        vertical-align: top;\n",
       "    }\n",
       "\n",
       "    .dataframe thead th {\n",
       "        text-align: right;\n",
       "    }\n",
       "</style>\n",
       "<table border=\"1\" class=\"dataframe\">\n",
       "  <thead>\n",
       "    <tr style=\"text-align: right;\">\n",
       "      <th></th>\n",
       "      <th>GlobalID</th>\n",
       "      <th>Detection Date</th>\n",
       "      <th>Notes</th>\n",
       "      <th>Lab Status</th>\n",
       "      <th>Lab Comments</th>\n",
       "      <th>Submission Date</th>\n",
       "      <th>Latitude</th>\n",
       "      <th>Longitude</th>\n",
       "    </tr>\n",
       "  </thead>\n",
       "  <tbody>\n",
       "    <tr>\n",
       "      <th>0</th>\n",
       "      <td>{5AC8034E-5B46-4294-85F0-5B13117EBEFE}</td>\n",
       "      <td>2019-12-08 00:00:00</td>\n",
       "      <td>One dead wasp seen in Blaine, and suspect flyi...</td>\n",
       "      <td>Positive ID</td>\n",
       "      <td></td>\n",
       "      <td>2020-01-15</td>\n",
       "      <td>48.980994</td>\n",
       "      <td>-122.688503</td>\n",
       "    </tr>\n",
       "    <tr>\n",
       "      <th>1</th>\n",
       "      <td>{5EAD3364-2CA7-4A39-9A53-7F9DCF5D2041}</td>\n",
       "      <td>2019-10-30 00:00:00</td>\n",
       "      <td>Hornet specimen sent to WSU</td>\n",
       "      <td>Positive ID</td>\n",
       "      <td></td>\n",
       "      <td>2020-01-15</td>\n",
       "      <td>48.971949</td>\n",
       "      <td>-122.700941</td>\n",
       "    </tr>\n",
       "    <tr>\n",
       "      <th>2</th>\n",
       "      <td>{13B67BCB-AFCE-4100-AD2B-76EF178BA228}</td>\n",
       "      <td>2020-01-15 00:00:00</td>\n",
       "      <td>Massive loss of bees, decapitated. No hornet s...</td>\n",
       "      <td>Unverified</td>\n",
       "      <td></td>\n",
       "      <td>2020-01-15</td>\n",
       "      <td>48.939200</td>\n",
       "      <td>-122.661300</td>\n",
       "    </tr>\n",
       "    <tr>\n",
       "      <th>3</th>\n",
       "      <td>{124B9BFA-7F7B-4B8E-8A56-42E067F0F72E}</td>\n",
       "      <td>2019-09-19 00:00:00</td>\n",
       "      <td>This was the colony that was found and destroy...</td>\n",
       "      <td>Positive ID</td>\n",
       "      <td>Thanks for adding this, and the great pictures!</td>\n",
       "      <td>2020-02-04</td>\n",
       "      <td>49.149394</td>\n",
       "      <td>-123.943134</td>\n",
       "    </tr>\n",
       "    <tr>\n",
       "      <th>4</th>\n",
       "      <td>{BBBA5BA0-CAFB-43D3-8F1D-FB2D9CF777E0}</td>\n",
       "      <td>2019-08-31 00:00:00</td>\n",
       "      <td>I was cleaning my gutters when I heard a snapp...</td>\n",
       "      <td>Unverified</td>\n",
       "      <td>Thanks for this report. I can't verify it from...</td>\n",
       "      <td>2020-02-14</td>\n",
       "      <td>48.723779</td>\n",
       "      <td>-122.354431</td>\n",
       "    </tr>\n",
       "  </tbody>\n",
       "</table>\n",
       "</div>"
      ],
      "text/plain": [
       "                                 GlobalID       Detection Date  \\\n",
       "0  {5AC8034E-5B46-4294-85F0-5B13117EBEFE}  2019-12-08 00:00:00   \n",
       "1  {5EAD3364-2CA7-4A39-9A53-7F9DCF5D2041}  2019-10-30 00:00:00   \n",
       "2  {13B67BCB-AFCE-4100-AD2B-76EF178BA228}  2020-01-15 00:00:00   \n",
       "3  {124B9BFA-7F7B-4B8E-8A56-42E067F0F72E}  2019-09-19 00:00:00   \n",
       "4  {BBBA5BA0-CAFB-43D3-8F1D-FB2D9CF777E0}  2019-08-31 00:00:00   \n",
       "\n",
       "                                               Notes   Lab Status  \\\n",
       "0  One dead wasp seen in Blaine, and suspect flyi...  Positive ID   \n",
       "1                        Hornet specimen sent to WSU  Positive ID   \n",
       "2  Massive loss of bees, decapitated. No hornet s...   Unverified   \n",
       "3  This was the colony that was found and destroy...  Positive ID   \n",
       "4  I was cleaning my gutters when I heard a snapp...   Unverified   \n",
       "\n",
       "                                        Lab Comments Submission Date  \\\n",
       "0                                                         2020-01-15   \n",
       "1                                                         2020-01-15   \n",
       "2                                                         2020-01-15   \n",
       "3    Thanks for adding this, and the great pictures!      2020-02-04   \n",
       "4  Thanks for this report. I can't verify it from...      2020-02-14   \n",
       "\n",
       "    Latitude   Longitude  \n",
       "0  48.980994 -122.688503  \n",
       "1  48.971949 -122.700941  \n",
       "2  48.939200 -122.661300  \n",
       "3  49.149394 -123.943134  \n",
       "4  48.723779 -122.354431  "
      ]
     },
     "execution_count": 44,
     "metadata": {},
     "output_type": "execute_result"
    }
   ],
   "source": [
    "img_dataset.head()"
   ]
  },
  {
   "cell_type": "code",
   "execution_count": 57,
   "metadata": {},
   "outputs": [
    {
     "data": {
      "text/plain": [
       "4440"
      ]
     },
     "execution_count": 57,
     "metadata": {},
     "output_type": "execute_result"
    }
   ],
   "source": [
    "img_dataset.shape[0]"
   ]
  },
  {
   "cell_type": "code",
   "execution_count": 58,
   "metadata": {},
   "outputs": [
    {
     "data": {
      "text/plain": [
       "3305"
      ]
     },
     "execution_count": 58,
     "metadata": {},
     "output_type": "execute_result"
    }
   ],
   "source": [
    "img_id_csv.shape[0]"
   ]
  },
  {
   "cell_type": "code",
   "execution_count": 45,
   "metadata": {},
   "outputs": [],
   "source": [
    "img_ds_idindex=img_dataset.set_index('GlobalID')"
   ]
  },
  {
   "cell_type": "code",
   "execution_count": 55,
   "metadata": {},
   "outputs": [
    {
     "data": {
      "text/plain": [
       "(4440, 7)"
      ]
     },
     "execution_count": 55,
     "metadata": {},
     "output_type": "execute_result"
    }
   ],
   "source": [
    "img_ds_idindex.shape"
   ]
  },
  {
   "cell_type": "code",
   "execution_count": 46,
   "metadata": {},
   "outputs": [],
   "source": [
    "img_id_idindex=img_id_csv.set_index('GlobalID')"
   ]
  },
  {
   "cell_type": "code",
   "execution_count": 60,
   "metadata": {},
   "outputs": [
    {
     "name": "stdout",
     "output_type": "stream",
     "text": [
      "<class 'pandas.core.frame.DataFrame'>\n",
      "Index: 3305 entries, {003166CE-682C-40AD-9850-8F9CB145B79D} to {FFAB9655-A203-47D6-BAFB-BFB0818E7CDD}\n",
      "Data columns (total 8 columns):\n",
      " #   Column           Non-Null Count  Dtype         \n",
      "---  ------           --------------  -----         \n",
      " 0   FileName         3305 non-null   object        \n",
      " 1   Detection Date   3305 non-null   object        \n",
      " 2   Notes            3305 non-null   object        \n",
      " 3   Lab Status       3305 non-null   object        \n",
      " 4   Lab Comments     3305 non-null   object        \n",
      " 5   Submission Date  3305 non-null   datetime64[ns]\n",
      " 6   Latitude         3305 non-null   float64       \n",
      " 7   Longitude        3305 non-null   float64       \n",
      "dtypes: datetime64[ns](1), float64(2), object(5)\n",
      "memory usage: 232.4+ KB\n"
     ]
    }
   ],
   "source": [
    "img_id_idindex.join(img_ds_idindex,how='left').info()"
   ]
  },
  {
   "cell_type": "code",
   "execution_count": 78,
   "metadata": {},
   "outputs": [],
   "source": [
    "hasimg_csv=img_id_idindex.join(img_ds_idindex,how='left')"
   ]
  },
  {
   "cell_type": "code",
   "execution_count": 79,
   "metadata": {},
   "outputs": [],
   "source": [
    "hasimg_csv=hasimg_csv.reset_index()"
   ]
  },
  {
   "cell_type": "code",
   "execution_count": 80,
   "metadata": {},
   "outputs": [],
   "source": [
    "hasimg_csv.to_csv('hasimg.csv')"
   ]
  },
  {
   "cell_type": "code",
   "execution_count": 120,
   "metadata": {},
   "outputs": [
    {
     "data": {
      "text/plain": [
       "True"
      ]
     },
     "execution_count": 120,
     "metadata": {},
     "output_type": "execute_result"
    }
   ],
   "source": [
    "hasimg_csv.shape[0]==img_id_csv.shape[0]"
   ]
  },
  {
   "cell_type": "code",
   "execution_count": 81,
   "metadata": {},
   "outputs": [
    {
     "data": {
      "text/html": [
       "<div>\n",
       "<style scoped>\n",
       "    .dataframe tbody tr th:only-of-type {\n",
       "        vertical-align: middle;\n",
       "    }\n",
       "\n",
       "    .dataframe tbody tr th {\n",
       "        vertical-align: top;\n",
       "    }\n",
       "\n",
       "    .dataframe thead th {\n",
       "        text-align: right;\n",
       "    }\n",
       "</style>\n",
       "<table border=\"1\" class=\"dataframe\">\n",
       "  <thead>\n",
       "    <tr style=\"text-align: right;\">\n",
       "      <th></th>\n",
       "      <th>GlobalID</th>\n",
       "      <th>FileName</th>\n",
       "      <th>Detection Date</th>\n",
       "      <th>Notes</th>\n",
       "      <th>Lab Status</th>\n",
       "      <th>Lab Comments</th>\n",
       "      <th>Submission Date</th>\n",
       "      <th>Latitude</th>\n",
       "      <th>Longitude</th>\n",
       "    </tr>\n",
       "  </thead>\n",
       "  <tbody>\n",
       "    <tr>\n",
       "      <th>0</th>\n",
       "      <td>{003166CE-682C-40AD-9850-8F9CB145B79D}</td>\n",
       "      <td>ATT747_20200706_105832.jpg</td>\n",
       "      <td>2020-07-07 00:00:00</td>\n",
       "      <td>Saw this on the side of the road, the entire t...</td>\n",
       "      <td>Negative ID</td>\n",
       "      <td>That's a female sawfly. That is her ovipositor...</td>\n",
       "      <td>2020-07-07</td>\n",
       "      <td>48.935934</td>\n",
       "      <td>-122.736701</td>\n",
       "    </tr>\n",
       "    <tr>\n",
       "      <th>1</th>\n",
       "      <td>{003166CE-682C-40AD-9850-8F9CB145B79D}</td>\n",
       "      <td>ATT748_20200706_103840.jpg</td>\n",
       "      <td>2020-07-07 00:00:00</td>\n",
       "      <td>Saw this on the side of the road, the entire t...</td>\n",
       "      <td>Negative ID</td>\n",
       "      <td>That's a female sawfly. That is her ovipositor...</td>\n",
       "      <td>2020-07-07</td>\n",
       "      <td>48.935934</td>\n",
       "      <td>-122.736701</td>\n",
       "    </tr>\n",
       "    <tr>\n",
       "      <th>2</th>\n",
       "      <td>{003166CE-682C-40AD-9850-8F9CB145B79D}</td>\n",
       "      <td>ATT749_20200706_105919.jpg</td>\n",
       "      <td>2020-07-07 00:00:00</td>\n",
       "      <td>Saw this on the side of the road, the entire t...</td>\n",
       "      <td>Negative ID</td>\n",
       "      <td>That's a female sawfly. That is her ovipositor...</td>\n",
       "      <td>2020-07-07</td>\n",
       "      <td>48.935934</td>\n",
       "      <td>-122.736701</td>\n",
       "    </tr>\n",
       "    <tr>\n",
       "      <th>3</th>\n",
       "      <td>{00612178-7CAE-4EC8-9D15-8C5F151890F8}</td>\n",
       "      <td>ATT1253_WWU bug.jpg</td>\n",
       "      <td>2020-07-10 00:00:00</td>\n",
       "      <td>I observed at the WWU Campus in the parking lo...</td>\n",
       "      <td>Negative ID</td>\n",
       "      <td>Thanks for your submission. That's a ten lined...</td>\n",
       "      <td>2020-07-27</td>\n",
       "      <td>48.739259</td>\n",
       "      <td>-122.486259</td>\n",
       "    </tr>\n",
       "    <tr>\n",
       "      <th>4</th>\n",
       "      <td>{00A16769-A2AF-4728-9CC2-E37DE45FB7F5}</td>\n",
       "      <td>ATT621_IMG_20200628_144748.jpg</td>\n",
       "      <td>2020-06-28 00:00:00</td>\n",
       "      <td>Gardening, found this huge carapace. Looks lik...</td>\n",
       "      <td>Negative ID</td>\n",
       "      <td>It's really hard to tell what that was, but it...</td>\n",
       "      <td>2020-06-29</td>\n",
       "      <td>47.568041</td>\n",
       "      <td>-122.637503</td>\n",
       "    </tr>\n",
       "  </tbody>\n",
       "</table>\n",
       "</div>"
      ],
      "text/plain": [
       "                                 GlobalID                        FileName  \\\n",
       "0  {003166CE-682C-40AD-9850-8F9CB145B79D}      ATT747_20200706_105832.jpg   \n",
       "1  {003166CE-682C-40AD-9850-8F9CB145B79D}      ATT748_20200706_103840.jpg   \n",
       "2  {003166CE-682C-40AD-9850-8F9CB145B79D}      ATT749_20200706_105919.jpg   \n",
       "3  {00612178-7CAE-4EC8-9D15-8C5F151890F8}             ATT1253_WWU bug.jpg   \n",
       "4  {00A16769-A2AF-4728-9CC2-E37DE45FB7F5}  ATT621_IMG_20200628_144748.jpg   \n",
       "\n",
       "        Detection Date                                              Notes  \\\n",
       "0  2020-07-07 00:00:00  Saw this on the side of the road, the entire t...   \n",
       "1  2020-07-07 00:00:00  Saw this on the side of the road, the entire t...   \n",
       "2  2020-07-07 00:00:00  Saw this on the side of the road, the entire t...   \n",
       "3  2020-07-10 00:00:00  I observed at the WWU Campus in the parking lo...   \n",
       "4  2020-06-28 00:00:00  Gardening, found this huge carapace. Looks lik...   \n",
       "\n",
       "    Lab Status                                       Lab Comments  \\\n",
       "0  Negative ID  That's a female sawfly. That is her ovipositor...   \n",
       "1  Negative ID  That's a female sawfly. That is her ovipositor...   \n",
       "2  Negative ID  That's a female sawfly. That is her ovipositor...   \n",
       "3  Negative ID  Thanks for your submission. That's a ten lined...   \n",
       "4  Negative ID  It's really hard to tell what that was, but it...   \n",
       "\n",
       "  Submission Date   Latitude   Longitude  \n",
       "0      2020-07-07  48.935934 -122.736701  \n",
       "1      2020-07-07  48.935934 -122.736701  \n",
       "2      2020-07-07  48.935934 -122.736701  \n",
       "3      2020-07-27  48.739259 -122.486259  \n",
       "4      2020-06-29  47.568041 -122.637503  "
      ]
     },
     "execution_count": 81,
     "metadata": {},
     "output_type": "execute_result"
    }
   ],
   "source": [
    "hasimg_csv.head()"
   ]
  },
  {
   "cell_type": "code",
   "execution_count": 92,
   "metadata": {},
   "outputs": [],
   "source": [
    "num_classes = hasimg_csv['Lab Status'].unique()"
   ]
  },
  {
   "cell_type": "code",
   "execution_count": 113,
   "metadata": {},
   "outputs": [
    {
     "data": {
      "text/plain": [
       "array(['Negative ID', 'Unverified', 'Positive ID', 'Unprocessed'],\n",
       "      dtype=object)"
      ]
     },
     "execution_count": 113,
     "metadata": {},
     "output_type": "execute_result"
    }
   ],
   "source": [
    "num_classes"
   ]
  },
  {
   "cell_type": "code",
   "execution_count": 94,
   "metadata": {},
   "outputs": [],
   "source": [
    "positive = hasimg_csv[hasimg_csv['Lab Status']=='Positive ID']"
   ]
  },
  {
   "cell_type": "code",
   "execution_count": 99,
   "metadata": {},
   "outputs": [
    {
     "data": {
      "text/plain": [
       "(14, 9)"
      ]
     },
     "execution_count": 99,
     "metadata": {},
     "output_type": "execute_result"
    }
   ],
   "source": [
    "positive.shape"
   ]
  },
  {
   "cell_type": "code",
   "execution_count": 139,
   "metadata": {},
   "outputs": [],
   "source": [
    "def copy_img_to_right_dataset(classname,csv):\n",
    "    source_dir='./img/'\n",
    "    target='./data/'\n",
    "    if classname == 'Positive ID':\n",
    "        target+='Positive/'\n",
    "    elif classname == 'Negative ID':\n",
    "        target+='Negative/'\n",
    "    else:\n",
    "        target+=classname+'//'\n",
    "    right_img = csv[csv['Lab Status']==classname]\n",
    "    right_img['FileName'].apply(lambda x: shutil.copy(source_dir+x, target))"
   ]
  },
  {
   "cell_type": "code",
   "execution_count": 149,
   "metadata": {},
   "outputs": [],
   "source": [
    "#去除重复\n",
    "hasimg_csv=hasimg_csv.drop_duplicates('GlobalID')"
   ]
  },
  {
   "cell_type": "code",
   "execution_count": 152,
   "metadata": {},
   "outputs": [
    {
     "data": {
      "text/html": [
       "<div>\n",
       "<style scoped>\n",
       "    .dataframe tbody tr th:only-of-type {\n",
       "        vertical-align: middle;\n",
       "    }\n",
       "\n",
       "    .dataframe tbody tr th {\n",
       "        vertical-align: top;\n",
       "    }\n",
       "\n",
       "    .dataframe thead th {\n",
       "        text-align: right;\n",
       "    }\n",
       "</style>\n",
       "<table border=\"1\" class=\"dataframe\">\n",
       "  <thead>\n",
       "    <tr style=\"text-align: right;\">\n",
       "      <th></th>\n",
       "      <th>GlobalID</th>\n",
       "      <th>FileName</th>\n",
       "      <th>Detection Date</th>\n",
       "      <th>Notes</th>\n",
       "      <th>Lab Comments</th>\n",
       "      <th>Submission Date</th>\n",
       "      <th>Latitude</th>\n",
       "      <th>Longitude</th>\n",
       "    </tr>\n",
       "    <tr>\n",
       "      <th>Lab Status</th>\n",
       "      <th></th>\n",
       "      <th></th>\n",
       "      <th></th>\n",
       "      <th></th>\n",
       "      <th></th>\n",
       "      <th></th>\n",
       "      <th></th>\n",
       "      <th></th>\n",
       "    </tr>\n",
       "  </thead>\n",
       "  <tbody>\n",
       "    <tr>\n",
       "      <th>Negative ID</th>\n",
       "      <td>2043</td>\n",
       "      <td>2043</td>\n",
       "      <td>2043</td>\n",
       "      <td>2043</td>\n",
       "      <td>2043</td>\n",
       "      <td>2043</td>\n",
       "      <td>2043</td>\n",
       "      <td>2043</td>\n",
       "    </tr>\n",
       "    <tr>\n",
       "      <th>Positive ID</th>\n",
       "      <td>11</td>\n",
       "      <td>11</td>\n",
       "      <td>11</td>\n",
       "      <td>11</td>\n",
       "      <td>11</td>\n",
       "      <td>11</td>\n",
       "      <td>11</td>\n",
       "      <td>11</td>\n",
       "    </tr>\n",
       "    <tr>\n",
       "      <th>Unprocessed</th>\n",
       "      <td>5</td>\n",
       "      <td>5</td>\n",
       "      <td>5</td>\n",
       "      <td>5</td>\n",
       "      <td>5</td>\n",
       "      <td>5</td>\n",
       "      <td>5</td>\n",
       "      <td>5</td>\n",
       "    </tr>\n",
       "    <tr>\n",
       "      <th>Unverified</th>\n",
       "      <td>68</td>\n",
       "      <td>68</td>\n",
       "      <td>68</td>\n",
       "      <td>68</td>\n",
       "      <td>68</td>\n",
       "      <td>68</td>\n",
       "      <td>68</td>\n",
       "      <td>68</td>\n",
       "    </tr>\n",
       "  </tbody>\n",
       "</table>\n",
       "</div>"
      ],
      "text/plain": [
       "             GlobalID  FileName  Detection Date  Notes  Lab Comments  \\\n",
       "Lab Status                                                             \n",
       "Negative ID      2043      2043            2043   2043          2043   \n",
       "Positive ID        11        11              11     11            11   \n",
       "Unprocessed         5         5               5      5             5   \n",
       "Unverified         68        68              68     68            68   \n",
       "\n",
       "             Submission Date  Latitude  Longitude  \n",
       "Lab Status                                         \n",
       "Negative ID             2043      2043       2043  \n",
       "Positive ID               11        11         11  \n",
       "Unprocessed                5         5          5  \n",
       "Unverified                68        68         68  "
      ]
     },
     "execution_count": 152,
     "metadata": {},
     "output_type": "execute_result"
    }
   ],
   "source": [
    "hasimg_csv.groupby('Lab Status').agg('count')"
   ]
  },
  {
   "cell_type": "code",
   "execution_count": 153,
   "metadata": {},
   "outputs": [
    {
     "data": {
      "text/plain": [
       "Text(0.5, 1.0, 'the globalID that has img counts')"
      ]
     },
     "execution_count": 153,
     "metadata": {},
     "output_type": "execute_result"
    },
    {
     "data": {
      "image/png": "[encoded data removed]",
      "text/plain": [
       "<Figure size 432x288 with 1 Axes>"
      ]
     },
     "metadata": {
      "needs_background": "light"
     },
     "output_type": "display_data"
    }
   ],
   "source": [
    "hasimg_csv.groupby('Lab Status')['FileName'].agg('count').plot(kind='bar')\n",
    "plt.title('the globalID that has img counts')"
   ]
  },
  {
   "cell_type": "code",
   "execution_count": 154,
   "metadata": {},
   "outputs": [],
   "source": [
    "for name in num_classes:\n",
    "    copy_img_to_right_dataset(name,hasimg_csv)"
   ]
  },
  {
   "cell_type": "code",
   "execution_count": null,
   "metadata": {},
   "outputs": [],
   "source": []
  }
 ],
 "metadata": {
  "kernelspec": {
   "display_name": "Python 3",
   "language": "python",
   "name": "python3"
  },
  "language_info": {
   "codemirror_mode": {
    "name": "ipython",
    "version": 3
   },
   "file_extension": ".py",
   "mimetype": "text/x-python",
   "name": "python",
   "nbconvert_exporter": "python",
   "pygments_lexer": "ipython3",
   "version": "3.6.8"
  },
  "toc": {
   "base_numbering": 1,
   "nav_menu": {},
   "number_sections": true,
   "sideBar": true,
   "skip_h1_title": false,
   "title_cell": "Table of Contents",
   "title_sidebar": "Contents",
   "toc_cell": false,
   "toc_position": {},
   "toc_section_display": true,
   "toc_window_display": false
  },
  "varInspector": {
   "cols": {
    "lenName": 16,
    "lenType": 16,
    "lenVar": 40
   },
   "kernels_config": {
    "python": {
     "delete_cmd_postfix": "",
     "delete_cmd_prefix": "del ",
     "library": "var_list.py",
     "varRefreshCmd": "print(var_dic_list())"
    },
    "r": {
     "delete_cmd_postfix": ") ",
     "delete_cmd_prefix": "rm(",
     "library": "var_list.r",
     "varRefreshCmd": "cat(var_dic_list()) "
    }
   },
   "types_to_exclude": [
    "module",
    "function",
    "builtin_function_or_method",
    "instance",
    "_Feature"
   ],
   "window_display": false
  }
 },
 "nbformat": 4,
 "nbformat_minor": 4
}
