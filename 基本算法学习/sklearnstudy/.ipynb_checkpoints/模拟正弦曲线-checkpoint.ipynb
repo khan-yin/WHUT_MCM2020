{
 "cells": [
  {
   "cell_type": "code",
   "execution_count": 2,
   "metadata": {},
   "outputs": [],
   "source": [
    "import numpy as np\n",
    "from sklearn.tree import DecisionTreeRegressor\n",
    "import matplotlib.pyplot as plt "
   ]
  },
  {
   "cell_type": "code",
   "execution_count": 4,
   "metadata": {},
   "outputs": [],
   "source": [
    "rng=np.random.RandomState(1)#0-1之间的随机数"
   ]
  },
  {
   "cell_type": "code",
   "execution_count": 5,
   "metadata": {},
   "outputs": [
    {
     "data": {
      "text/plain": [
       "0.417022004702574"
      ]
     },
     "execution_count": 5,
     "metadata": {},
     "output_type": "execute_result"
    }
   ],
   "source": [
    "rng.rand()"
   ]
  },
  {
   "cell_type": "code",
   "execution_count": 7,
   "metadata": {},
   "outputs": [
    {
     "data": {
      "text/plain": [
       "array([0.6852195 , 0.20445225, 0.87811744, 0.02738759, 0.67046751,\n",
       "       0.4173048 , 0.55868983, 0.14038694, 0.19810149, 0.80074457])"
      ]
     },
     "execution_count": 7,
     "metadata": {},
     "output_type": "execute_result"
    }
   ],
   "source": [
    "rng.rand(10)#生成10个随机数"
   ]
  },
  {
   "cell_type": "code",
   "execution_count": 16,
   "metadata": {},
   "outputs": [
    {
     "data": {
      "text/plain": [
       "array([[3.72818596],\n",
       "       [0.15199845],\n",
       "       [1.83271549],\n",
       "       [4.31173126],\n",
       "       [3.46338859],\n",
       "       [3.45471071],\n",
       "       [0.943184  ],\n",
       "       [2.2095214 ],\n",
       "       [2.90788704],\n",
       "       [4.94875854],\n",
       "       [1.01953113],\n",
       "       [1.23866451],\n",
       "       [1.31086542],\n",
       "       [3.75086207],\n",
       "       [2.28487664],\n",
       "       [0.28464719],\n",
       "       [2.5425812 ],\n",
       "       [1.05980082],\n",
       "       [3.99302122],\n",
       "       [1.48665691],\n",
       "       [0.13803006],\n",
       "       [2.96716225],\n",
       "       [4.21920214],\n",
       "       [1.90508062],\n",
       "       [3.74929155],\n",
       "       [2.55570739],\n",
       "       [2.70475902],\n",
       "       [4.79717161],\n",
       "       [4.01980446],\n",
       "       [0.16161533],\n",
       "       [3.54693626],\n",
       "       [2.32500741],\n",
       "       [4.73774471],\n",
       "       [1.10716367],\n",
       "       [1.3353601 ],\n",
       "       [0.40736982],\n",
       "       [2.14309414],\n",
       "       [0.54509382],\n",
       "       [3.1689338 ],\n",
       "       [4.01481619],\n",
       "       [3.48400248],\n",
       "       [3.83105691],\n",
       "       [1.7122706 ],\n",
       "       [4.22925742],\n",
       "       [2.14384387],\n",
       "       [4.12004935],\n",
       "       [3.13248079],\n",
       "       [0.71711524],\n",
       "       [0.3919345 ],\n",
       "       [0.09166321],\n",
       "       [0.33362499],\n",
       "       [2.29291907],\n",
       "       [0.56670961],\n",
       "       [0.13891674],\n",
       "       [3.77430741],\n",
       "       [1.9742524 ],\n",
       "       [3.73469248],\n",
       "       [2.26202413],\n",
       "       [2.25043374],\n",
       "       [2.39036253],\n",
       "       [2.37001963],\n",
       "       [4.01581671],\n",
       "       [2.0119626 ],\n",
       "       [4.5234308 ],\n",
       "       [0.18530524],\n",
       "       [3.86937171],\n",
       "       [0.62820691],\n",
       "       [3.09256783],\n",
       "       [0.05182131],\n",
       "       [2.69313641],\n",
       "       [0.01508978],\n",
       "       [4.75596893],\n",
       "       [4.52701017],\n",
       "       [3.97983471],\n",
       "       [4.5763716 ],\n",
       "       [0.72779116],\n",
       "       [0.78865035],\n",
       "       [0.93815836],\n",
       "       [3.11247951],\n",
       "       [4.52904748]])"
      ]
     },
     "execution_count": 16,
     "metadata": {},
     "output_type": "execute_result"
    }
   ],
   "source": [
    "5*rng.rand(80,1)#生成80×1的数据0-5之间的数"
   ]
  },
  {
   "cell_type": "code",
   "execution_count": 17,
   "metadata": {},
   "outputs": [],
   "source": [
    "X=np.sort(5*rng.rand(80,1),axis=0)#按行排序\n",
    "y=np.sin(X).ravel()"
   ]
  },
  {
   "cell_type": "code",
   "execution_count": 18,
   "metadata": {},
   "outputs": [],
   "source": [
    "y[::5]+=3*(0.5-rng.rand(16))#加噪声"
   ]
  },
  {
   "cell_type": "code",
   "execution_count": 19,
   "metadata": {},
   "outputs": [
    {
     "data": {
      "text/plain": [
       "<matplotlib.collections.PathCollection at 0x2059dad3f08>"
      ]
     },
     "execution_count": 19,
     "metadata": {},
     "output_type": "execute_result"
    },
    {
     "data": {
      "image/png": "[encoded data removed]",
      "text/plain": [
       "<Figure size 432x288 with 1 Axes>"
      ]
     },
     "metadata": {
      "needs_background": "light"
     },
     "output_type": "display_data"
    }
   ],
   "source": [
    "plt.figure()\n",
    "plt.scatter(X,y)"
   ]
  },
  {
   "cell_type": "code",
   "execution_count": null,
   "metadata": {},
   "outputs": [],
   "source": []
  }
 ],
 "metadata": {
  "kernelspec": {
   "display_name": "Python 3",
   "language": "python",
   "name": "python3"
  },
  "language_info": {
   "codemirror_mode": {
    "name": "ipython",
    "version": 3
   },
   "file_extension": ".py",
   "mimetype": "text/x-python",
   "name": "python",
   "nbconvert_exporter": "python",
   "pygments_lexer": "ipython3",
   "version": "3.7.4"
  }
 },
 "nbformat": 4,
 "nbformat_minor": 1
}
