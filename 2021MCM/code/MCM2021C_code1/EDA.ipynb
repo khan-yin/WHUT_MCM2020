{
 "cells": [
  {
   "cell_type": "code",
   "execution_count": 1,
   "metadata": {},
   "outputs": [
    {
     "name": "stderr",
     "output_type": "stream",
     "text": [
      "\n",
      "Bad key \"text.kerning_factor\" on line 4 in\n",
      "C:\\Users\\Hawee\\AppData\\Local\\Continuum\\anaconda3\\envs\\dlpy36\\lib\\site-packages\\matplotlib\\mpl-data\\stylelib\\_classic_test_patch.mplstyle.\n",
      "You probably need to get an updated matplotlibrc file from\n",
      "http://github.com/matplotlib/matplotlib/blob/master/matplotlibrc.template\n",
      "or from the matplotlib source distribution\n"
     ]
    }
   ],
   "source": [
    "import pandas as pd\n",
    "import matplotlib.pyplot as plt\n",
    "import numpy as np\n",
    "import os \n",
    "import shutil"
   ]
  },
  {
   "cell_type": "code",
   "execution_count": 2,
   "metadata": {},
   "outputs": [],
   "source": [
    "img_id_path = './data/2021MCM_ProblemC_ Images_by_GlobalID.xlsx'"
   ]
  },
  {
   "cell_type": "code",
   "execution_count": 3,
   "metadata": {},
   "outputs": [],
   "source": [
    "img_dataset_path = './data/2021MCMProblemC_DataSet.xlsx'"
   ]
  },
  {
   "cell_type": "code",
   "execution_count": 4,
   "metadata": {},
   "outputs": [],
   "source": [
    "img_id_csv = pd.read_excel(img_id_path)"
   ]
  },
  {
   "cell_type": "code",
   "execution_count": 5,
   "metadata": {},
   "outputs": [
    {
     "data": {
      "text/html": [
       "<div>\n",
       "<style scoped>\n",
       "    .dataframe tbody tr th:only-of-type {\n",
       "        vertical-align: middle;\n",
       "    }\n",
       "\n",
       "    .dataframe tbody tr th {\n",
       "        vertical-align: top;\n",
       "    }\n",
       "\n",
       "    .dataframe thead th {\n",
       "        text-align: right;\n",
       "    }\n",
       "</style>\n",
       "<table border=\"1\" class=\"dataframe\">\n",
       "  <thead>\n",
       "    <tr style=\"text-align: right;\">\n",
       "      <th></th>\n",
       "      <th>FileName</th>\n",
       "      <th>GlobalID</th>\n",
       "      <th>FileType</th>\n",
       "    </tr>\n",
       "  </thead>\n",
       "  <tbody>\n",
       "    <tr>\n",
       "      <th>0</th>\n",
       "      <td>ATT1_DSCN9647.jpg</td>\n",
       "      <td>{5AC8034E-5B46-4294-85F0-5B13117EBEFE}</td>\n",
       "      <td>image/jpg</td>\n",
       "    </tr>\n",
       "    <tr>\n",
       "      <th>1</th>\n",
       "      <td>ATT10_67EAF187-B59C-4F5F-BAAC-9F76E06A96D6.jpg</td>\n",
       "      <td>{C4F44511-EA53-4FCF-9422-E1C57703720D}</td>\n",
       "      <td>image/jpg</td>\n",
       "    </tr>\n",
       "    <tr>\n",
       "      <th>2</th>\n",
       "      <td>ATT100_inbound241937372812029587.jpg</td>\n",
       "      <td>{43506835-18B8-46B2-A2CB-586AF9C8ECE6}</td>\n",
       "      <td>image/jpg</td>\n",
       "    </tr>\n",
       "    <tr>\n",
       "      <th>3</th>\n",
       "      <td>ATT1000_A5A50BAB-A6EF-4576-A1F8-A07862AADE3A.jpg</td>\n",
       "      <td>{E0AE2F2A-38A5-463C-97B5-9F84A477F9AE}</td>\n",
       "      <td>image/jpg</td>\n",
       "    </tr>\n",
       "    <tr>\n",
       "      <th>4</th>\n",
       "      <td>ATT1001_8B9F8599-61EF-4690-B195-888BCD319F32.png</td>\n",
       "      <td>{1CD14B56-4046-44C4-B1B8-8FB07A9071E9}</td>\n",
       "      <td>image/png</td>\n",
       "    </tr>\n",
       "  </tbody>\n",
       "</table>\n",
       "</div>"
      ],
      "text/plain": [
       "                                           FileName  \\\n",
       "0                                 ATT1_DSCN9647.jpg   \n",
       "1    ATT10_67EAF187-B59C-4F5F-BAAC-9F76E06A96D6.jpg   \n",
       "2              ATT100_inbound241937372812029587.jpg   \n",
       "3  ATT1000_A5A50BAB-A6EF-4576-A1F8-A07862AADE3A.jpg   \n",
       "4  ATT1001_8B9F8599-61EF-4690-B195-888BCD319F32.png   \n",
       "\n",
       "                                 GlobalID   FileType  \n",
       "0  {5AC8034E-5B46-4294-85F0-5B13117EBEFE}  image/jpg  \n",
       "1  {C4F44511-EA53-4FCF-9422-E1C57703720D}  image/jpg  \n",
       "2  {43506835-18B8-46B2-A2CB-586AF9C8ECE6}  image/jpg  \n",
       "3  {E0AE2F2A-38A5-463C-97B5-9F84A477F9AE}  image/jpg  \n",
       "4  {1CD14B56-4046-44C4-B1B8-8FB07A9071E9}  image/png  "
      ]
     },
     "execution_count": 5,
     "metadata": {},
     "output_type": "execute_result"
    }
   ],
   "source": [
    "img_id_csv.head()"
   ]
  },
  {
   "cell_type": "code",
   "execution_count": 6,
   "metadata": {},
   "outputs": [],
   "source": [
    "img_id_csv= img_id_csv[['FileName','GlobalID']]"
   ]
  },
  {
   "cell_type": "code",
   "execution_count": 7,
   "metadata": {},
   "outputs": [
    {
     "data": {
      "text/plain": [
       "Timestamp('1677-09-22 00:00:00')"
      ]
     },
     "execution_count": 7,
     "metadata": {},
     "output_type": "execute_result"
    }
   ],
   "source": [
    "img_dataset = pd.read_excel(img_dataset_path)\n",
    "img_dataset.head()\n",
    "pd.Timestamp.min.ceil('D')"
   ]
  },
  {
   "cell_type": "code",
   "execution_count": 8,
   "metadata": {},
   "outputs": [
    {
     "data": {
      "text/plain": [
       "0      2019-12-08\n",
       "1      2019-10-30\n",
       "2      2020-01-15\n",
       "3      2019-09-19\n",
       "4      2019-08-31\n",
       "          ...    \n",
       "4435   2020-10-02\n",
       "4436   2020-08-29\n",
       "4437   2020-10-23\n",
       "4438   2020-10-19\n",
       "4439   2020-08-04\n",
       "Name: Detection Date, Length: 4434, dtype: datetime64[ns]"
      ]
     },
     "execution_count": 8,
     "metadata": {},
     "output_type": "execute_result"
    }
   ],
   "source": [
    "img_dataset=img_dataset[img_dataset['Detection Date']!='<Null>']\n",
    "img_dataset['Detection Date']=pd.to_datetime(img_dataset['Detection Date'], errors=\"coerce\")\n",
    "img_dataset = img_dataset.dropna(subset=['Detection Date'])\n",
    "img_dataset['Detection Date']"
   ]
  },
  {
   "cell_type": "code",
   "execution_count": 9,
   "metadata": {},
   "outputs": [],
   "source": [
    "img_ds_idindex=img_dataset.set_index('GlobalID')\n",
    "img_id_idindex=img_id_csv.set_index('GlobalID')"
   ]
  },
  {
   "cell_type": "code",
   "execution_count": 11,
   "metadata": {},
   "outputs": [
    {
     "name": "stdout",
     "output_type": "stream",
     "text": [
      "<class 'pandas.core.frame.DataFrame'>\n",
      "Index: 3305 entries, {003166CE-682C-40AD-9850-8F9CB145B79D} to {FFAB9655-A203-47D6-BAFB-BFB0818E7CDD}\n",
      "Data columns (total 8 columns):\n",
      " #   Column           Non-Null Count  Dtype         \n",
      "---  ------           --------------  -----         \n",
      " 0   FileName         3305 non-null   object        \n",
      " 1   Detection Date   3305 non-null   datetime64[ns]\n",
      " 2   Notes            3305 non-null   object        \n",
      " 3   Lab Status       3305 non-null   object        \n",
      " 4   Lab Comments     3305 non-null   object        \n",
      " 5   Submission Date  3305 non-null   datetime64[ns]\n",
      " 6   Latitude         3305 non-null   float64       \n",
      " 7   Longitude        3305 non-null   float64       \n",
      "dtypes: datetime64[ns](2), float64(2), object(4)\n",
      "memory usage: 232.4+ KB\n"
     ]
    }
   ],
   "source": [
    "img_id_idindex.join(img_ds_idindex,how='left').info()"
   ]
  },
  {
   "cell_type": "code",
   "execution_count": 12,
   "metadata": {},
   "outputs": [],
   "source": [
    "hasimg_csv=img_id_idindex.join(img_ds_idindex,how='left')"
   ]
  },
  {
   "cell_type": "code",
   "execution_count": 13,
   "metadata": {},
   "outputs": [],
   "source": [
    "hasimg_csv=hasimg_csv.reset_index()"
   ]
  },
  {
   "cell_type": "code",
   "execution_count": 16,
   "metadata": {},
   "outputs": [
    {
     "data": {
      "text/plain": [
       "array(['Negative ID', 'Unverified', 'Positive ID', 'Unprocessed'],\n",
       "      dtype=object)"
      ]
     },
     "execution_count": 16,
     "metadata": {},
     "output_type": "execute_result"
    }
   ],
   "source": [
    "num_classes = hasimg_csv['Lab Status'].unique()\n",
    "num_classes"
   ]
  },
  {
   "cell_type": "code",
   "execution_count": 17,
   "metadata": {},
   "outputs": [],
   "source": [
    "source_dir='./data/2021MCM_ProblemC_Files/'\n",
    "def copy_img_to_right_dataset(classname,csv):\n",
    "    target=\"./data/\"+classname+'/'\n",
    "    if not os.path.exists(target):\n",
    "        os.mkdir(target)\n",
    "    right_img = csv[csv['Lab Status']==classname]\n",
    "    right_img['FileName'].apply(lambda x: shutil.copy(source_dir+x, target))"
   ]
  },
  {
   "cell_type": "code",
   "execution_count": 18,
   "metadata": {},
   "outputs": [],
   "source": [
    "#去除重复\n",
    "hasimg_csv=hasimg_csv.drop_duplicates('GlobalID')"
   ]
  },
  {
   "cell_type": "code",
   "execution_count": 19,
   "metadata": {},
   "outputs": [
    {
     "data": {
      "text/html": [
       "<div>\n",
       "<style scoped>\n",
       "    .dataframe tbody tr th:only-of-type {\n",
       "        vertical-align: middle;\n",
       "    }\n",
       "\n",
       "    .dataframe tbody tr th {\n",
       "        vertical-align: top;\n",
       "    }\n",
       "\n",
       "    .dataframe thead th {\n",
       "        text-align: right;\n",
       "    }\n",
       "</style>\n",
       "<table border=\"1\" class=\"dataframe\">\n",
       "  <thead>\n",
       "    <tr style=\"text-align: right;\">\n",
       "      <th></th>\n",
       "      <th>GlobalID</th>\n",
       "      <th>FileName</th>\n",
       "      <th>Detection Date</th>\n",
       "      <th>Notes</th>\n",
       "      <th>Lab Comments</th>\n",
       "      <th>Submission Date</th>\n",
       "      <th>Latitude</th>\n",
       "      <th>Longitude</th>\n",
       "    </tr>\n",
       "    <tr>\n",
       "      <th>Lab Status</th>\n",
       "      <th></th>\n",
       "      <th></th>\n",
       "      <th></th>\n",
       "      <th></th>\n",
       "      <th></th>\n",
       "      <th></th>\n",
       "      <th></th>\n",
       "      <th></th>\n",
       "    </tr>\n",
       "  </thead>\n",
       "  <tbody>\n",
       "    <tr>\n",
       "      <th>Negative ID</th>\n",
       "      <td>2043</td>\n",
       "      <td>2043</td>\n",
       "      <td>2043</td>\n",
       "      <td>2043</td>\n",
       "      <td>2043</td>\n",
       "      <td>2043</td>\n",
       "      <td>2043</td>\n",
       "      <td>2043</td>\n",
       "    </tr>\n",
       "    <tr>\n",
       "      <th>Positive ID</th>\n",
       "      <td>11</td>\n",
       "      <td>11</td>\n",
       "      <td>11</td>\n",
       "      <td>11</td>\n",
       "      <td>11</td>\n",
       "      <td>11</td>\n",
       "      <td>11</td>\n",
       "      <td>11</td>\n",
       "    </tr>\n",
       "    <tr>\n",
       "      <th>Unprocessed</th>\n",
       "      <td>5</td>\n",
       "      <td>5</td>\n",
       "      <td>5</td>\n",
       "      <td>5</td>\n",
       "      <td>5</td>\n",
       "      <td>5</td>\n",
       "      <td>5</td>\n",
       "      <td>5</td>\n",
       "    </tr>\n",
       "    <tr>\n",
       "      <th>Unverified</th>\n",
       "      <td>68</td>\n",
       "      <td>68</td>\n",
       "      <td>68</td>\n",
       "      <td>68</td>\n",
       "      <td>68</td>\n",
       "      <td>68</td>\n",
       "      <td>68</td>\n",
       "      <td>68</td>\n",
       "    </tr>\n",
       "  </tbody>\n",
       "</table>\n",
       "</div>"
      ],
      "text/plain": [
       "             GlobalID  FileName  Detection Date  Notes  Lab Comments  \\\n",
       "Lab Status                                                             \n",
       "Negative ID      2043      2043            2043   2043          2043   \n",
       "Positive ID        11        11              11     11            11   \n",
       "Unprocessed         5         5               5      5             5   \n",
       "Unverified         68        68              68     68            68   \n",
       "\n",
       "             Submission Date  Latitude  Longitude  \n",
       "Lab Status                                         \n",
       "Negative ID             2043      2043       2043  \n",
       "Positive ID               11        11         11  \n",
       "Unprocessed                5         5          5  \n",
       "Unverified                68        68         68  "
      ]
     },
     "execution_count": 19,
     "metadata": {},
     "output_type": "execute_result"
    }
   ],
   "source": [
    "hasimg_csv.groupby('Lab Status').agg('count')"
   ]
  },
  {
   "cell_type": "code",
   "execution_count": 20,
   "metadata": {},
   "outputs": [
    {
     "data": {
      "text/plain": [
       "Text(0.5, 1.0, 'the globalID that has img counts')"
      ]
     },
     "execution_count": 20,
     "metadata": {},
     "output_type": "execute_result"
    },
    {
     "data": {
      "image/png": "[encoded data removed]",
      "text/plain": [
       "<Figure size 432x288 with 1 Axes>"
      ]
     },
     "metadata": {
      "needs_background": "light"
     },
     "output_type": "display_data"
    }
   ],
   "source": [
    "hasimg_csv.groupby('Lab Status')['FileName'].agg('count').plot(kind='bar')\n",
    "plt.title('the globalID that has img counts')"
   ]
  },
  {
   "cell_type": "code",
   "execution_count": 21,
   "metadata": {},
   "outputs": [],
   "source": [
    "for name in num_classes:\n",
    "    copy_img_to_right_dataset(name,hasimg_csv)"
   ]
  },
  {
   "cell_type": "code",
   "execution_count": 22,
   "metadata": {},
   "outputs": [],
   "source": [
    "import matplotlib.pyplot as plt\n",
    "import matplotlib.pyplot as plt\n",
    "import seaborn as sns\n",
    "from matplotlib.backends.backend_pdf import PdfPages"
   ]
  },
  {
   "cell_type": "code",
   "execution_count": 23,
   "metadata": {},
   "outputs": [
    {
     "data": {
      "text/html": [
       "<div>\n",
       "<style scoped>\n",
       "    .dataframe tbody tr th:only-of-type {\n",
       "        vertical-align: middle;\n",
       "    }\n",
       "\n",
       "    .dataframe tbody tr th {\n",
       "        vertical-align: top;\n",
       "    }\n",
       "\n",
       "    .dataframe thead th {\n",
       "        text-align: right;\n",
       "    }\n",
       "</style>\n",
       "<table border=\"1\" class=\"dataframe\">\n",
       "  <thead>\n",
       "    <tr style=\"text-align: right;\">\n",
       "      <th></th>\n",
       "      <th>GlobalID</th>\n",
       "      <th>FileName</th>\n",
       "      <th>Detection Date</th>\n",
       "      <th>Notes</th>\n",
       "      <th>Lab Status</th>\n",
       "      <th>Lab Comments</th>\n",
       "      <th>Submission Date</th>\n",
       "      <th>Latitude</th>\n",
       "      <th>Longitude</th>\n",
       "    </tr>\n",
       "  </thead>\n",
       "  <tbody>\n",
       "    <tr>\n",
       "      <th>2112</th>\n",
       "      <td>{9E37A2AC-716C-4CE7-82F2-C29BE18253FA}</td>\n",
       "      <td>ATT86_D544BB88-A508-4DB5-807F-E9AB6EAF427E.jpg</td>\n",
       "      <td>2010-02-20</td>\n",
       "      <td>I saw on the trail/walking path near Lake Chel...</td>\n",
       "      <td>0</td>\n",
       "      <td>This is a Jerusalem cricket (Stenopelmatus):</td>\n",
       "      <td>2020-05-02</td>\n",
       "      <td>47.780824</td>\n",
       "      <td>-120.022073</td>\n",
       "    </tr>\n",
       "    <tr>\n",
       "      <th>2523</th>\n",
       "      <td>{C10A6385-1A9E-407C-B704-D4C92E0AD487}</td>\n",
       "      <td>ATT75_inbound4940667611353223578.jpg</td>\n",
       "      <td>2012-07-19</td>\n",
       "      <td>I found this dead outside of my business years...</td>\n",
       "      <td>0</td>\n",
       "      <td>It's a cicada killer wasp, a harmless (but sca...</td>\n",
       "      <td>2020-04-21</td>\n",
       "      <td>46.825939</td>\n",
       "      <td>-119.928915</td>\n",
       "    </tr>\n",
       "    <tr>\n",
       "      <th>2601</th>\n",
       "      <td>{C7196F09-439A-4BC9-A8ED-E968F3E85DBF}</td>\n",
       "      <td>ATT3173_Screenshot_20201003-200819.png</td>\n",
       "      <td>2012-07-20</td>\n",
       "      <td>Date approx. Honeybees (about 20) gathering fr...</td>\n",
       "      <td>2</td>\n",
       "      <td>Thanks for the submission. It is hard to detec...</td>\n",
       "      <td>2020-10-04</td>\n",
       "      <td>46.714390</td>\n",
       "      <td>-122.983354</td>\n",
       "    </tr>\n",
       "    <tr>\n",
       "      <th>1953</th>\n",
       "      <td>{936ED6CF-642D-4FBD-9AC9-69BED4D4109C}</td>\n",
       "      <td>ATT53_IMG_4974.jpg</td>\n",
       "      <td>2013-08-31</td>\n",
       "      <td>Photo taken August of 2013 at Moran State Park...</td>\n",
       "      <td>0</td>\n",
       "      <td>Native wood wasp.</td>\n",
       "      <td>2020-04-14</td>\n",
       "      <td>48.653248</td>\n",
       "      <td>-122.850697</td>\n",
       "    </tr>\n",
       "    <tr>\n",
       "      <th>1993</th>\n",
       "      <td>{959164C7-204C-487F-9995-5116CDB56869}</td>\n",
       "      <td>ATT3260_694913C9-97C9-4FB0-BA2B-2C2E864BC26D.jpg</td>\n",
       "      <td>2015-04-07</td>\n",
       "      <td>As noted...this dates back to 2015...but it su...</td>\n",
       "      <td>0</td>\n",
       "      <td>Thanks for the submission. That is a yellow ja...</td>\n",
       "      <td>2020-10-16</td>\n",
       "      <td>48.988013</td>\n",
       "      <td>-122.776979</td>\n",
       "    </tr>\n",
       "  </tbody>\n",
       "</table>\n",
       "</div>"
      ],
      "text/plain": [
       "                                    GlobalID  \\\n",
       "2112  {9E37A2AC-716C-4CE7-82F2-C29BE18253FA}   \n",
       "2523  {C10A6385-1A9E-407C-B704-D4C92E0AD487}   \n",
       "2601  {C7196F09-439A-4BC9-A8ED-E968F3E85DBF}   \n",
       "1953  {936ED6CF-642D-4FBD-9AC9-69BED4D4109C}   \n",
       "1993  {959164C7-204C-487F-9995-5116CDB56869}   \n",
       "\n",
       "                                              FileName Detection Date  \\\n",
       "2112    ATT86_D544BB88-A508-4DB5-807F-E9AB6EAF427E.jpg     2010-02-20   \n",
       "2523              ATT75_inbound4940667611353223578.jpg     2012-07-19   \n",
       "2601            ATT3173_Screenshot_20201003-200819.png     2012-07-20   \n",
       "1953                                ATT53_IMG_4974.jpg     2013-08-31   \n",
       "1993  ATT3260_694913C9-97C9-4FB0-BA2B-2C2E864BC26D.jpg     2015-04-07   \n",
       "\n",
       "                                                  Notes  Lab Status  \\\n",
       "2112  I saw on the trail/walking path near Lake Chel...           0   \n",
       "2523  I found this dead outside of my business years...           0   \n",
       "2601  Date approx. Honeybees (about 20) gathering fr...           2   \n",
       "1953  Photo taken August of 2013 at Moran State Park...           0   \n",
       "1993  As noted...this dates back to 2015...but it su...           0   \n",
       "\n",
       "                                           Lab Comments Submission Date  \\\n",
       "2112     This is a Jerusalem cricket (Stenopelmatus):        2020-05-02   \n",
       "2523  It's a cicada killer wasp, a harmless (but sca...      2020-04-21   \n",
       "2601  Thanks for the submission. It is hard to detec...      2020-10-04   \n",
       "1953                                  Native wood wasp.      2020-04-14   \n",
       "1993  Thanks for the submission. That is a yellow ja...      2020-10-16   \n",
       "\n",
       "       Latitude   Longitude  \n",
       "2112  47.780824 -120.022073  \n",
       "2523  46.825939 -119.928915  \n",
       "2601  46.714390 -122.983354  \n",
       "1953  48.653248 -122.850697  \n",
       "1993  48.988013 -122.776979  "
      ]
     },
     "execution_count": 23,
     "metadata": {},
     "output_type": "execute_result"
    }
   ],
   "source": [
    "\n",
    "cls_mapping = {\n",
    "    'Negative ID': 0,\n",
    "    'Positive ID': 1,\n",
    "    'Unprocessed': 2,\n",
    "    'Unverified': 2\n",
    "}\n",
    "\n",
    "hasimg_csv['Lab Status']=hasimg_csv['Lab Status'].map(cls_mapping)\n",
    "hasimg_csv=hasimg_csv.sort_values(by='Detection Date')\n",
    "hasimg_csv.head(3)\n",
    "hasimg_csv[\"new_feature\"] = "
   ]
  },
  {
   "cell_type": "code",
   "execution_count": 88,
   "metadata": {},
   "outputs": [
    {
     "data": {
      "image/png": "[encoded data removed]",
      "text/plain": [
       "<Figure size 432x288 with 1 Axes>"
      ]
     },
     "metadata": {
      "needs_background": "light"
     },
     "output_type": "display_data"
    }
   ],
   "source": [
    "IGNORE_EARLIER_REPORT = 30\n",
    "\n",
    "def plot_report_kde(hasimg_csv, save=True, name=\"report_kde\"):\n",
    "    date_sq = hasimg_csv[\"Detection Date\"].iloc[IGNORE_EARLIER_REPORT:]\n",
    "    \n",
    "    ax = sns.kdeplot((date_sq-date_sq.iloc[0])/pd.Timedelta(days=1), shade=True, color='r')\n",
    "    ax.set_xticklabels(list(date_sq.dt.strftime('%Y-%m-%d')))\n",
    "    ax.set_xlabel(\"Date\")\n",
    "    ax.set_ylabel(\"Probability density of the report\")\n",
    "    plt.xticks(rotation=45) \n",
    "    plt.tight_layout()\n",
    "    if save:\n",
    "        pdf = PdfPages(\"./img//{}.pdf\".format(name))\n",
    "        pdf.savefig()\n",
    "        plt.show()\n",
    "        pdf.close()\n",
    "    else:\n",
    "        plt.show()\n",
    "    plt.close()\n",
    "    \n",
    "    \n",
    "plot_report_kde(hasimg_csv)"
   ]
  },
  {
   "cell_type": "code",
   "execution_count": null,
   "metadata": {},
   "outputs": [],
   "source": [
    "START_DATE = pd.Timestamp('2019-01-01')\n",
    "def plot_report_kdes(hasimg_csv, save=True, name=\"report_kde\"):\n",
    "    positive_csv = hasimg_csv[hasimg_csv['Lab Status']==1]\n",
    "    negative_csv = hasimg_csv[hasimg_csv['Lab Status']==0]\n",
    "    unverified_csv = hasimg_csv[hasimg_csv['Lab Status']==2]\n",
    "    \n",
    "    pos_date_sq = positive_csv[\"Detection Date\"].iloc[IGNORE_EARLIER_REPORT:]\n",
    "    neg_date_sq = negative_csv[\"Detection Date\"].iloc[IGNORE_EARLIER_REPORT:]\n",
    "    unv_date_sq = unverified_csv[\"Detection Date\"].iloc[IGNORE_EARLIER_REPORT:]\n",
    "    earliest = pos_date_sq.iloc[0]\n",
    "    \n",
    "    fig, ax = plt.subplots()\n",
    "    sns.kdeplot((pos_date_sq-earliest)/pd.Timedelta(days=1), shade=True, ax=ax\n",
    "                 #, color='r'\n",
    "                )\n",
    "    sns.kdeplot((neg_date_sq-earliest)/pd.Timedelta(days=1), shade=True, ax=ax\n",
    "                 #, color='r'\n",
    "                )\n",
    "    sns.kdeplot((unv_date_sq-earliest)/pd.Timedelta(days=1), shade=True, ax=ax\n",
    "                 #, color='r'\n",
    "                )\n",
    "    ax.set_xticklabels(list(date_sq.dt.strftime('%Y-%m-%d')))\n",
    "    ax.set_xlabel(\"Date\")\n",
    "    ax.set_ylabel(\"Probability density of the report\")\n",
    "    plt.xticks(rotation=45) \n",
    "    plt.tight_layout()\n",
    "    if save:\n",
    "        pdf = PdfPages(\"./img//{}.pdf\".format(name))\n",
    "        pdf.savefig()\n",
    "        plt.show()\n",
    "        pdf.close()\n",
    "    else:\n",
    "        plt.show()\n",
    "    plt.close()"
   ]
  },
  {
   "cell_type": "code",
   "execution_count": null,
   "metadata": {},
   "outputs": [],
   "source": [
    "date_sq = hasimg_csv[\"Detection Date\"].iloc[IGNORE_EARLIER_REPORT:]\n",
    "date_sq.iloc[0]\n",
    "plot_report_kde(date_sq)"
   ]
  },
  {
   "cell_type": "code",
   "execution_count": 24,
   "metadata": {},
   "outputs": [
    {
     "data": {
      "image/png": "[encoded data removed]",
      "text/plain": [
       "<Figure size 432x288 with 1 Axes>"
      ]
     },
     "metadata": {
      "needs_background": "light"
     },
     "output_type": "display_data"
    }
   ],
   "source": [
    "def plot_map(hasimg_csv, save=True, name=\"map\"):\n",
    "    # print(station[\"classID\"])\n",
    "    positive_csv = hasimg_csv[hasimg_csv['Lab Status']==1]\n",
    "    negative_csv = hasimg_csv[hasimg_csv['Lab Status']==0]\n",
    "    unverified_csv = hasimg_csv[hasimg_csv['Lab Status']==2]\n",
    "    plt.figure()\n",
    "    plt.scatter(negative_csv['Longitude'], negative_csv['Latitude'],c='b',alpha=.5)\n",
    "    plt.scatter(unverified_csv['Longitude'], unverified_csv['Latitude'],c='orange',alpha=.5)\n",
    "    plt.scatter(positive_csv['Longitude'], positive_csv['Latitude'],c='r')\n",
    "    plt.xlabel(\"Longitude\")\n",
    "    plt.ylabel(\"Latitude\")\n",
    "    if save:\n",
    "        pdf = PdfPages(\"./img//{}.pdf\".format(name))\n",
    "        pdf.savefig()\n",
    "        plt.show()\n",
    "        pdf.close()\n",
    "    else:\n",
    "        plt.show()\n",
    "    plt.close()\n",
    "\n",
    "plot_map(hasimg_csv)"
   ]
  },
  {
   "cell_type": "code",
   "execution_count": 89,
   "metadata": {},
   "outputs": [
    {
     "data": {
      "image/png": "[encoded data removed]",
      "text/plain": [
       "<Figure size 648x648 with 12 Axes>"
      ]
     },
     "metadata": {
      "needs_background": "light"
     },
     "output_type": "display_data"
    }
   ],
   "source": [
    "def plot_maps(hasimg_csv, n=12, timespan=None, save=True, name=\"maps\"):\n",
    "    # print(station[\"classID\"])\n",
    "    latest=hasimg_csv[\"Detection Date\"].iloc[-1]\n",
    "    if timespan is None:\n",
    "        earliest = hasimg_csv[\"Detection Date\"].iloc[0]\n",
    "        timespan = latest-earliest\n",
    "    else:\n",
    "        earliest = latest-timespan\n",
    "    timestep=timespan/n\n",
    "    fig, axs = plt.subplots(n//3, 3, figsize=(9, 3*n/4))\n",
    "    for i in range(n):\n",
    "        begin = earliest+timestep*i\n",
    "        end = earliest+timestep*(i+1)\n",
    "        time_silce=hasimg_csv[(hasimg_csv[\"Detection Date\"]>begin) & (hasimg_csv[\"Detection Date\"]<end)]\n",
    "        positive_csv = time_silce[time_silce['Lab Status']==1]\n",
    "        negative_csv = time_silce[time_silce['Lab Status']==0]\n",
    "        unverified_csv = time_silce[time_silce['Lab Status']==2]\n",
    "        axs[i//3, i%3].scatter(negative_csv['Longitude'], negative_csv['Latitude'],c='b',alpha=.5)\n",
    "        axs[i//3, i%3].scatter(unverified_csv['Longitude'], unverified_csv['Latitude'],c='orange',alpha=.5)\n",
    "        axs[i//3, i%3].scatter(positive_csv['Longitude'], positive_csv['Latitude'],c='r')\n",
    "        axs[i//3, i%3].set_xlim((-125, -116))\n",
    "        axs[i//3, i%3].set_ylim((45, 50))\n",
    "        axs[i//3, i%3].set_xlabel(\"Longitude\")\n",
    "        axs[i//3, i%3].set_ylabel(\"Latitude\")\n",
    "        axs[i//3, i%3].set_title('{} to {}'.format(begin.strftime('%Y-%m-%d'), end.strftime('%Y-%m-%d')))\n",
    "    plt.title(\"Report occurred within a time period\")\n",
    "    plt.tight_layout()\n",
    "    if save:\n",
    "        pdf = PdfPages(\"./img//{}.pdf\".format(name))\n",
    "        pdf.savefig()\n",
    "        plt.show()\n",
    "        pdf.close()\n",
    "    else:\n",
    "        plt.show()\n",
    "    plt.close()\n",
    "\n",
    "plot_maps(hasimg_csv, timespan=pd.Timedelta(days=365))"
   ]
  },
  {
   "cell_type": "code",
   "execution_count": null,
   "metadata": {},
   "outputs": [],
   "source": []
  }
 ],
 "metadata": {
  "kernelspec": {
   "display_name": "Python 3",
   "language": "python",
   "name": "python3"
  },
  "language_info": {
   "codemirror_mode": {
    "name": "ipython",
    "version": 3
   },
   "file_extension": ".py",
   "mimetype": "text/x-python",
   "name": "python",
   "nbconvert_exporter": "python",
   "pygments_lexer": "ipython3",
   "version": "3.6.8"
  },
  "toc": {
   "base_numbering": 1,
   "nav_menu": {},
   "number_sections": true,
   "sideBar": true,
   "skip_h1_title": false,
   "title_cell": "Table of Contents",
   "title_sidebar": "Contents",
   "toc_cell": false,
   "toc_position": {},
   "toc_section_display": true,
   "toc_window_display": false
  },
  "varInspector": {
   "cols": {
    "lenName": 16,
    "lenType": 16,
    "lenVar": 40
   },
   "kernels_config": {
    "python": {
     "delete_cmd_postfix": "",
     "delete_cmd_prefix": "del ",
     "library": "var_list.py",
     "varRefreshCmd": "print(var_dic_list())"
    },
    "r": {
     "delete_cmd_postfix": ") ",
     "delete_cmd_prefix": "rm(",
     "library": "var_list.r",
     "varRefreshCmd": "cat(var_dic_list()) "
    }
   },
   "types_to_exclude": [
    "module",
    "function",
    "builtin_function_or_method",
    "instance",
    "_Feature"
   ],
   "window_display": false
  }
 },
 "nbformat": 4,
 "nbformat_minor": 4
}
