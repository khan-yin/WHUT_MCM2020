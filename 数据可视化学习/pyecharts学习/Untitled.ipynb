{
 "cells": [
  {
   "cell_type": "code",
   "execution_count": 10,
   "metadata": {},
   "outputs": [],
   "source": [
    "import random\n",
    "from pyecharts import HeatMap\n",
    "\n",
    "x_axis = [i for i in range(24)]\n",
    "y_axis = [j for j in range(7)]\n",
    "data = [[i, j, random.randint(0, 4)] for i in range(24) for j in range(7)]\n",
    "heatmap = HeatMap()\n",
    "heatmap.add(\n",
    "    \"热力图直角坐标系\",\n",
    "    x_axis,\n",
    "    y_axis,\n",
    "    data,\n",
    "    is_visualmap=True,\n",
    "    visual_text_color=\"#000\",\n",
    "    visual_orient=\"horizontal\",\n",
    ")\n",
    "heatmap.render()"
   ]
  },
  {
   "cell_type": "code",
   "execution_count": 6,
   "metadata": {},
   "outputs": [],
   "source": [
    "lis=range(24)"
   ]
  },
  {
   "cell_type": "code",
   "execution_count": 8,
   "metadata": {},
   "outputs": [
    {
     "data": {
      "text/plain": [
       "range"
      ]
     },
     "execution_count": 8,
     "metadata": {},
     "output_type": "execute_result"
    }
   ],
   "source": [
    "type(lis)"
   ]
  },
  {
   "cell_type": "code",
   "execution_count": null,
   "metadata": {},
   "outputs": [],
   "source": []
  }
 ],
 "metadata": {
  "kernelspec": {
   "display_name": "Python 3",
   "language": "python",
   "name": "python3"
  },
  "language_info": {
   "codemirror_mode": {
    "name": "ipython",
    "version": 3
   },
   "file_extension": ".py",
   "mimetype": "text/x-python",
   "name": "python",
   "nbconvert_exporter": "python",
   "pygments_lexer": "ipython3",
   "version": "3.7.4"
  }
 },
 "nbformat": 4,
 "nbformat_minor": 4
}
