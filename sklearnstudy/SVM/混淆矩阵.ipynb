{
 "cells": [
  {
   "cell_type": "code",
   "execution_count": 2,
   "metadata": {},
   "outputs": [
    {
     "name": "stderr",
     "output_type": "stream",
     "text": [
      "D:\\Anaconda3\\lib\\importlib\\_bootstrap.py:219: RuntimeWarning: numpy.ufunc size changed, may indicate binary incompatibility. Expected 192 from C header, got 216 from PyObject\n",
      "  return f(*args, **kwds)\n",
      "D:\\Anaconda3\\lib\\importlib\\_bootstrap.py:219: RuntimeWarning: numpy.ufunc size changed, may indicate binary incompatibility. Expected 192 from C header, got 216 from PyObject\n",
      "  return f(*args, **kwds)\n"
     ]
    }
   ],
   "source": [
    "from sklearn.datasets import make_blobs\n",
    "from sklearn import svm\n",
    "import numpy as np\n",
    "import matplotlib.pyplot as plt\n",
    "import pandas as pd"
   ]
  },
  {
   "cell_type": "code",
   "execution_count": 3,
   "metadata": {},
   "outputs": [
    {
     "data": {
      "text/plain": [
       "<matplotlib.collections.PathCollection at 0x29582387fc8>"
      ]
     },
     "execution_count": 3,
     "metadata": {},
     "output_type": "execute_result"
    },
    {
     "data": {
      "image/png": "[encoded data removed]",
      "text/plain": [
       "<Figure size 432x288 with 1 Axes>"
      ]
     },
     "metadata": {
      "needs_background": "light"
     },
     "output_type": "display_data"
    }
   ],
   "source": [
    "class_1_ = 7\n",
    "class_2_ = 4\n",
    "centers_ = [[0.0, 0.0], [1,1]]\n",
    "clusters_std = [0.5, 1]\n",
    "X_, y_ = make_blobs(n_samples=[class_1_, class_2_],\n",
    "                  centers=centers_,\n",
    "                  cluster_std=clusters_std,\n",
    "                  random_state=0, shuffle=False)\n",
    "plt.scatter(X_[:, 0], X_[:, 1], c=y_, cmap=\"rainbow\",s=30)\n"
   ]
  },
  {
   "cell_type": "code",
   "execution_count": 9,
   "metadata": {},
   "outputs": [
    {
     "data": {
      "text/html": [
       "<div>\n",
       "<style scoped>\n",
       "    .dataframe tbody tr th:only-of-type {\n",
       "        vertical-align: middle;\n",
       "    }\n",
       "\n",
       "    .dataframe tbody tr th {\n",
       "        vertical-align: top;\n",
       "    }\n",
       "\n",
       "    .dataframe thead th {\n",
       "        text-align: right;\n",
       "    }\n",
       "</style>\n",
       "<table border=\"1\" class=\"dataframe\">\n",
       "  <thead>\n",
       "    <tr style=\"text-align: right;\">\n",
       "      <th></th>\n",
       "      <th>0</th>\n",
       "      <th>1</th>\n",
       "    </tr>\n",
       "  </thead>\n",
       "  <tbody>\n",
       "    <tr>\n",
       "      <td>0</td>\n",
       "      <td>0.694619</td>\n",
       "      <td>0.305381</td>\n",
       "    </tr>\n",
       "    <tr>\n",
       "      <td>1</td>\n",
       "      <td>0.510931</td>\n",
       "      <td>0.489069</td>\n",
       "    </tr>\n",
       "    <tr>\n",
       "      <td>2</td>\n",
       "      <td>0.820038</td>\n",
       "      <td>0.179962</td>\n",
       "    </tr>\n",
       "    <tr>\n",
       "      <td>3</td>\n",
       "      <td>0.785647</td>\n",
       "      <td>0.214353</td>\n",
       "    </tr>\n",
       "    <tr>\n",
       "      <td>4</td>\n",
       "      <td>0.777387</td>\n",
       "      <td>0.222613</td>\n",
       "    </tr>\n",
       "    <tr>\n",
       "      <td>5</td>\n",
       "      <td>0.656634</td>\n",
       "      <td>0.343366</td>\n",
       "    </tr>\n",
       "    <tr>\n",
       "      <td>6</td>\n",
       "      <td>0.768586</td>\n",
       "      <td>0.231414</td>\n",
       "    </tr>\n",
       "    <tr>\n",
       "      <td>7</td>\n",
       "      <td>0.349171</td>\n",
       "      <td>0.650829</td>\n",
       "    </tr>\n",
       "    <tr>\n",
       "      <td>8</td>\n",
       "      <td>0.366184</td>\n",
       "      <td>0.633816</td>\n",
       "    </tr>\n",
       "    <tr>\n",
       "      <td>9</td>\n",
       "      <td>0.663272</td>\n",
       "      <td>0.336728</td>\n",
       "    </tr>\n",
       "    <tr>\n",
       "      <td>10</td>\n",
       "      <td>0.607529</td>\n",
       "      <td>0.392471</td>\n",
       "    </tr>\n",
       "  </tbody>\n",
       "</table>\n",
       "</div>"
      ],
      "text/plain": [
       "           0         1\n",
       "0   0.694619  0.305381\n",
       "1   0.510931  0.489069\n",
       "2   0.820038  0.179962\n",
       "3   0.785647  0.214353\n",
       "4   0.777387  0.222613\n",
       "5   0.656634  0.343366\n",
       "6   0.768586  0.231414\n",
       "7   0.349171  0.650829\n",
       "8   0.366184  0.633816\n",
       "9   0.663272  0.336728\n",
       "10  0.607529  0.392471"
      ]
     },
     "execution_count": 9,
     "metadata": {},
     "output_type": "execute_result"
    }
   ],
   "source": [
    "from sklearn.linear_model import LogisticRegression as LogiR\n",
    "clf_lo = LogiR().fit(X_,y_)\n",
    "prob = clf_lo.predict_proba(X_)\n",
    "#将样本和概率放到一个DataFrame中\n",
    "import pandas as pd\n",
    "prob = pd.DataFrame(prob)\n",
    "prob.columns = [\"0\",\"1\"]\n",
    "prob"
   ]
  },
  {
   "cell_type": "code",
   "execution_count": 10,
   "metadata": {},
   "outputs": [
    {
     "data": {
      "text/html": [
       "<div>\n",
       "<style scoped>\n",
       "    .dataframe tbody tr th:only-of-type {\n",
       "        vertical-align: middle;\n",
       "    }\n",
       "\n",
       "    .dataframe tbody tr th {\n",
       "        vertical-align: top;\n",
       "    }\n",
       "\n",
       "    .dataframe thead th {\n",
       "        text-align: right;\n",
       "    }\n",
       "</style>\n",
       "<table border=\"1\" class=\"dataframe\">\n",
       "  <thead>\n",
       "    <tr style=\"text-align: right;\">\n",
       "      <th></th>\n",
       "      <th>0</th>\n",
       "      <th>1</th>\n",
       "      <th>pred</th>\n",
       "    </tr>\n",
       "  </thead>\n",
       "  <tbody>\n",
       "    <tr>\n",
       "      <td>0</td>\n",
       "      <td>0.694619</td>\n",
       "      <td>0.305381</td>\n",
       "      <td>0.0</td>\n",
       "    </tr>\n",
       "    <tr>\n",
       "      <td>1</td>\n",
       "      <td>0.510931</td>\n",
       "      <td>0.489069</td>\n",
       "      <td>0.0</td>\n",
       "    </tr>\n",
       "    <tr>\n",
       "      <td>2</td>\n",
       "      <td>0.820038</td>\n",
       "      <td>0.179962</td>\n",
       "      <td>0.0</td>\n",
       "    </tr>\n",
       "    <tr>\n",
       "      <td>3</td>\n",
       "      <td>0.785647</td>\n",
       "      <td>0.214353</td>\n",
       "      <td>0.0</td>\n",
       "    </tr>\n",
       "    <tr>\n",
       "      <td>4</td>\n",
       "      <td>0.777387</td>\n",
       "      <td>0.222613</td>\n",
       "      <td>0.0</td>\n",
       "    </tr>\n",
       "    <tr>\n",
       "      <td>5</td>\n",
       "      <td>0.656634</td>\n",
       "      <td>0.343366</td>\n",
       "      <td>0.0</td>\n",
       "    </tr>\n",
       "    <tr>\n",
       "      <td>6</td>\n",
       "      <td>0.768586</td>\n",
       "      <td>0.231414</td>\n",
       "      <td>0.0</td>\n",
       "    </tr>\n",
       "    <tr>\n",
       "      <td>7</td>\n",
       "      <td>0.349171</td>\n",
       "      <td>0.650829</td>\n",
       "      <td>1.0</td>\n",
       "    </tr>\n",
       "    <tr>\n",
       "      <td>8</td>\n",
       "      <td>0.366184</td>\n",
       "      <td>0.633816</td>\n",
       "      <td>1.0</td>\n",
       "    </tr>\n",
       "    <tr>\n",
       "      <td>9</td>\n",
       "      <td>0.663272</td>\n",
       "      <td>0.336728</td>\n",
       "      <td>0.0</td>\n",
       "    </tr>\n",
       "    <tr>\n",
       "      <td>10</td>\n",
       "      <td>0.607529</td>\n",
       "      <td>0.392471</td>\n",
       "      <td>0.0</td>\n",
       "    </tr>\n",
       "  </tbody>\n",
       "</table>\n",
       "</div>"
      ],
      "text/plain": [
       "           0         1  pred\n",
       "0   0.694619  0.305381   0.0\n",
       "1   0.510931  0.489069   0.0\n",
       "2   0.820038  0.179962   0.0\n",
       "3   0.785647  0.214353   0.0\n",
       "4   0.777387  0.222613   0.0\n",
       "5   0.656634  0.343366   0.0\n",
       "6   0.768586  0.231414   0.0\n",
       "7   0.349171  0.650829   1.0\n",
       "8   0.366184  0.633816   1.0\n",
       "9   0.663272  0.336728   0.0\n",
       "10  0.607529  0.392471   0.0"
      ]
     },
     "execution_count": 10,
     "metadata": {},
     "output_type": "execute_result"
    }
   ],
   "source": [
    "#手动调节阈值，来改变我们的模型效果\n",
    "for i in range(prob.shape[0]):\n",
    "    if prob.loc[i,\"1\"] > 0.5:\n",
    "        prob.loc[i,\"pred\"] = 1\n",
    "    else:\n",
    "        prob.loc[i,\"pred\"] = 0\n",
    "prob"
   ]
  },
  {
   "cell_type": "code",
   "execution_count": 11,
   "metadata": {},
   "outputs": [],
   "source": [
    "prob[\"y_true\"] = y_"
   ]
  },
  {
   "cell_type": "code",
   "execution_count": 14,
   "metadata": {},
   "outputs": [
    {
     "data": {
      "text/html": [
       "<div>\n",
       "<style scoped>\n",
       "    .dataframe tbody tr th:only-of-type {\n",
       "        vertical-align: middle;\n",
       "    }\n",
       "\n",
       "    .dataframe tbody tr th {\n",
       "        vertical-align: top;\n",
       "    }\n",
       "\n",
       "    .dataframe thead th {\n",
       "        text-align: right;\n",
       "    }\n",
       "</style>\n",
       "<table border=\"1\" class=\"dataframe\">\n",
       "  <thead>\n",
       "    <tr style=\"text-align: right;\">\n",
       "      <th></th>\n",
       "      <th>0</th>\n",
       "      <th>1</th>\n",
       "      <th>pred</th>\n",
       "      <th>y_true</th>\n",
       "    </tr>\n",
       "  </thead>\n",
       "  <tbody>\n",
       "    <tr>\n",
       "      <td>7</td>\n",
       "      <td>0.349171</td>\n",
       "      <td>0.650829</td>\n",
       "      <td>1.0</td>\n",
       "      <td>1</td>\n",
       "    </tr>\n",
       "    <tr>\n",
       "      <td>8</td>\n",
       "      <td>0.366184</td>\n",
       "      <td>0.633816</td>\n",
       "      <td>1.0</td>\n",
       "      <td>1</td>\n",
       "    </tr>\n",
       "    <tr>\n",
       "      <td>1</td>\n",
       "      <td>0.510931</td>\n",
       "      <td>0.489069</td>\n",
       "      <td>0.0</td>\n",
       "      <td>0</td>\n",
       "    </tr>\n",
       "    <tr>\n",
       "      <td>10</td>\n",
       "      <td>0.607529</td>\n",
       "      <td>0.392471</td>\n",
       "      <td>0.0</td>\n",
       "      <td>1</td>\n",
       "    </tr>\n",
       "    <tr>\n",
       "      <td>5</td>\n",
       "      <td>0.656634</td>\n",
       "      <td>0.343366</td>\n",
       "      <td>0.0</td>\n",
       "      <td>0</td>\n",
       "    </tr>\n",
       "    <tr>\n",
       "      <td>9</td>\n",
       "      <td>0.663272</td>\n",
       "      <td>0.336728</td>\n",
       "      <td>0.0</td>\n",
       "      <td>1</td>\n",
       "    </tr>\n",
       "    <tr>\n",
       "      <td>0</td>\n",
       "      <td>0.694619</td>\n",
       "      <td>0.305381</td>\n",
       "      <td>0.0</td>\n",
       "      <td>0</td>\n",
       "    </tr>\n",
       "    <tr>\n",
       "      <td>6</td>\n",
       "      <td>0.768586</td>\n",
       "      <td>0.231414</td>\n",
       "      <td>0.0</td>\n",
       "      <td>0</td>\n",
       "    </tr>\n",
       "    <tr>\n",
       "      <td>4</td>\n",
       "      <td>0.777387</td>\n",
       "      <td>0.222613</td>\n",
       "      <td>0.0</td>\n",
       "      <td>0</td>\n",
       "    </tr>\n",
       "    <tr>\n",
       "      <td>3</td>\n",
       "      <td>0.785647</td>\n",
       "      <td>0.214353</td>\n",
       "      <td>0.0</td>\n",
       "      <td>0</td>\n",
       "    </tr>\n",
       "    <tr>\n",
       "      <td>2</td>\n",
       "      <td>0.820038</td>\n",
       "      <td>0.179962</td>\n",
       "      <td>0.0</td>\n",
       "      <td>0</td>\n",
       "    </tr>\n",
       "  </tbody>\n",
       "</table>\n",
       "</div>"
      ],
      "text/plain": [
       "           0         1  pred  y_true\n",
       "7   0.349171  0.650829   1.0       1\n",
       "8   0.366184  0.633816   1.0       1\n",
       "1   0.510931  0.489069   0.0       0\n",
       "10  0.607529  0.392471   0.0       1\n",
       "5   0.656634  0.343366   0.0       0\n",
       "9   0.663272  0.336728   0.0       1\n",
       "0   0.694619  0.305381   0.0       0\n",
       "6   0.768586  0.231414   0.0       0\n",
       "4   0.777387  0.222613   0.0       0\n",
       "3   0.785647  0.214353   0.0       0\n",
       "2   0.820038  0.179962   0.0       0"
      ]
     },
     "execution_count": 14,
     "metadata": {},
     "output_type": "execute_result"
    }
   ],
   "source": [
    "prob = prob.sort_values(by=\"1\",ascending=False)#ascending=False逆序\n",
    "prob"
   ]
  },
  {
   "cell_type": "code",
   "execution_count": 16,
   "metadata": {},
   "outputs": [],
   "source": [
    "from sklearn.metrics import confusion_matrix as CM, precision_score as P, recall_score as R"
   ]
  },
  {
   "cell_type": "code",
   "execution_count": 17,
   "metadata": {},
   "outputs": [
    {
     "data": {
      "text/plain": [
       "array([[2, 2],\n",
       "       [0, 7]], dtype=int64)"
      ]
     },
     "execution_count": 17,
     "metadata": {},
     "output_type": "execute_result"
    }
   ],
   "source": [
    "CM(prob.loc[:,\"y_true\"],prob.loc[:,\"pred\"],labels=[1,0])\n"
   ]
  },
  {
   "cell_type": "code",
   "execution_count": 18,
   "metadata": {},
   "outputs": [
    {
     "data": {
      "text/plain": [
       "1.0"
      ]
     },
     "execution_count": 18,
     "metadata": {},
     "output_type": "execute_result"
    }
   ],
   "source": [
    "#试试看手动计算Precision和Recall?\n",
    "P(prob.loc[:,\"y_true\"],prob.loc[:,\"pred\"],labels=[1,0])"
   ]
  },
  {
   "cell_type": "code",
   "execution_count": 19,
   "metadata": {},
   "outputs": [
    {
     "data": {
      "text/plain": [
       "0.5"
      ]
     },
     "execution_count": 19,
     "metadata": {},
     "output_type": "execute_result"
    }
   ],
   "source": [
    "R(prob.loc[:,\"y_true\"],prob.loc[:,\"pred\"],labels=[1,0])"
   ]
  },
  {
   "cell_type": "code",
   "execution_count": 20,
   "metadata": {},
   "outputs": [],
   "source": [
    "#使用最初的X和y，样本不均衡的这个模型\n",
    "class_1 = 500 #类别1有500个样本\n",
    "class_2 = 50 #类别2只有50个\n",
    "centers = [[0.0, 0.0], [2.0, 2.0]] #设定两个类别的中心\n",
    "clusters_std = [1.5, 0.5] #设定两个类别的方差，通常来说，样本量比较大的类别会更加松散\n",
    "X, y = make_blobs(n_samples=[class_1, class_2],\n",
    "                  centers=centers,\n",
    "                  cluster_std=clusters_std,\n",
    "                  random_state=0, shuffle=False)"
   ]
  },
  {
   "cell_type": "code",
   "execution_count": 21,
   "metadata": {},
   "outputs": [
    {
     "data": {
      "text/plain": [
       "<matplotlib.collections.PathCollection at 0x295824b6408>"
      ]
     },
     "execution_count": 21,
     "metadata": {},
     "output_type": "execute_result"
    },
    {
     "data": {
      "image/png": "[encoded data removed]",
      "text/plain": [
       "<Figure size 432x288 with 1 Axes>"
      ]
     },
     "metadata": {
      "needs_background": "light"
     },
     "output_type": "display_data"
    }
   ],
   "source": [
    "#看看数据集长什么样\n",
    "plt.scatter(X[:, 0], X[:, 1], c=y, cmap=\"rainbow\",s=10)\n",
    "#其中红色点是少数类，紫色点是多数类"
   ]
  },
  {
   "cell_type": "code",
   "execution_count": 22,
   "metadata": {},
   "outputs": [],
   "source": [
    "clf_proba = svm.SVC(kernel=\"linear\",C=1.0,probability=True).fit(X,y)"
   ]
  },
  {
   "cell_type": "code",
   "execution_count": 27,
   "metadata": {},
   "outputs": [
    {
     "data": {
      "text/plain": [
       "(550, 2)"
      ]
     },
     "execution_count": 27,
     "metadata": {},
     "output_type": "execute_result"
    }
   ],
   "source": [
    "clf_proba.predict_proba(X).shape#生成的各类标签的概率"
   ]
  },
  {
   "cell_type": "code",
   "execution_count": 28,
   "metadata": {},
   "outputs": [
    {
     "data": {
      "text/plain": [
       "(550, 2)"
      ]
     },
     "execution_count": 28,
     "metadata": {},
     "output_type": "execute_result"
    }
   ],
   "source": [
    "clf_proba.predict_proba(X).shape"
   ]
  },
  {
   "cell_type": "code",
   "execution_count": 25,
   "metadata": {
    "collapsed": true,
    "jupyter": {
     "outputs_hidden": true
    }
   },
   "outputs": [
    {
     "data": {
      "text/plain": [
       "array([ -0.39182241,   0.95617053,  -2.24996184,  -2.63659269,\n",
       "        -3.65243197,  -1.67311996,  -2.56396417,  -2.80650393,\n",
       "        -1.76184723,  -4.7948575 ,  -7.59061196,  -3.66174848,\n",
       "        -2.2508023 ,  -4.27626526,   0.78571364,  -3.24751892,\n",
       "        -8.57016271,  -4.45823747,  -0.14034183,  -5.20657114,\n",
       "        -8.02181046,  -4.18420871,  -5.6222409 ,  -5.12602771,\n",
       "        -7.22592707,  -5.07749638,  -6.72386021,  -3.4945225 ,\n",
       "        -3.51475144,  -5.72941551,  -5.79160724,  -8.06232013,\n",
       "        -4.36303857,  -6.25419679,  -5.59426696,  -2.60919281,\n",
       "        -3.90887478,  -4.38754704,  -6.46432224,  -4.54279979,\n",
       "        -4.78961735,  -5.53727469,   1.33920817,  -2.27766451,\n",
       "        -4.39650854,  -2.97649872,  -2.26771979,  -2.40781748,\n",
       "        -1.41638181,  -3.26142275,  -2.7712218 ,  -4.87288439,\n",
       "        -3.2594128 ,  -5.91189118,   1.48676267,   0.5389064 ,\n",
       "        -2.76188843,  -3.36126945,  -2.64697843,  -1.63635284,\n",
       "        -5.04695135,  -1.59196902,  -5.5195418 ,  -2.10439349,\n",
       "        -2.29646147,  -4.63162339,  -5.21532213,  -4.19325629,\n",
       "        -3.37620335,  -5.0032094 ,  -6.04506666,  -2.84656859,\n",
       "         1.5004014 ,  -4.02677739,  -7.07160609,  -1.66193239,\n",
       "        -6.60981996,  -5.23458676,  -3.70189918,  -6.74089425,\n",
       "        -2.09584948,  -2.28398296,  -4.97899921,  -8.12174085,\n",
       "        -1.52566274,  -1.99176286,  -3.54013094,  -4.8845886 ,\n",
       "        -6.51002015,  -4.8526957 ,  -6.73649174,  -8.50103589,\n",
       "        -5.35477446,  -5.93972132,  -3.09197136,  -5.95218482,\n",
       "        -5.87802088,  -3.41531761,  -1.50581423,   1.69513218,\n",
       "        -5.08155767,  -1.17971205,  -5.3506946 ,  -5.21493342,\n",
       "        -3.73358514,  -2.01273566,  -3.39045625,  -6.34357458,\n",
       "        -3.54776648,  -0.17804673,  -6.26887557,  -4.17973771,\n",
       "        -6.68896346,  -3.46095619,  -5.47965411,  -7.30835247,\n",
       "        -4.41569899,  -4.95103272,  -4.52261342,  -2.32912228,\n",
       "        -5.78601433,  -4.75347157,  -7.10337939,  -0.4589064 ,\n",
       "        -7.67789856,  -4.01780827,  -4.3031773 ,  -1.83727693,\n",
       "        -7.40091653,  -5.95271547,  -6.91568411,  -5.20341905,\n",
       "        -7.19695832,  -3.02927263,  -4.48056922,  -7.48496425,\n",
       "        -0.07011269,  -5.80292499,  -3.38503533,  -4.58498843,\n",
       "        -2.76260661,  -3.01843998,  -2.67539002,  -4.1197355 ,\n",
       "        -0.94129257,  -5.89363772,  -1.6069038 ,  -2.6343464 ,\n",
       "        -3.04465464,  -4.23219535,  -3.91622593,  -5.29389964,\n",
       "        -3.59245628,  -8.41452726,  -3.09845691,  -2.71798914,\n",
       "        -7.1383473 ,  -4.61490324,  -4.57817871,  -4.34638288,\n",
       "        -6.5457838 ,  -4.91701759,  -6.57235561,  -1.01417607,\n",
       "        -3.91893483,  -4.52905816,  -4.47582917,  -7.84694737,\n",
       "        -6.49226452,  -2.82193743,  -2.87607739,  -7.0839848 ,\n",
       "        -5.2681034 ,  -4.4871544 ,  -2.54658631,  -7.54914279,\n",
       "        -2.70628288,  -5.99557957,  -8.02076603,  -4.00226228,\n",
       "        -2.84835501,  -1.9410333 ,  -3.86856886,  -4.99855904,\n",
       "        -6.21947623,  -5.05797444,  -2.97214824,  -3.26123902,\n",
       "        -5.27649982,  -3.13897861,  -6.48514315,  -9.55083209,\n",
       "        -6.46488612,  -7.98793665,  -0.94456569,  -3.41380968,\n",
       "        -7.093158  ,  -5.71901588,  -0.88438995,  -0.24381463,\n",
       "        -6.78212695,  -2.20666714,  -6.65580329,  -2.56305221,\n",
       "        -5.60001636,  -5.43216357,  -4.96741585,  -0.02572912,\n",
       "        -3.21839147,   1.13383091,  -1.58640099,  -7.57106914,\n",
       "        -4.16850181,  -6.48179088,  -4.67852158,  -6.99661419,\n",
       "        -2.1447926 ,  -5.31694653,  -2.63007619,  -2.55890478,\n",
       "        -6.4896746 ,  -3.94241071,  -2.71319258,  -4.70525843,\n",
       "        -5.61592746,  -4.7150336 ,  -2.85352156,  -0.49195707,\n",
       "        -8.16191324,  -3.80462978,  -6.43680611,  -4.58137592,\n",
       "        -1.38912206,  -6.93900334,  -7.7222725 ,  -8.41592264,\n",
       "        -5.613998  ,   0.44396046,  -3.07168078,  -1.36478732,\n",
       "        -1.20153628,  -6.30209808,  -6.49846303,  -0.60518198,\n",
       "        -3.83301464,  -6.40455571,  -0.22680504,   0.54161373,\n",
       "        -5.99626181,  -5.98077412,  -3.45857531,  -2.50268554,\n",
       "        -5.54970836,  -9.26535525,  -4.22097425,  -0.47257602,\n",
       "        -9.33187038,  -4.97705346,  -1.65256318,  -1.0000177 ,\n",
       "        -5.82202444,  -8.34541689,  -4.97060946,  -0.34446784,\n",
       "        -6.95722208,  -7.41413036,  -1.8343221 ,  -7.19145712,\n",
       "        -4.8082824 ,  -4.59805445,  -5.49449995,  -2.25570223,\n",
       "        -5.41145249,  -5.97739476,  -2.94240518,  -3.64911853,\n",
       "        -2.82208944,  -3.34705766,  -8.19712182,  -7.57201089,\n",
       "        -0.61670956,  -6.3752957 ,  -5.06738146,  -2.54344987,\n",
       "        -3.28382401,  -5.9927353 ,  -2.87730848,  -3.58324503,\n",
       "        -7.1488302 ,  -2.63140119,  -8.48092542,  -4.91672751,\n",
       "        -5.7488116 ,  -3.80044426,  -9.27859326,  -2.475992  ,\n",
       "        -6.06980518,  -2.90059294,  -5.22496057,  -5.97575155,\n",
       "        -6.18156775,  -5.38363878,  -7.41985155,  -6.73241325,\n",
       "        -4.43878791,  -9.06614408,  -1.69153658,  -3.71141045,\n",
       "        -3.19852116,  -4.05473804,  -3.45821856,  -4.92039492,\n",
       "        -6.55332449,  -1.28332784,  -4.17989583,  -5.45916562,\n",
       "        -3.80974949,  -4.27838346,  -5.31607024,  -0.62628865,\n",
       "        -2.21276478,  -3.7397342 ,  -6.66779473,  -2.38116892,\n",
       "        -2.83460004,  -7.01238422,  -2.75282445,  -3.01759368,\n",
       "        -6.14970454,  -6.1300394 ,  -7.58620719,  -3.14051577,\n",
       "        -5.82720807,  -2.52236034,  -7.03761018,  -7.82753368,\n",
       "        -8.8447092 ,  -3.11218173,  -4.22074847,  -0.99624534,\n",
       "        -3.45189404,  -1.46956557,  -9.42857926,  -2.75093993,\n",
       "        -0.61665367,  -2.09370852,  -9.34768018,  -3.39876535,\n",
       "        -5.8635608 ,  -2.12987936,  -8.40706474,  -3.84209244,\n",
       "        -0.5100329 ,  -2.48836494,  -1.54663048,  -4.30920238,\n",
       "        -5.73107193,  -1.89978615,  -6.17605033,  -3.10487492,\n",
       "        -5.51376743,  -4.32751131,  -8.20349197,  -3.87477609,\n",
       "        -1.78392197,  -6.17403966,  -6.52743333,  -3.02302099,\n",
       "        -4.99201913,  -5.72548424,  -7.83390422,  -1.19722286,\n",
       "        -4.59974076,  -2.99496132,  -6.83038116,  -5.1842235 ,\n",
       "        -0.78127198,  -2.88907207,  -3.95055581,  -6.33003274,\n",
       "        -4.47772201,  -2.77425683,  -4.44937971,  -4.2292366 ,\n",
       "        -1.15145162,  -4.92325347,  -5.40648383,  -7.37247783,\n",
       "        -4.65237446,  -7.04281259,  -0.69437244,  -4.99227188,\n",
       "        -3.02282976,  -2.52532913,  -6.52636286,  -5.48318846,\n",
       "        -3.71028837,  -6.91757625,  -5.54349414,  -6.05345046,\n",
       "        -0.43986605,  -4.75951272,  -1.82851406,  -3.24432919,\n",
       "        -7.20785221,  -4.0583863 ,  -3.27842271,  -0.68706448,\n",
       "        -2.76021537,  -5.54119808,  -4.08188794,  -6.4244794 ,\n",
       "        -4.76668274,  -0.2040958 ,  -2.42898945,  -2.03283232,\n",
       "        -4.12879797,  -2.70459163,  -6.04997273,  -2.79280244,\n",
       "        -4.20663028,   0.786804  ,  -3.65237777,  -3.55179726,\n",
       "        -5.3460864 , -10.31959605,  -6.69397854,  -6.53784926,\n",
       "        -7.56321471,  -4.98085596,  -1.79893146,  -3.89513404,\n",
       "        -5.18601688,  -3.82352518,  -5.20243998,  -3.11707515,\n",
       "        -5.80322513,  -4.42380099,  -5.74159836,  -6.6468986 ,\n",
       "        -3.18053496,  -4.28898663,  -6.73111304,  -3.21485845,\n",
       "        -4.79047586,  -4.51550728,  -2.70659984,  -3.61545839,\n",
       "        -7.86496861,  -0.1258212 ,  -7.6559803 ,  -3.15269699,\n",
       "        -2.87456418,  -6.74876767,  -0.42574712,  -7.58877495,\n",
       "        -5.30321115,  -4.79881591,  -4.5673199 ,  -3.6865868 ,\n",
       "        -4.46822682,  -1.45060265,  -0.53560561,  -4.94874171,\n",
       "        -1.26112294,  -1.66779284,  -5.57910033,  -5.87103484,\n",
       "        -3.35570045,  -6.25661833,  -1.51564145,   0.85085628,\n",
       "        -3.82725071,  -1.47077448,  -3.36154118,  -5.37972404,\n",
       "        -2.22844631,  -2.78684422,  -3.75603932,  -1.85645   ,\n",
       "        -3.33156093,  -2.32968944,  -5.06053069,  -1.73410541,\n",
       "        -1.68829408,  -3.79892942,  -1.62650712,  -1.00001873,\n",
       "        -6.07170511,  -4.89697898,  -3.66269926,  -3.13731451,\n",
       "        -5.08348781,  -3.71891247,  -2.09779606,  -3.04082162,\n",
       "        -5.12536015,  -2.96071945,  -4.28796395,  -6.6231135 ,\n",
       "         1.00003406,   0.03907036,   0.46718521,  -0.3467975 ,\n",
       "         0.32350521,   0.47563771,   1.10055427,  -0.67580418,\n",
       "        -0.46310299,   0.40806733,   1.17438632,  -0.55152081,\n",
       "         0.84476439,  -0.91257798,   0.63165546,  -0.13845693,\n",
       "        -0.22137683,   1.20116183,   1.18915628,  -0.40676459,\n",
       "         1.35964325,   1.14038015,   1.27914468,   0.19329823,\n",
       "        -0.16790648,  -0.62775078,   0.66095617,   2.18236076,\n",
       "         0.07018415,  -0.26762451,  -0.25529448,   0.32084111,\n",
       "         0.48016592,   0.28189794,   0.60568093,  -1.07472716,\n",
       "        -0.5088941 ,   0.74892526,   0.07203056,  -0.10668727,\n",
       "        -0.15662946,   0.09611498,  -0.39521586,  -0.79874442,\n",
       "         0.65613691,  -0.39386485,  -1.08601917,   1.44693858,\n",
       "         0.62992794,   0.76536897])"
      ]
     },
     "execution_count": 25,
     "metadata": {},
     "output_type": "execute_result"
    }
   ],
   "source": [
    "clf_proba.decision_function(X)"
   ]
  },
  {
   "cell_type": "code",
   "execution_count": 26,
   "metadata": {},
   "outputs": [
    {
     "data": {
      "text/plain": [
       "(550,)"
      ]
     },
     "execution_count": 26,
     "metadata": {},
     "output_type": "execute_result"
    }
   ],
   "source": [
    "clf_proba.decision_function(X).shape"
   ]
  },
  {
   "cell_type": "code",
   "execution_count": 30,
   "metadata": {},
   "outputs": [],
   "source": [
    "from sklearn.metrics import confusion_matrix as CM, precision_score as P, recall_score as R"
   ]
  },
  {
   "cell_type": "code",
   "execution_count": 32,
   "metadata": {},
   "outputs": [
    {
     "data": {
      "text/plain": [
       "array([[2, 2],\n",
       "       [0, 7]], dtype=int64)"
      ]
     },
     "execution_count": 32,
     "metadata": {},
     "output_type": "execute_result"
    }
   ],
   "source": [
    "cm = CM(prob.loc[:,\"y_true\"],prob.loc[:,\"pred\"],labels=[1,0])\n",
    "cm"
   ]
  },
  {
   "cell_type": "code",
   "execution_count": 33,
   "metadata": {},
   "outputs": [
    {
     "data": {
      "text/plain": [
       "0.0"
      ]
     },
     "execution_count": 33,
     "metadata": {},
     "output_type": "execute_result"
    }
   ],
   "source": [
    "#FPR\n",
    "cm[1,0]/cm[1,:].sum()"
   ]
  },
  {
   "cell_type": "code",
   "execution_count": 34,
   "metadata": {},
   "outputs": [
    {
     "data": {
      "text/plain": [
       "0.5"
      ]
     },
     "execution_count": 34,
     "metadata": {},
     "output_type": "execute_result"
    }
   ],
   "source": [
    "#Recall\n",
    "cm[0,0]/cm[0,:].sum()"
   ]
  },
  {
   "cell_type": "code",
   "execution_count": 35,
   "metadata": {},
   "outputs": [
    {
     "data": {
      "image/png": "[encoded data removed]",
      "text/plain": [
       "<Figure size 432x288 with 1 Axes>"
      ]
     },
     "metadata": {
      "needs_background": "light"
     },
     "output_type": "display_data"
    }
   ],
   "source": [
    "#开始绘图\n",
    "recall = []\n",
    "FPR = []\n",
    "probrange = np.linspace(clf_proba.predict_proba(X)\n",
    "[:,1].min(),clf_proba.predict_proba(X)[:,1].max(),num=50,endpoint=False)\n",
    "from sklearn.metrics import confusion_matrix as CM, recall_score as R\n",
    "import matplotlib.pyplot as plot\n",
    "for i in probrange:\n",
    "    y_predict = []\n",
    "    for j in range(X.shape[0]):\n",
    "        if clf_proba.predict_proba(X)[j,1] > i:\n",
    "            y_predict.append(1)\n",
    "        else:\n",
    "            y_predict.append(0)\n",
    "    cm = CM(y,y_predict,labels=[1,0])\n",
    "    recall.append(cm[0,0]/cm[0,:].sum())\n",
    "    FPR.append(cm[1,0]/cm[1,:].sum())\n",
    "recall.sort()\n",
    "FPR.sort()\n",
    "plt.plot(FPR,recall,c=\"red\")\n",
    "plt.plot(probrange+0.05,probrange+0.05,c=\"black\",linestyle=\"--\")\n",
    "plt.show()"
   ]
  },
  {
   "cell_type": "code",
   "execution_count": null,
   "metadata": {},
   "outputs": [],
   "source": []
  }
 ],
 "metadata": {
  "kernelspec": {
   "display_name": "Python 3",
   "language": "python",
   "name": "python3"
  },
  "language_info": {
   "codemirror_mode": {
    "name": "ipython",
    "version": 3
   },
   "file_extension": ".py",
   "mimetype": "text/x-python",
   "name": "python",
   "nbconvert_exporter": "python",
   "pygments_lexer": "ipython3",
   "version": "3.7.4"
  }
 },
 "nbformat": 4,
 "nbformat_minor": 4
}
