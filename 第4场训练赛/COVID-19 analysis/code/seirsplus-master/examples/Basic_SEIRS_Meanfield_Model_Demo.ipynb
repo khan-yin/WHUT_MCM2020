{
 "cells": [
  {
   "cell_type": "markdown",
   "metadata": {},
   "source": [
    "# Basic SEIRS Mean-field Model Demo\n",
    "\n",
    "**This notebook provides a demonstration of the core functionality of the Basic SEIRS Mean-field Model and offers a sandbox for easily changing simulation parameters and scenarios.** \n",
    "For a more thorough walkthrough of the model and use of this package, refer to the README."
   ]
  },
  {
   "cell_type": "markdown",
   "metadata": {},
   "source": [
    "### Installing and Importing the model code\n",
    "All of the code needed to run the model is imported from the ```models``` module of this package.\n",
    "\n",
    "#### Install the package using ```pip```\n",
    "The package can be installed on your machine by entering this in the command line:\n",
    "\n",
    "```sudo pip install seirsplus```\n",
    "\n",
    "Then, the ```models``` module can be imported into your scripts as shown here:"
   ]
  },
  {
   "cell_type": "code",
   "execution_count": 1,
   "metadata": {},
   "outputs": [],
   "source": [
    "from seirsplus.models import *\n",
    "import networkx"
   ]
  },
  {
   "cell_type": "markdown",
   "metadata": {},
   "source": [
    "#### *Alternatively, manually copy the code to your machine*\n",
    "*You can use the model code without installing a package by copying the ```models.py``` module file to a directory on your machine. In this case, the easiest way to use the module is to place your scripts in the same directory as the module, and import the module as shown here:*\n",
    "```python\n",
    "from models import *\n",
    "```"
   ]
  },
  {
   "cell_type": "markdown",
   "metadata": {},
   "source": [
    "### Initializing the model parameters\n",
    "All model parameter values are set in the call to the ```SEIRSModel``` constructor. The basic SEIR parameters ```beta```, ```sigma```, ```gamma```, and ```initN``` are the only required arguments. All other arguments represent parameters for optional extended model dynamics; these optional parameters take default values that turn off their corresponding dynamics when not provided in the constructor. For clarity and ease of customization in this notebook, all available model parameters are listed below. \n",
    "\n",
    "For more information on parameter meanings, see the README.\n",
    "\n",
    "*The parameter values shown correspond to very rough approximations of parameter values for the COVID-19 epidemic.*"
   ]
  },
  {
   "cell_type": "code",
   "execution_count": 2,
   "metadata": {},
   "outputs": [],
   "source": [
    "SIGMA = 1/5.2\n",
    "GAMMA = 1/10\n",
    "MU_I  = 0.002\n",
    "\n",
    "R0    = 2.5\n",
    "BETA  = 1/(1/GAMMA) * R0 "
   ]
  },
  {
   "cell_type": "code",
   "execution_count": 3,
   "metadata": {},
   "outputs": [],
   "source": [
    "model = SEIRSModel(initN   = 1000000,\n",
    "                   beta    = BETA, \n",
    "                   sigma   = SIGMA, \n",
    "                   gamma   = GAMMA, \n",
    "                   mu_I    = MU_I,\n",
    "                   mu_0    = 0, \n",
    "                   nu      = 0, \n",
    "                   xi      = 0,\n",
    "                   beta_Q  = 0.5*(BETA), \n",
    "                   sigma_Q = SIGMA, \n",
    "                   gamma_Q = GAMMA, \n",
    "                   mu_Q    = MU_I,\n",
    "                   theta_E = 0, \n",
    "                   theta_I = 0, \n",
    "                   psi_E   = 1.0, \n",
    "                   psi_I   = 1.0,\n",
    "                   initI   = 10000, \n",
    "                   initE   = 0, \n",
    "                   initQ_E = 0, \n",
    "                   initQ_I = 0, \n",
    "                   initR   = 0, \n",
    "                   initF   = 0)"
   ]
  },
  {
   "cell_type": "markdown",
   "metadata": {},
   "source": [
    "### Checkpoints\n",
    "Model parameters can be easily changed during a simulation run using checkpoints. A dictionary holds a list of checkpoint times (```checkpoints['t']```) and lists of new values to assign to various model parameters at each checkpoint time. Any model parameter listed in the model constrcutor can be updated in this way. Only model parameters that are included in the checkpoints dictionary have their values updated at the checkpoint times, all other parameters keep their pre-existing values.\n",
    "\n",
    "*The checkpoints shown here correspond to starting a form of social distancing (transmission rate ```beta``` reduced) and testing at time ```t=20``` (testing rates ```theta_E``` and ```theta_I``` are set to non-zero values) and then stopping social distancing at time ```t=100``` (```beta``` returned to its \"normal\" value; testing params remain non-zero).*"
   ]
  },
  {
   "cell_type": "code",
   "execution_count": 4,
   "metadata": {},
   "outputs": [],
   "source": [
    "checkpoints = {'t':       [30, 90], \n",
    "               'beta':    [BETA*0.5, BETA], \n",
    "               'theta_E': [0.02, 0.02], \n",
    "               'theta_I': [0.02, 0.02]\n",
    "              }"
   ]
  },
  {
   "cell_type": "markdown",
   "metadata": {},
   "source": [
    "### Running the simulation"
   ]
  },
  {
   "cell_type": "code",
   "execution_count": 5,
   "metadata": {},
   "outputs": [
    {
     "name": "stdout",
     "output_type": "stream",
     "text": [
      "[Checkpoint: Updating parameters]\n",
      "t = 29.90\n",
      "[Checkpoint: Updating parameters]\n",
      "t = 89.90\n"
     ]
    },
    {
     "data": {
      "text/plain": [
       "True"
      ]
     },
     "execution_count": 5,
     "metadata": {},
     "output_type": "execute_result"
    }
   ],
   "source": [
    "model.run(T=300, checkpoints=checkpoints)"
   ]
  },
  {
   "cell_type": "markdown",
   "metadata": {},
   "source": [
    "### Visualizing the results\n",
    "The ```SEIRSNetworkModel``` class has a ```plot()``` convenience function for plotting simulation results on a matplotlib axis. This function generates a line plot of the frequency of each model state in the population by default, but there are many optional arguments that can be used to customize the plot.\n",
    "\n",
    "The ```SEIRSNetworkModel``` class also has convenience functions for generating a full figure out of model simulation results (optionaly arguments can be provided to customize the plots generated by these functions). \n",
    "- ```figure_basic()``` calls the ```plot()``` function with default parameters to generate a line plot of the frequency of each state in the population.\n",
    "- ```figure_infections()``` calls the ```plot()``` function with default parameters to generate a stacked area plot of the frequency of only the infection states ($E$, $I$, $Q_E$, $Q_I$) in the population.\n",
    "\n",
    "For more information on the built-in plotting functions, see the README."
   ]
  },
  {
   "cell_type": "code",
   "execution_count": 6,
   "metadata": {},
   "outputs": [
    {
     "data": {
      "text/plain": [
       "<Figure size 1200x800 with 1 Axes>"
      ]
     },
     "metadata": {},
     "output_type": "display_data"
    },
    {
     "data": {
      "text/plain": [
       "(<Figure size 1200x800 with 1 Axes>,\n",
       " <matplotlib.axes._subplots.AxesSubplot at 0x14d4e104be0>)"
      ]
     },
     "execution_count": 6,
     "metadata": {},
     "output_type": "execute_result"
    }
   ],
   "source": [
    "model.figure_infections(vlines=checkpoints['t'], ylim=0.25)"
   ]
  },
  {
   "cell_type": "markdown",
   "metadata": {},
   "source": [
    "#### Reference simulation visualizations\n",
    "\n",
    "We can also visualize the results of another simulation(s) as a reference for comparison of our main simulation.\n",
    "\n",
    "Here we simulate a model where no distancing or testing takes place, so that we can compare the effects of these interventions:"
   ]
  },
  {
   "cell_type": "code",
   "execution_count": 7,
   "metadata": {},
   "outputs": [
    {
     "name": "stdout",
     "output_type": "stream",
     "text": [
      "t = 299.90\n"
     ]
    },
    {
     "data": {
      "text/plain": [
       "True"
      ]
     },
     "execution_count": 7,
     "metadata": {},
     "output_type": "execute_result"
    }
   ],
   "source": [
    "ref_model = SEIRSModel(beta=BETA, sigma=SIGMA, gamma=GAMMA, mu_I=MU_I, initI=10000, initN=1000000) \n",
    "ref_model.run(T=300)"
   ]
  },
  {
   "cell_type": "markdown",
   "metadata": {},
   "source": [
    "Now we can visualize our main simulation together with this reference simulation by passing the model object of the reference simulation to the appropriate figure function argument (note: a second reference simulation could also be visualized by passing it to the ```dasheQ_reference_results``` argument):"
   ]
  },
  {
   "cell_type": "code",
   "execution_count": 8,
   "metadata": {},
   "outputs": [
    {
     "data": {
      "image/png": "[encoded data removed]",
      "text/plain": [
       "<Figure size 864x576 with 1 Axes>"
      ]
     },
     "metadata": {
      "needs_background": "light"
     },
     "output_type": "display_data"
    },
    {
     "data": {
      "text/plain": [
       "(<Figure size 864x576 with 1 Axes>,\n",
       " <matplotlib.axes._subplots.AxesSubplot at 0x14d69e3fe48>)"
      ]
     },
     "execution_count": 8,
     "metadata": {},
     "output_type": "execute_result"
    }
   ],
   "source": [
    "model.figure_infections(vlines=checkpoints['t'], ylim=0.25, shaded_reference_results=ref_model)"
   ]
  }
 ],
 "metadata": {
  "kernelspec": {
   "display_name": "Python 3",
   "language": "python",
   "name": "python3"
  },
  "language_info": {
   "codemirror_mode": {
    "name": "ipython",
    "version": 3
   },
   "file_extension": ".py",
   "mimetype": "text/x-python",
   "name": "python",
   "nbconvert_exporter": "python",
   "pygments_lexer": "ipython3",
   "version": "3.6.8"
  },
  "toc": {
   "base_numbering": 1,
   "nav_menu": {},
   "number_sections": true,
   "sideBar": true,
   "skip_h1_title": false,
   "title_cell": "Table of Contents",
   "title_sidebar": "Contents",
   "toc_cell": false,
   "toc_position": {},
   "toc_section_display": true,
   "toc_window_display": false
  },
  "varInspector": {
   "cols": {
    "lenName": 16,
    "lenType": 16,
    "lenVar": 40
   },
   "kernels_config": {
    "python": {
     "delete_cmd_postfix": "",
     "delete_cmd_prefix": "del ",
     "library": "var_list.py",
     "varRefreshCmd": "print(var_dic_list())"
    },
    "r": {
     "delete_cmd_postfix": ") ",
     "delete_cmd_prefix": "rm(",
     "library": "var_list.r",
     "varRefreshCmd": "cat(var_dic_list()) "
    }
   },
   "types_to_exclude": [
    "module",
    "function",
    "builtin_function_or_method",
    "instance",
    "_Feature"
   ],
   "window_display": false
  }
 },
 "nbformat": 4,
 "nbformat_minor": 2
}
