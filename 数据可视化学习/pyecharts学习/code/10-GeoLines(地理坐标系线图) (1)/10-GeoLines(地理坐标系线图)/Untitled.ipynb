{
 "cells": [
  {
   "cell_type": "code",
   "execution_count": 1,
   "metadata": {},
   "outputs": [],
   "source": [
    "import pandas as pd\n",
    "\n",
    "import random"
   ]
  },
  {
   "cell_type": "code",
   "execution_count": 2,
   "metadata": {},
   "outputs": [],
   "source": [
    "from pyecharts import GeoLines, Style"
   ]
  },
  {
   "cell_type": "code",
   "execution_count": 2,
   "metadata": {},
   "outputs": [
    {
     "data": {
      "text/html": [
       "<div>\n",
       "<style scoped>\n",
       "    .dataframe tbody tr th:only-of-type {\n",
       "        vertical-align: middle;\n",
       "    }\n",
       "\n",
       "    .dataframe tbody tr th {\n",
       "        vertical-align: top;\n",
       "    }\n",
       "\n",
       "    .dataframe thead th {\n",
       "        text-align: right;\n",
       "    }\n",
       "</style>\n",
       "<table border=\"1\" class=\"dataframe\">\n",
       "  <thead>\n",
       "    <tr style=\"text-align: right;\">\n",
       "      <th></th>\n",
       "      <th>节点</th>\n",
       "      <th>传感器经度</th>\n",
       "      <th>传感器纬度</th>\n",
       "    </tr>\n",
       "  </thead>\n",
       "  <tbody>\n",
       "    <tr>\n",
       "      <td>0</td>\n",
       "      <td>数据中心</td>\n",
       "      <td>120.701520</td>\n",
       "      <td>36.374227</td>\n",
       "    </tr>\n",
       "    <tr>\n",
       "      <td>1</td>\n",
       "      <td>传感器1</td>\n",
       "      <td>120.698717</td>\n",
       "      <td>36.374576</td>\n",
       "    </tr>\n",
       "    <tr>\n",
       "      <td>2</td>\n",
       "      <td>传感器2</td>\n",
       "      <td>120.699795</td>\n",
       "      <td>36.375912</td>\n",
       "    </tr>\n",
       "    <tr>\n",
       "      <td>3</td>\n",
       "      <td>传感器3</td>\n",
       "      <td>120.706910</td>\n",
       "      <td>36.375796</td>\n",
       "    </tr>\n",
       "    <tr>\n",
       "      <td>4</td>\n",
       "      <td>传感器4</td>\n",
       "      <td>120.705616</td>\n",
       "      <td>36.372483</td>\n",
       "    </tr>\n",
       "  </tbody>\n",
       "</table>\n",
       "</div>"
      ],
      "text/plain": [
       "     节点       传感器经度      传感器纬度\n",
       "0  数据中心  120.701520  36.374227\n",
       "1  传感器1  120.698717  36.374576\n",
       "2  传感器2  120.699795  36.375912\n",
       "3  传感器3  120.706910  36.375796\n",
       "4  传感器4  120.705616  36.372483"
      ]
     },
     "execution_count": 2,
     "metadata": {},
     "output_type": "execute_result"
    }
   ],
   "source": [
    "data = pd.read_excel('./第7题附件1.xlsx',encoding='gbk')\n",
    "\n",
    "data.head()"
   ]
  },
  {
   "cell_type": "code",
   "execution_count": 3,
   "metadata": {},
   "outputs": [
    {
     "data": {
      "text/html": [
       "<div>\n",
       "<style scoped>\n",
       "    .dataframe tbody tr th:only-of-type {\n",
       "        vertical-align: middle;\n",
       "    }\n",
       "\n",
       "    .dataframe tbody tr th {\n",
       "        vertical-align: top;\n",
       "    }\n",
       "\n",
       "    .dataframe thead th {\n",
       "        text-align: right;\n",
       "    }\n",
       "</style>\n",
       "<table border=\"1\" class=\"dataframe\">\n",
       "  <thead>\n",
       "    <tr style=\"text-align: right;\">\n",
       "      <th></th>\n",
       "      <th>节点</th>\n",
       "    </tr>\n",
       "  </thead>\n",
       "  <tbody>\n",
       "    <tr>\n",
       "      <td>0</td>\n",
       "      <td>0</td>\n",
       "    </tr>\n",
       "    <tr>\n",
       "      <td>1</td>\n",
       "      <td>2</td>\n",
       "    </tr>\n",
       "    <tr>\n",
       "      <td>2</td>\n",
       "      <td>1</td>\n",
       "    </tr>\n",
       "    <tr>\n",
       "      <td>3</td>\n",
       "      <td>9</td>\n",
       "    </tr>\n",
       "    <tr>\n",
       "      <td>4</td>\n",
       "      <td>7</td>\n",
       "    </tr>\n",
       "  </tbody>\n",
       "</table>\n",
       "</div>"
      ],
      "text/plain": [
       "   节点\n",
       "0   0\n",
       "1   2\n",
       "2   1\n",
       "3   9\n",
       "4   7"
      ]
     },
     "execution_count": 3,
     "metadata": {},
     "output_type": "execute_result"
    }
   ],
   "source": [
    "ansmer1 = pd.read_excel('./ansmer1.xlsx',encoding='gbk')\n",
    "ansmer1.head()"
   ]
  },
  {
   "cell_type": "code",
   "execution_count": 20,
   "metadata": {},
   "outputs": [
    {
     "data": {
      "text/html": [
       "<div>\n",
       "<style scoped>\n",
       "    .dataframe tbody tr th:only-of-type {\n",
       "        vertical-align: middle;\n",
       "    }\n",
       "\n",
       "    .dataframe tbody tr th {\n",
       "        vertical-align: top;\n",
       "    }\n",
       "\n",
       "    .dataframe thead th {\n",
       "        text-align: right;\n",
       "    }\n",
       "</style>\n",
       "<table border=\"1\" class=\"dataframe\">\n",
       "  <thead>\n",
       "    <tr style=\"text-align: right;\">\n",
       "      <th></th>\n",
       "      <th>节点</th>\n",
       "    </tr>\n",
       "  </thead>\n",
       "  <tbody>\n",
       "    <tr>\n",
       "      <td>0</td>\n",
       "      <td>1</td>\n",
       "    </tr>\n",
       "    <tr>\n",
       "      <td>1</td>\n",
       "      <td>3</td>\n",
       "    </tr>\n",
       "    <tr>\n",
       "      <td>2</td>\n",
       "      <td>2</td>\n",
       "    </tr>\n",
       "    <tr>\n",
       "      <td>3</td>\n",
       "      <td>10</td>\n",
       "    </tr>\n",
       "    <tr>\n",
       "      <td>4</td>\n",
       "      <td>8</td>\n",
       "    </tr>\n",
       "  </tbody>\n",
       "</table>\n",
       "</div>"
      ],
      "text/plain": [
       "   节点\n",
       "0   1\n",
       "1   3\n",
       "2   2\n",
       "3  10\n",
       "4   8"
      ]
     },
     "execution_count": 20,
     "metadata": {},
     "output_type": "execute_result"
    }
   ],
   "source": [
    "problem1 = pd.read_excel('./problem1.xlsx',encoding='gbk')\n",
    "problem1.head()"
   ]
  },
  {
   "cell_type": "code",
   "execution_count": null,
   "metadata": {},
   "outputs": [],
   "source": [
    "from urllib.request import urlopen, quote\n",
    "import json\n",
    "\n",
    "from pyecharts import GeoLines, Style\n",
    "\n",
    "\n",
    "def get_location_coordinate(location_name):\n",
    "    ms=data.loc[data['节点'] == location_name, ['传感器经度', '传感器纬度']]\n",
    "#     api_url = 'http://api.map.baidu.com/geocoding/v3/?address='\n",
    "#     api_url = f'{api_url}{quote(location_name)}&output=json&ak=你的ak'\n",
    "#     result = urlopen(api_url)\n",
    "#     result = json.loads(result.read().decode())['result']['location']\n",
    "    return ms.values[0][0], ms.values[0][1]"
   ]
  },
  {
   "cell_type": "code",
   "execution_count": 69,
   "metadata": {},
   "outputs": [],
   "source": [
    "# 参考小文的\n",
    "def plot_geolines(plotting_data, geo_cities_coords):\n",
    "    # 设置画布的格式\n",
    "    style = Style(title_pos=\"center\",\n",
    "                  width=1000,\n",
    "                  height=800)\n",
    "\n",
    "    # 部分地理轨迹图的格式\n",
    "    style_geolines = style.add(is_label_show=True,\n",
    "                               line_curve=0.3,  # 轨迹线的弯曲度，0-1\n",
    "                               line_opacity=0.6,  # 轨迹线的透明度，0-1\n",
    "                               geo_effect_symbol='plane',  # 特效的图形，有circle,plane,pin等等\n",
    "                               geo_effect_symbolsize=10,  # 特效图形的大小\n",
    "                               geo_effect_color='#7FFFD4',  # 特效的颜色\n",
    "                               geo_effect_traillength=0.1,  # 特效图形的拖尾效果，0-1\n",
    "                               label_color=['#FFA500', '#FFF68F'],  # 轨迹线的颜色，标签点的颜色，\n",
    "                               border_color='#97FFFF',  # 边界的颜色\n",
    "                               geo_normal_color='#36648B',  # 地图的颜色\n",
    "                               label_formatter='{b}',  # 标签格式\n",
    "                               legend_pos='left')\n",
    "\n",
    "    # 作图\n",
    "    geolines = GeoLines('出行轨迹图', **style.init_style)\n",
    "    geolines.add('从北京出发',\n",
    "                 plotting_data,\n",
    "                 maptype='青岛',  # 地图的类型，可以是省的地方，如'广东',也可以是地市，如'东莞'等等\n",
    "                 geo_cities_coords=geo_cities_coords,\n",
    "                 **style_geolines)\n",
    "\n",
    "    # 发布，得到图形的html文件\n",
    "    geolines.render()"
   ]
  },
  {
   "cell_type": "code",
   "execution_count": 4,
   "metadata": {},
   "outputs": [],
   "source": [
    "ms=data.loc[data['节点'] == '传感器2', ['传感器经度', '传感器纬度']]"
   ]
  },
  {
   "cell_type": "code",
   "execution_count": 5,
   "metadata": {},
   "outputs": [
    {
     "data": {
      "text/plain": [
       "120.699795441332"
      ]
     },
     "execution_count": 5,
     "metadata": {},
     "output_type": "execute_result"
    }
   ],
   "source": [
    "ms.values[0][0]"
   ]
  },
  {
   "cell_type": "code",
   "execution_count": 6,
   "metadata": {},
   "outputs": [
    {
     "data": {
      "text/plain": [
       "36.3759123905177"
      ]
     },
     "execution_count": 6,
     "metadata": {},
     "output_type": "execute_result"
    }
   ],
   "source": [
    "ms.values[0][1]"
   ]
  },
  {
   "cell_type": "code",
   "execution_count": 7,
   "metadata": {},
   "outputs": [],
   "source": [
    "location_name_list=list(ansmer1.loc[:,\"节点\"])"
   ]
  },
  {
   "cell_type": "code",
   "execution_count": 8,
   "metadata": {},
   "outputs": [],
   "source": [
    "location_name_list\n",
    "for i in range(len(location_name_list)):\n",
    "    if location_name_list[i]==0:\n",
    "        location_name_list[i]=\"数据中心\"\n",
    "    else:\n",
    "        location_name_list[i]=\"传感器\"+str(location_name_list[i])"
   ]
  },
  {
   "cell_type": "code",
   "execution_count": 9,
   "metadata": {},
   "outputs": [
    {
     "data": {
      "text/plain": [
       "['数据中心',\n",
       " '传感器2',\n",
       " '传感器1',\n",
       " '传感器9',\n",
       " '传感器7',\n",
       " '传感器6',\n",
       " '传感器14',\n",
       " '传感器11',\n",
       " '传感器8',\n",
       " '传感器12',\n",
       " '传感器15',\n",
       " '传感器27',\n",
       " '传感器16',\n",
       " '传感器13',\n",
       " '传感器10',\n",
       " '传感器5',\n",
       " '传感器3',\n",
       " '传感器4',\n",
       " '传感器22',\n",
       " '传感器28',\n",
       " '传感器24',\n",
       " '传感器23',\n",
       " '传感器21',\n",
       " '传感器29',\n",
       " '传感器26',\n",
       " '传感器25',\n",
       " '传感器18',\n",
       " '传感器19',\n",
       " '传感器20',\n",
       " '传感器17',\n",
       " '数据中心']"
      ]
     },
     "execution_count": 9,
     "metadata": {},
     "output_type": "execute_result"
    }
   ],
   "source": [
    "location_name_list"
   ]
  },
  {
   "cell_type": "code",
   "execution_count": 68,
   "metadata": {},
   "outputs": [
    {
     "name": "stdout",
     "output_type": "stream",
     "text": [
      "数据中心\n",
      "传感器2\n",
      "传感器1\n",
      "传感器9\n",
      "传感器7\n",
      "传感器6\n",
      "传感器14\n",
      "传感器11\n",
      "传感器8\n",
      "传感器12\n",
      "传感器15\n",
      "传感器27\n",
      "传感器16\n",
      "传感器13\n",
      "传感器10\n",
      "传感器5\n",
      "传感器3\n",
      "传感器4\n",
      "传感器22\n",
      "传感器28\n",
      "传感器24\n",
      "传感器23\n",
      "传感器21\n",
      "传感器29\n",
      "传感器26\n",
      "传感器25\n",
      "传感器18\n",
      "传感器19\n",
      "传感器20\n",
      "传感器17\n",
      "数据中心\n",
      "ok，去浏览器看看吧\n"
     ]
    }
   ],
   "source": [
    "# if __name__ == '__main__':\n",
    "#     location_name_list = ['北京', '郑州', '盐城', '高雄', '广州', '三亚', '成都', '拉萨', '乌鲁木齐', '银川',\n",
    "#                           '呼和浩特', '漠河', '哈尔滨', '长春', '沈阳', '北京']\n",
    "geo_cities_coords = {}\n",
    "for location in location_name_list:\n",
    "    print(location)\n",
    "    lat_long = get_location_coordinate(location)\n",
    "    geo_cities_coords[location] = list(lat_long)\n",
    "\n",
    "plotting_data = []\n",
    "for i in range(len(location_name_list)):\n",
    "    if i < len(location_name_list)-1:\n",
    "        plotting_data.append((location_name_list[i], location_name_list[i+1]))\n",
    "\n",
    "# 绘制动态图\n",
    "plot_geolines(plotting_data, geo_cities_coords)\n",
    "print('ok，去浏览器看看吧')"
   ]
  },
  {
   "cell_type": "code",
   "execution_count": 136,
   "metadata": {},
   "outputs": [
    {
     "name": "stdout",
     "output_type": "stream",
     "text": [
      "[120.701520187911, 36.3742269854581]\n",
      "[120.699795441332, 36.3759123905177]\n",
      "[120.69871747472, 36.3745756929757]\n",
      "[120.696202219292, 36.3764354397698]\n",
      "[120.694333743832, 36.3752149859956]\n",
      "[120.692896455016, 36.3780045662363]\n",
      "[120.6914591662, 36.3820144110088]\n",
      "[120.693902557187, 36.3802129123481]\n",
      "[120.697352050345, 36.3787600601826]\n",
      "[120.698358152516, 36.3805615927938]\n",
      "[120.696058490411, 36.382479307055]\n",
      "[120.699364254687, 36.3874186543919]\n",
      "[120.70051408574, 36.3827698656601]\n",
      "[120.702526290083, 36.3812008361815]\n",
      "[120.701160865707, 36.379050632806]\n",
      "[120.70317307005, 36.3775396432051]\n",
      "[120.706910020971, 36.3757961568688]\n",
      "[120.705616461037, 36.3724834242158]\n",
      "[120.708850360873, 36.3702167356635]\n",
      "[120.712946633998, 36.3720184678931]\n",
      "[120.713018498439, 36.3682987163894]\n",
      "[120.708706631991, 36.3673106272386]\n",
      "[120.705257138833, 36.3689961834627]\n",
      "[120.700226627977, 36.3642881583163]\n",
      "[120.693758828305, 36.3624281185739]\n",
      "[120.68966255518, 36.3666131449225]\n",
      "[120.692896455016, 36.3707979442078]\n",
      "[120.696489677056, 36.3682405938486]\n",
      "[120.6969208637, 36.3714372685473]\n",
      "[120.699867305773, 36.3707979442078]\n",
      "[120.701520187911, 36.3742269854581]\n"
     ]
    }
   ],
   "source": [
    "for i in location_name_list:\n",
    "    print(geo_cities_coords[i])"
   ]
  },
  {
   "cell_type": "code",
   "execution_count": 115,
   "metadata": {},
   "outputs": [],
   "source": [
    "from folium import plugins\n",
    "import folium\n",
    "import os\n",
    "# m = folium.Map(\n",
    "#     location=[39.1289, 117.3539],\n",
    "#     zoom_start=5,\n",
    "#     tiles='http://webrd02.is.autonavi.com/appmaptile?lang=zh_cn&size=1&scale=1&style=8&x={x}&y={y}&z={z}',\n",
    "#     attr=\"&copy; <a href=\"http://ditu.amap.com/\">高德地图</a>\"\n",
    "#     )\n",
    "\n",
    "m = folium.Map(\n",
    "        location=[38.96, 117.78], \n",
    "        zoom_start=12,\n",
    "    tiles='http://webrd02.is.autonavi.com/appmaptile?lang=zh_cn&size=1&scale=1&style=8&x={x}&y={y}&z={z}&ltype=6',attr='AutoNavi'\n",
    "#         tiles='http://webrd02.is.autonavi.com/appmaptile?lang=zh_cn&size=1&scale=1&style=7&x={x}&y={y}&z={z}', # 高德街道图\n",
    "#         tiles='http://webst02.is.autonavi.com/appmaptile?style=6&x={x}&y={y}&z={z}', # 高德卫星图\n",
    "#         tiles='https://mt.google.com/vt/lyrs=s&x={x}&y={y}&z={z}', # google 卫星图\n",
    "        # tiles='https://mt.google.com/vt/lyrs=h&x={x}&y={y}&z={z}', # google 地图\n",
    "#         attr='default'\n",
    "    )\n",
    "# m = folium.Map([39.1289, 117.3539], zoom_start=10,\n",
    "#                tiles='http://webrd02.is.autonavi.com/appmaptile?lang=zh_cn&size=1&scale=1&style=8&x={x}&y={y}&z={z}',\n",
    "#     attr=\"&copy; <a href=\"http://ditu.amap.com/\">高德地图</a>\")  #中心区域的确定\n",
    "\n",
    "location =[[39.1289, 117.3539], [39.1277262, 117.3542938], [39.1277275, 117.3543001], [39.1277262, 117.3542938], \n",
    "          [39.1277275, 117.3543001], [39.1277262, 117.3542938], [39.1277262, 117.3542938], \n",
    "          [39.1271896, 117.3541359], [39.127121, 117.354126], [39.127121, 117.354126], \n",
    "          [39.1269348, 117.3541107], [39.1268692, 117.3541061], [39.1263994, 117.3540649], \n",
    "          [39.1257591, 117.3540165], [39.125608, 117.3540192], [39.1251984, 117.3539717], \n",
    "          [39.1250038, 117.3539568], [39.1246886, 117.3539276], [39.1246033, 117.3539269], \n",
    "          [39.1244316, 117.353912], [39.1242828, 117.353912], [39.1241112, 117.3538971], \n",
    "          [39.1238623, 117.3538666], [39.1233153, 117.3538361], [39.1232643, 117.3538374], \n",
    "          [39.1230354, 117.3537478], [39.1229895, 117.353714], [39.1228638, 117.3535239], [39.122818, 117.3534493], \n",
    "          [39.1227334, 117.353241], [39.1226985, 117.3531494], [39.122652, 117.3530273], [39.122652, 117.3529968], \n",
    "          [39.1225821, 117.352829], [39.1225239, 117.3526764], [39.1224861, 117.3525835], [39.1224774, 117.3525391], \n",
    "          [39.1224657, 117.3525238], [39.1224174, 117.3523745], [39.1221886, 117.3517625], [39.1221771, 117.3517327], \n",
    "          [39.1221399, 117.3516388], [39.1221199, 117.3515834], [39.1220169, 117.3512998], [39.1219769, 117.3512115], \n",
    "          [39.1219482, 117.3511057], [39.1219188, 117.3510437], [39.121814, 117.3507996], [39.1217791, 117.3507385], \n",
    "          [39.1217558, 117.350708], [39.1215935, 117.3505982], [39.121558, 117.3505859], [39.1213417, 117.3506131], \n",
    "          [39.1211014, 117.3507475], [39.121011, 117.3507996], [39.1209528, 117.3508301], [39.120883, 117.3508759], \n",
    "          [39.1208481, 117.3509064], [39.1207352, 117.3509714], [39.1204834, 117.3511356], [39.120369, 117.3511953], \n",
    "          [39.120369, 117.3511953], [39.1202774, 117.351255], [39.1186409, 117.3522551], [39.1185321, 117.3523254], \n",
    "          [39.1182976, 117.3524641], [39.1181374, 117.3525686], [39.1173566, 117.3530426], [39.1171188, 117.3531955], \n",
    "          [39.1168213, 117.3533746], [39.1163325, 117.3536682], [39.115867, 117.3539581], [39.1156691, 117.3540802], \n",
    "          [39.1156342, 117.3540955], [39.1156342, 117.3540955], [39.1144981, 117.3547927], [39.113551, 117.3553772], \n",
    "          [39.113551, 117.3553772], [39.1125069, 117.3559869], [39.1120846, 117.3557129], [39.1120846, 117.3557129], \n",
    "          [39.1119118, 117.3553002], [39.1118546, 117.355136], [39.111782, 117.3549652], [39.1115456, 117.3542404], \n",
    "          [39.1115958, 117.3540649], [39.1115958, 117.3540649], [39.1128411, 117.3532562], [39.1131786, 117.3530426], \n",
    "          [39.113807, 117.3526459], [39.113807, 117.3526459], [39.1191902, 117.3493593], [39.1197308, 117.3490295], \n",
    "          [39.1206386, 117.3484802], [39.1208713, 117.3483276], [39.1214676, 117.347971], [39.1214676, 117.347971], \n",
    "          [39.1214676, 117.347971], [39.1214676, 117.347971]]   #输入坐标点（注意）folium包要求坐标形式以纬度在前，经度在后\n",
    "route = folium.PolyLine(    #polyline方法为将坐标用线段形式连接起来\n",
    "    location,    #将坐标点连接起来\n",
    "    weight=3,  #线的大小为3\n",
    "    color='orange',  #线的颜色为橙色\n",
    "    opacity=0.8    #线的透明度\n",
    ").add_to(m)    #将这条线添加到刚才的区域m内\n",
    "# folium.Marker(\n",
    "#     location=[39.1289, 117.3539],\n",
    "#     popup='Timberline Lodge',\n",
    "#     icon=folium.Icon(color='green')\n",
    "# ).add_to(m)\n",
    "folium.Marker(\n",
    "    location=[39.1246033, 117.3539269],\n",
    "    popup='Some Other Location',\n",
    "    icon=folium.Icon(color='red', icon='info-sign')\n",
    ").add_to(m)\n",
    "tooltip ='请点击我查看该点信息'\n",
    "folium.Marker([39.937282,116.403187], popup='南锣鼓巷',tooltip=tooltip).add_to(m)\n",
    "folium.Marker([39.917834,116.397036], popup='故宫',tooltip=tooltip).add_to(m)\n",
    "folium.Marker([39.1277275, 117.3543001], popup='北海公园', tooltip=tooltip, icon=folium.Icon(color='red')).add_to(m)\n",
    "folium.Marker([39.942143,116.382590], popup='后海公园', tooltip=tooltip, icon=folium.Icon(color='green', prefix='fa', icon='taxi')).add_to(m)\n",
    "m.add_child(folium.LatLngPopup())\n",
    "m.add_child(folium.ClickForMarker(popup='Waypoint'))\n",
    "m.save('Heatmap1.html') #将结果以HTML形式保存到桌面上\n"
   ]
  },
  {
   "cell_type": "code",
   "execution_count": 116,
   "metadata": {
    "scrolled": false
   },
   "outputs": [
    {
     "data": {
      "text/html": [
       "<div style=\"width:100%;\"><div style=\"position:relative;width:100%;height:0;padding-bottom:60%;\"><span style=\"color:#565656\">Make this Notebook Trusted to load map: File -> Trust Notebook</span><iframe src=\"about:blank\" style=\"position:absolute;width:100%;height:100%;left:0;top:0;border:none !important;\" data-html=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 onload=\"this.contentDocument.open();this.contentDocument.write(atob(this.getAttribute('data-html')));this.contentDocument.close();\" allowfullscreen webkitallowfullscreen mozallowfullscreen></iframe></div></div>"
      ],
      "text/plain": [
       "<folium.folium.Map at 0x22a78ff48c8>"
      ]
     },
     "execution_count": 116,
     "metadata": {},
     "output_type": "execute_result"
    }
   ],
   "source": [
    "import folium\n",
    "import os\n",
    "\n",
    "'''创建Map对象'''\n",
    "m = folium.Map(location=[29.488869,106.571034],\n",
    "              zoom_start=15,\n",
    "              tiles='http://webrd02.is.autonavi.com/appmaptile?lang=zh_cn&size=1&scale=1&style=8&x={x}&y={y}&z={z}&ltype=6',attr='AutoNavi')\n",
    "\n",
    "'''为m添加标记部件'''\n",
    "folium.Marker([39.1214676, 117.347971], popup='<i>Mt. Hood Meadows</i>').add_to(m)\n",
    "folium.Marker([29.488869,106.571034], popup='<i>Mt. Hood Meadows</i>').add_to(m)\n",
    "'''显示m'''\n",
    "m"
   ]
  },
  {
   "cell_type": "code",
   "execution_count": 127,
   "metadata": {},
   "outputs": [
    {
     "data": {
      "text/html": [
       "<div style=\"width:100%;\"><div style=\"position:relative;width:100%;height:0;padding-bottom:60%;\"><span style=\"color:#565656\">Make this Notebook Trusted to load map: File -> Trust Notebook</span><iframe src=\"about:blank\" style=\"position:absolute;width:100%;height:100%;left:0;top:0;border:none !important;\" data-html=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 onload=\"this.contentDocument.open();this.contentDocument.write(atob(this.getAttribute('data-html')));this.contentDocument.close();\" allowfullscreen webkitallowfullscreen mozallowfullscreen></iframe></div></div>"
      ],
      "text/plain": [
       "<folium.folium.Map at 0x22a79050408>"
      ]
     },
     "execution_count": 127,
     "metadata": {},
     "output_type": "execute_result"
    }
   ],
   "source": [
    "import folium\n",
    "m = folium.Map(location=[39.917834, 116.397036], zoom_start=13, width='50%',height='50%', zoom_control='False',\n",
    "               tiles='http://webrd02.is.autonavi.com/appmaptile?lang=zh_cn&size=1&scale=1&style=8&x={x}&y={y}&z={z}&ltype=6',attr='AutoNavi')\n",
    "tooltip ='请点击我查看该点信息'\n",
    "folium.Marker([39.937282,116.403187], popup='南锣鼓巷',tooltip=tooltip).add_to(m)\n",
    "folium.Marker([39.917834,116.397036], popup='故宫',tooltip=tooltip).add_to(m)\n",
    "folium.Marker([39.928614,116.391746], popup='北海公园', tooltip=tooltip, icon=folium.Icon(color='red')).add_to(m)\n",
    "folium.Marker([39.942143,116.382590], popup='后海公园', tooltip=tooltip, icon=folium.Icon(color='green', prefix='fa', icon='taxi')).add_to(m)\n",
    "folium.PolyLine([\n",
    "    [39.917834,116.397036],\n",
    "    [39.928614,116.391746],\n",
    "    [39.937282,116.403187],\n",
    "    [39.942143,116.382590]\n",
    "],color='red').add_to(m)\n",
    "m"
   ]
  },
  {
   "cell_type": "code",
   "execution_count": 144,
   "metadata": {},
   "outputs": [
    {
     "name": "stdout",
     "output_type": "stream",
     "text": [
      "[36.3742269854581, 120.701520187911]\n",
      "[36.3759123905177, 120.699795441332]\n",
      "[36.3745756929757, 120.69871747472]\n",
      "[36.3764354397698, 120.696202219292]\n",
      "[36.3752149859956, 120.694333743832]\n",
      "[36.3780045662363, 120.692896455016]\n",
      "[36.3820144110088, 120.6914591662]\n",
      "[36.3802129123481, 120.693902557187]\n",
      "[36.3787600601826, 120.697352050345]\n",
      "[36.3805615927938, 120.698358152516]\n",
      "[36.382479307055, 120.696058490411]\n",
      "[36.3874186543919, 120.699364254687]\n",
      "[36.3827698656601, 120.70051408574]\n",
      "[36.3812008361815, 120.702526290083]\n",
      "[36.379050632806, 120.701160865707]\n",
      "[36.3775396432051, 120.70317307005]\n",
      "[36.3757961568688, 120.706910020971]\n",
      "[36.3724834242158, 120.705616461037]\n",
      "[36.3702167356635, 120.708850360873]\n",
      "[36.3720184678931, 120.712946633998]\n",
      "[36.3682987163894, 120.713018498439]\n",
      "[36.3673106272386, 120.708706631991]\n",
      "[36.3689961834627, 120.705257138833]\n",
      "[36.3642881583163, 120.700226627977]\n",
      "[36.3624281185739, 120.693758828305]\n",
      "[36.3666131449225, 120.68966255518]\n",
      "[36.3707979442078, 120.692896455016]\n",
      "[36.3682405938486, 120.696489677056]\n",
      "[36.3714372685473, 120.6969208637]\n",
      "[36.3707979442078, 120.699867305773]\n",
      "[36.3742269854581, 120.701520187911]\n"
     ]
    }
   ],
   "source": [
    "locat=[]\n",
    "for i in location_name_list:\n",
    "    locat.append([geo_cities_coords[i][1],geo_cities_coords[i][0]])\n",
    "    print([geo_cities_coords[i][1],geo_cities_coords[i][0]])"
   ]
  },
  {
   "cell_type": "code",
   "execution_count": 34,
   "metadata": {
    "scrolled": true
   },
   "outputs": [
    {
     "data": {
      "text/html": [
       "<div style=\"width:100%;\"><div style=\"position:relative;width:100%;height:0;padding-bottom:60%;\"><span style=\"color:#565656\">Make this Notebook Trusted to load map: File -> Trust Notebook</span><iframe src=\"about:blank\" style=\"position:absolute;width:100%;height:100%;left:0;top:0;border:none !important;\" data-html=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 onload=\"this.contentDocument.open();this.contentDocument.write(atob(this.getAttribute('data-html')));this.contentDocument.close();\" allowfullscreen webkitallowfullscreen mozallowfullscreen></iframe></div></div>"
      ],
      "text/plain": [
       "<folium.folium.Map at 0x2874b9c8e48>"
      ]
     },
     "execution_count": 34,
     "metadata": {},
     "output_type": "execute_result"
    }
   ],
   "source": [
    "import folium\n",
    "\n",
    "m = folium.Map(location=[36.3742269854581,120.701520187911],\n",
    "              zoom_start=7,\n",
    "              control_scale=True,\n",
    "              tiles='http://webrd02.is.autonavi.com/appmaptile?lang=zh_cn&size=1&scale=1&style=8&x={x}&y={y}&z={z}&ltype=6',attr='AutoNavi')\n",
    "ls = folium.PolyLine(locations=[[36.3742269854581, 120.701520187911],\n",
    "[36.3759123905177, 120.699795441332],\n",
    "[36.3745756929757, 120.69871747472],\n",
    "[36.3764354397698, 120.696202219292],\n",
    "[36.3752149859956, 120.694333743832],\n",
    "[36.3780045662363, 120.692896455016],\n",
    "[36.3820144110088, 120.6914591662],\n",
    "[36.3802129123481, 120.693902557187],\n",
    "[36.3787600601826, 120.697352050345],\n",
    "[36.3805615927938, 120.698358152516],\n",
    "[36.382479307055, 120.696058490411],\n",
    "[36.3874186543919, 120.699364254687],\n",
    "[36.3827698656601, 120.70051408574],\n",
    "[36.3812008361815, 120.702526290083],\n",
    "[36.379050632806, 120.701160865707],\n",
    "[36.3775396432051, 120.70317307005],\n",
    "[36.3757961568688, 120.706910020971],\n",
    "[36.3724834242158, 120.705616461037],\n",
    "[36.3702167356635, 120.708850360873],\n",
    "[36.3720184678931, 120.712946633998],\n",
    "[36.3682987163894, 120.713018498439],\n",
    "[36.3673106272386, 120.708706631991],\n",
    "[36.3689961834627, 120.705257138833],\n",
    "[36.3642881583163, 120.700226627977],\n",
    "[36.3624281185739, 120.693758828305],\n",
    "[36.3666131449225, 120.68966255518],\n",
    "[36.3707979442078, 120.692896455016],\n",
    "[36.3682405938486, 120.696489677056],\n",
    "[36.3714372685473, 120.6969208637],\n",
    "[36.3707979442078, 120.699867305773],\n",
    "[36.3742269854581, 120.701520187911]],\n",
    "                    color='blue')\n",
    "\n",
    "ls.add_to(m)\n",
    "for i in locat:\n",
    "    folium.Marker(\n",
    "    location=i,\n",
    "    icon=folium.Icon(icon='cloud')).add_to(m)\n",
    "folium.Marker(\n",
    "    location=[36.3742269854581, 120.701520187911],\n",
    "    popup='数据中心',\n",
    "    icon=folium.Icon(color='red', icon='info-sign')\n",
    ").add_to(m)\n",
    "# m.add_child(folium.ClickForMarker())\n",
    "folium.Marker(\n",
    "    location=[36.3742269854581, 120.701520187911],\n",
    "    popup='数据中心',\n",
    "    icon=folium.Icon(color='red', icon='info-sign')\n",
    ").add_to(m)\n",
    "m.add_child(folium.ClickForMarker(popup='数据中心'))\n",
    "\n",
    "\n",
    "\n",
    "m.save('one.html')\n",
    "m"
   ]
  },
  {
   "cell_type": "code",
   "execution_count": 172,
   "metadata": {},
   "outputs": [],
   "source": [
    "import folium\n",
    "\n",
    "m = folium.Map(location=[36.3742269854581, 120.701520187911],\n",
    "              zoom_start=7,\n",
    "              control_scale=True,\n",
    "              tiles='http://webrd02.is.autonavi.com/appmaptile?lang=zh_cn&size=1&scale=1&style=8&x={x}&y={y}&z={z}&ltype=6',attr='AutoNavi')\n",
    "\n",
    "# ls = folium.PolyLine(locations=[[36.3742269854581, 120.701520187911],\n",
    "# [36.3759123905177, 120.699795441332],\n",
    "# [36.3745756929757, 120.69871747472],\n",
    "# [36.3764354397698, 120.696202219292],\n",
    "# [36.3752149859956, 120.694333743832],\n",
    "# [36.3780045662363, 120.692896455016],\n",
    "# [36.3820144110088, 120.6914591662],\n",
    "# [36.3802129123481, 120.693902557187],\n",
    "# [36.3787600601826, 120.697352050345],\n",
    "# [36.3805615927938, 120.698358152516],\n",
    "# [36.382479307055, 120.696058490411],\n",
    "# [36.3874186543919, 120.699364254687],\n",
    "# [36.3827698656601, 120.70051408574],\n",
    "# [36.3812008361815, 120.702526290083],\n",
    "# [36.379050632806, 120.701160865707],\n",
    "# [36.3775396432051, 120.70317307005],\n",
    "# [36.3757961568688, 120.706910020971],\n",
    "# [36.3724834242158, 120.705616461037],\n",
    "# [36.3702167356635, 120.708850360873],\n",
    "# [36.3720184678931, 120.712946633998],\n",
    "# [36.3682987163894, 120.713018498439],\n",
    "# [36.3673106272386, 120.708706631991],\n",
    "# [36.3689961834627, 120.705257138833],\n",
    "# [36.3642881583163, 120.700226627977],\n",
    "# [36.3624281185739, 120.693758828305],\n",
    "# [36.3666131449225, 120.68966255518],\n",
    "# [36.3707979442078, 120.692896455016],\n",
    "# [36.3682405938486, 120.696489677056],\n",
    "# [36.3714372685473, 120.6969208637],\n",
    "# [36.3707979442078, 120.699867305773],\n",
    "# [36.3742269854581, 120.701520187911]],\n",
    "#                     color='blue')\n",
    "\n",
    "\n",
    "for i in locat:\n",
    "    folium.Marker(\n",
    "    location=i,\n",
    "    icon=folium.Icon(icon='cloud')).add_to(m)\n",
    "folium.Marker(\n",
    "    location=[36.3742269854581, 120.701520187911],\n",
    "    popup='数据中心',\n",
    "    icon=folium.Icon(color='red', icon='info-sign')\n",
    ").add_to(m)\n",
    "m.add_child(folium.ClickForMarker(popup='数据中心'))\n",
    "m\n",
    "m.save('origin.html')"
   ]
  },
  {
   "cell_type": "code",
   "execution_count": 10,
   "metadata": {},
   "outputs": [],
   "source": [
    "lisroute=[[0, 22, 28, 24, 23, 21,  0], [0, 17, 29, 26, 25, 18, 19, 20,  1,  0], [0,  9,  7,  6,\n",
    "         11, 14, 15,  8, 12,  2,  0], [0, 10, 16, 27, 13,  5,  3,  4, 0]]\n"
   ]
  },
  {
   "cell_type": "code",
   "execution_count": 12,
   "metadata": {},
   "outputs": [
    {
     "data": {
      "text/html": [
       "<div>\n",
       "<style scoped>\n",
       "    .dataframe tbody tr th:only-of-type {\n",
       "        vertical-align: middle;\n",
       "    }\n",
       "\n",
       "    .dataframe tbody tr th {\n",
       "        vertical-align: top;\n",
       "    }\n",
       "\n",
       "    .dataframe thead th {\n",
       "        text-align: right;\n",
       "    }\n",
       "</style>\n",
       "<table border=\"1\" class=\"dataframe\">\n",
       "  <thead>\n",
       "    <tr style=\"text-align: right;\">\n",
       "      <th></th>\n",
       "      <th>节点</th>\n",
       "      <th>传感器经度</th>\n",
       "      <th>传感器纬度</th>\n",
       "    </tr>\n",
       "  </thead>\n",
       "  <tbody>\n",
       "    <tr>\n",
       "      <td>0</td>\n",
       "      <td>数据中心</td>\n",
       "      <td>120.701520</td>\n",
       "      <td>36.374227</td>\n",
       "    </tr>\n",
       "    <tr>\n",
       "      <td>1</td>\n",
       "      <td>传感器1</td>\n",
       "      <td>120.698717</td>\n",
       "      <td>36.374576</td>\n",
       "    </tr>\n",
       "    <tr>\n",
       "      <td>2</td>\n",
       "      <td>传感器2</td>\n",
       "      <td>120.699795</td>\n",
       "      <td>36.375912</td>\n",
       "    </tr>\n",
       "    <tr>\n",
       "      <td>3</td>\n",
       "      <td>传感器3</td>\n",
       "      <td>120.706910</td>\n",
       "      <td>36.375796</td>\n",
       "    </tr>\n",
       "    <tr>\n",
       "      <td>4</td>\n",
       "      <td>传感器4</td>\n",
       "      <td>120.705616</td>\n",
       "      <td>36.372483</td>\n",
       "    </tr>\n",
       "  </tbody>\n",
       "</table>\n",
       "</div>"
      ],
      "text/plain": [
       "     节点       传感器经度      传感器纬度\n",
       "0  数据中心  120.701520  36.374227\n",
       "1  传感器1  120.698717  36.374576\n",
       "2  传感器2  120.699795  36.375912\n",
       "3  传感器3  120.706910  36.375796\n",
       "4  传感器4  120.705616  36.372483"
      ]
     },
     "execution_count": 12,
     "metadata": {},
     "output_type": "execute_result"
    }
   ],
   "source": [
    "data = pd.read_excel('./第7题附件1.xlsx',encoding='gbk')\n",
    "\n",
    "data.head()"
   ]
  },
  {
   "cell_type": "code",
   "execution_count": 63,
   "metadata": {},
   "outputs": [],
   "source": [
    "route1=[0, 22, 28, 24, 23, 21,  0]\n",
    "route2=[0, 17, 29, 26, 25, 18, 19, 20,  1,  0]\n",
    "route3=[0,  9,  7,  6, 11, 14, 15,  8, 12,  2,  0]\n",
    "route4=[0, 10, 16, 27, 13,  5,  3,  4, 0]"
   ]
  },
  {
   "cell_type": "code",
   "execution_count": 68,
   "metadata": {},
   "outputs": [
    {
     "name": "stdout",
     "output_type": "stream",
     "text": [
      "[0, 22, 28, 24, 23, 21, 0]\n",
      "[0, 17, 29, 26, 25, 18, 19, 20, 1, 0]\n",
      "[0, 9, 7, 6, 11, 14, 15, 8, 12, 2, 0]\n",
      "[0, 10, 16, 27, 13, 5, 3, 4, 0]\n"
     ]
    }
   ],
   "source": [
    "lisroute=[[0, 22, 28, 24, 23, 21,  0], [0, 17, 29, 26, 25, 18, 19, 20,  1,  0], [0,  9,  7,  6,\n",
    "         11, 14, 15,  8, 12,  2,  0], [0, 10, 16, 27, 13,  5,  3,  4, 0]]\n",
    "name_list=[]\n",
    "for route in lisroute:\n",
    "    print(route)\n",
    "    route=[]\n",
    "    for j in range(len(route)):\n",
    "        if route[j]==0:\n",
    "            #route[j]=\"数据中心\"\n",
    "            route.append(\"数据中心\")\n",
    "        else:\n",
    "            route.append(\"传感器\"+str(route[j]))\n",
    "    name_list.append(route)\n",
    "lis_dist=[]\n",
    "\n",
    "for r in name_list:\n",
    "    geo_cities_coords = {}\n",
    "    for location in r:\n",
    "        print(location)\n",
    "        lat_long = get_location_coordinate(location)\n",
    "        geo_cities_coords[location] = list(lat_long)\n",
    "    lis_dist.append(geo_cities_coords)\n",
    "\n",
    "locat1ist=[]\n",
    "for geo_cities_coords,route in zip(lis_dist,lis_dist):\n",
    "    locat=[]\n",
    "    for i in route:\n",
    "        locat.append([geo_cities_coords1[i][1],geo_cities_coords1[i][0]])\n",
    "        print([geo_cities_coords1[i][1],geo_cities_coords1[i][0]])\n",
    "    locat1ist.append(locat)"
   ]
  },
  {
   "cell_type": "code",
   "execution_count": 71,
   "metadata": {},
   "outputs": [
    {
     "data": {
      "text/plain": [
       "[[], [], [], []]"
      ]
     },
     "execution_count": 71,
     "metadata": {},
     "output_type": "execute_result"
    }
   ],
   "source": [
    "name_list"
   ]
  },
  {
   "cell_type": "code",
   "execution_count": 69,
   "metadata": {},
   "outputs": [
    {
     "ename": "ValueError",
     "evalue": "Locations is empty.",
     "output_type": "error",
     "traceback": [
      "\u001b[1;31m---------------------------------------------------------------------------\u001b[0m",
      "\u001b[1;31mStopIteration\u001b[0m                             Traceback (most recent call last)",
      "\u001b[1;32mD:\\Anaconda3\\lib\\site-packages\\folium\\utilities.py\u001b[0m in \u001b[0;36mvalidate_locations\u001b[1;34m(locations)\u001b[0m\n\u001b[0;32m     83\u001b[0m     \u001b[1;32mtry\u001b[0m\u001b[1;33m:\u001b[0m\u001b[1;33m\u001b[0m\u001b[1;33m\u001b[0m\u001b[0m\n\u001b[1;32m---> 84\u001b[1;33m         \u001b[0mnext\u001b[0m\u001b[1;33m(\u001b[0m\u001b[0miter\u001b[0m\u001b[1;33m(\u001b[0m\u001b[0mlocations\u001b[0m\u001b[1;33m)\u001b[0m\u001b[1;33m)\u001b[0m\u001b[1;33m\u001b[0m\u001b[1;33m\u001b[0m\u001b[0m\n\u001b[0m\u001b[0;32m     85\u001b[0m     \u001b[1;32mexcept\u001b[0m \u001b[0mStopIteration\u001b[0m\u001b[1;33m:\u001b[0m\u001b[1;33m\u001b[0m\u001b[1;33m\u001b[0m\u001b[0m\n",
      "\u001b[1;31mStopIteration\u001b[0m: ",
      "\nDuring handling of the above exception, another exception occurred:\n",
      "\u001b[1;31mValueError\u001b[0m                                Traceback (most recent call last)",
      "\u001b[1;32m<ipython-input-69-03f6430633cd>\u001b[0m in \u001b[0;36m<module>\u001b[1;34m\u001b[0m\n\u001b[0;32m      7\u001b[0m \u001b[1;32mfor\u001b[0m \u001b[0mlocat\u001b[0m \u001b[1;32min\u001b[0m \u001b[0mlocat1ist\u001b[0m\u001b[1;33m:\u001b[0m\u001b[1;33m\u001b[0m\u001b[1;33m\u001b[0m\u001b[0m\n\u001b[0;32m      8\u001b[0m     ls = folium.PolyLine(locations=locat,\n\u001b[1;32m----> 9\u001b[1;33m                 color='blue')\n\u001b[0m\u001b[0;32m     10\u001b[0m     \u001b[0mls\u001b[0m\u001b[1;33m.\u001b[0m\u001b[0madd_to\u001b[0m\u001b[1;33m(\u001b[0m\u001b[0mm\u001b[0m\u001b[1;33m)\u001b[0m\u001b[1;33m\u001b[0m\u001b[1;33m\u001b[0m\u001b[0m\n\u001b[0;32m     11\u001b[0m     \u001b[1;32mfor\u001b[0m \u001b[0mi\u001b[0m \u001b[1;32min\u001b[0m \u001b[0mlocat\u001b[0m\u001b[1;33m:\u001b[0m\u001b[1;33m\u001b[0m\u001b[1;33m\u001b[0m\u001b[0m\n",
      "\u001b[1;32mD:\\Anaconda3\\lib\\site-packages\\folium\\vector_layers.py\u001b[0m in \u001b[0;36m__init__\u001b[1;34m(self, locations, popup, tooltip, **kwargs)\u001b[0m\n\u001b[0;32m    157\u001b[0m \u001b[1;33m\u001b[0m\u001b[0m\n\u001b[0;32m    158\u001b[0m     \u001b[1;32mdef\u001b[0m \u001b[0m__init__\u001b[0m\u001b[1;33m(\u001b[0m\u001b[0mself\u001b[0m\u001b[1;33m,\u001b[0m \u001b[0mlocations\u001b[0m\u001b[1;33m,\u001b[0m \u001b[0mpopup\u001b[0m\u001b[1;33m=\u001b[0m\u001b[1;32mNone\u001b[0m\u001b[1;33m,\u001b[0m \u001b[0mtooltip\u001b[0m\u001b[1;33m=\u001b[0m\u001b[1;32mNone\u001b[0m\u001b[1;33m,\u001b[0m \u001b[1;33m**\u001b[0m\u001b[0mkwargs\u001b[0m\u001b[1;33m)\u001b[0m\u001b[1;33m:\u001b[0m\u001b[1;33m\u001b[0m\u001b[1;33m\u001b[0m\u001b[0m\n\u001b[1;32m--> 159\u001b[1;33m         \u001b[0msuper\u001b[0m\u001b[1;33m(\u001b[0m\u001b[0mPolyLine\u001b[0m\u001b[1;33m,\u001b[0m \u001b[0mself\u001b[0m\u001b[1;33m)\u001b[0m\u001b[1;33m.\u001b[0m\u001b[0m__init__\u001b[0m\u001b[1;33m(\u001b[0m\u001b[0mlocations\u001b[0m\u001b[1;33m,\u001b[0m \u001b[0mpopup\u001b[0m\u001b[1;33m=\u001b[0m\u001b[0mpopup\u001b[0m\u001b[1;33m,\u001b[0m \u001b[0mtooltip\u001b[0m\u001b[1;33m=\u001b[0m\u001b[0mtooltip\u001b[0m\u001b[1;33m)\u001b[0m\u001b[1;33m\u001b[0m\u001b[1;33m\u001b[0m\u001b[0m\n\u001b[0m\u001b[0;32m    160\u001b[0m         \u001b[0mself\u001b[0m\u001b[1;33m.\u001b[0m\u001b[0m_name\u001b[0m \u001b[1;33m=\u001b[0m \u001b[1;34m'PolyLine'\u001b[0m\u001b[1;33m\u001b[0m\u001b[1;33m\u001b[0m\u001b[0m\n\u001b[0;32m    161\u001b[0m         \u001b[0mself\u001b[0m\u001b[1;33m.\u001b[0m\u001b[0moptions\u001b[0m \u001b[1;33m=\u001b[0m \u001b[0mpath_options\u001b[0m\u001b[1;33m(\u001b[0m\u001b[0mline\u001b[0m\u001b[1;33m=\u001b[0m\u001b[1;32mTrue\u001b[0m\u001b[1;33m,\u001b[0m \u001b[1;33m**\u001b[0m\u001b[0mkwargs\u001b[0m\u001b[1;33m)\u001b[0m\u001b[1;33m\u001b[0m\u001b[1;33m\u001b[0m\u001b[0m\n",
      "\u001b[1;32mD:\\Anaconda3\\lib\\site-packages\\folium\\vector_layers.py\u001b[0m in \u001b[0;36m__init__\u001b[1;34m(self, locations, popup, tooltip)\u001b[0m\n\u001b[0;32m    109\u001b[0m     \u001b[1;32mdef\u001b[0m \u001b[0m__init__\u001b[0m\u001b[1;33m(\u001b[0m\u001b[0mself\u001b[0m\u001b[1;33m,\u001b[0m \u001b[0mlocations\u001b[0m\u001b[1;33m,\u001b[0m \u001b[0mpopup\u001b[0m\u001b[1;33m=\u001b[0m\u001b[1;32mNone\u001b[0m\u001b[1;33m,\u001b[0m \u001b[0mtooltip\u001b[0m\u001b[1;33m=\u001b[0m\u001b[1;32mNone\u001b[0m\u001b[1;33m)\u001b[0m\u001b[1;33m:\u001b[0m\u001b[1;33m\u001b[0m\u001b[1;33m\u001b[0m\u001b[0m\n\u001b[0;32m    110\u001b[0m         \u001b[0msuper\u001b[0m\u001b[1;33m(\u001b[0m\u001b[0mBaseMultiLocation\u001b[0m\u001b[1;33m,\u001b[0m \u001b[0mself\u001b[0m\u001b[1;33m)\u001b[0m\u001b[1;33m.\u001b[0m\u001b[0m__init__\u001b[0m\u001b[1;33m(\u001b[0m\u001b[1;33m)\u001b[0m\u001b[1;33m\u001b[0m\u001b[1;33m\u001b[0m\u001b[0m\n\u001b[1;32m--> 111\u001b[1;33m         \u001b[0mself\u001b[0m\u001b[1;33m.\u001b[0m\u001b[0mlocations\u001b[0m \u001b[1;33m=\u001b[0m \u001b[0mvalidate_locations\u001b[0m\u001b[1;33m(\u001b[0m\u001b[0mlocations\u001b[0m\u001b[1;33m)\u001b[0m\u001b[1;33m\u001b[0m\u001b[1;33m\u001b[0m\u001b[0m\n\u001b[0m\u001b[0;32m    112\u001b[0m         \u001b[1;32mif\u001b[0m \u001b[0mpopup\u001b[0m \u001b[1;32mis\u001b[0m \u001b[1;32mnot\u001b[0m \u001b[1;32mNone\u001b[0m\u001b[1;33m:\u001b[0m\u001b[1;33m\u001b[0m\u001b[1;33m\u001b[0m\u001b[0m\n\u001b[0;32m    113\u001b[0m             self.add_child(popup if isinstance(popup, Popup)\n",
      "\u001b[1;32mD:\\Anaconda3\\lib\\site-packages\\folium\\utilities.py\u001b[0m in \u001b[0;36mvalidate_locations\u001b[1;34m(locations)\u001b[0m\n\u001b[0;32m     84\u001b[0m         \u001b[0mnext\u001b[0m\u001b[1;33m(\u001b[0m\u001b[0miter\u001b[0m\u001b[1;33m(\u001b[0m\u001b[0mlocations\u001b[0m\u001b[1;33m)\u001b[0m\u001b[1;33m)\u001b[0m\u001b[1;33m\u001b[0m\u001b[1;33m\u001b[0m\u001b[0m\n\u001b[0;32m     85\u001b[0m     \u001b[1;32mexcept\u001b[0m \u001b[0mStopIteration\u001b[0m\u001b[1;33m:\u001b[0m\u001b[1;33m\u001b[0m\u001b[1;33m\u001b[0m\u001b[0m\n\u001b[1;32m---> 86\u001b[1;33m         \u001b[1;32mraise\u001b[0m \u001b[0mValueError\u001b[0m\u001b[1;33m(\u001b[0m\u001b[1;34m'Locations is empty.'\u001b[0m\u001b[1;33m)\u001b[0m\u001b[1;33m\u001b[0m\u001b[1;33m\u001b[0m\u001b[0m\n\u001b[0m\u001b[0;32m     87\u001b[0m     \u001b[1;32mtry\u001b[0m\u001b[1;33m:\u001b[0m\u001b[1;33m\u001b[0m\u001b[1;33m\u001b[0m\u001b[0m\n\u001b[0;32m     88\u001b[0m         \u001b[0mfloat\u001b[0m\u001b[1;33m(\u001b[0m\u001b[0mnext\u001b[0m\u001b[1;33m(\u001b[0m\u001b[0miter\u001b[0m\u001b[1;33m(\u001b[0m\u001b[0mnext\u001b[0m\u001b[1;33m(\u001b[0m\u001b[0miter\u001b[0m\u001b[1;33m(\u001b[0m\u001b[0mnext\u001b[0m\u001b[1;33m(\u001b[0m\u001b[0miter\u001b[0m\u001b[1;33m(\u001b[0m\u001b[0mlocations\u001b[0m\u001b[1;33m)\u001b[0m\u001b[1;33m)\u001b[0m\u001b[1;33m)\u001b[0m\u001b[1;33m)\u001b[0m\u001b[1;33m)\u001b[0m\u001b[1;33m)\u001b[0m\u001b[1;33m)\u001b[0m\u001b[1;33m\u001b[0m\u001b[1;33m\u001b[0m\u001b[0m\n",
      "\u001b[1;31mValueError\u001b[0m: Locations is empty."
     ]
    }
   ],
   "source": [
    "import folium\n",
    "\n",
    "m = folium.Map(location=[36.3742269854581,120.701520187911],\n",
    "              zoom_start=7,\n",
    "              control_scale=True,\n",
    "              tiles='http://webrd02.is.autonavi.com/appmaptile?lang=zh_cn&size=1&scale=1&style=8&x={x}&y={y}&z={z}&ltype=6',attr='AutoNavi')\n",
    "for locat in locat1ist:\n",
    "    ls = folium.PolyLine(locations=locat,\n",
    "                color='blue')\n",
    "    ls.add_to(m)\n",
    "    for i in locat:\n",
    "        folium.Marker(\n",
    "        location=i,\n",
    "        icon=folium.Icon(icon='cloud')).add_to(m)\n",
    "# ls = folium.PolyLine(locations=locat1,\n",
    "#                     color='blue')\n",
    "\n",
    "# ls.add_to(m)\n",
    "# ls = folium.PolyLine(locations=locat2,\n",
    "#                     color='green')\n",
    "\n",
    "# ls.add_to(m)\n",
    "# ls = folium.PolyLine(locations=locat3,\n",
    "#                     color='red')\n",
    "\n",
    "# ls.add_to(m)\n",
    "# ls = folium.PolyLine(locations=locat4,\n",
    "#                     color='black')\n",
    "\n",
    "\n",
    "# for i in \n",
    "# for i in locat1:\n",
    "#     folium.Marker(\n",
    "#     location=i,\n",
    "#     icon=folium.Icon(icon='cloud')).add_to(m)\n",
    "# for i in locat2:\n",
    "#     folium.Marker(\n",
    "#     location=i,\n",
    "#     icon=folium.Icon(icon='cloud')).add_to(m)\n",
    "# for i in locat3:\n",
    "#     folium.Marker(\n",
    "#     location=i,\n",
    "#     icon=folium.Icon(icon='cloud')).add_to(m)\n",
    "# for i in locat4:\n",
    "#     folium.Marker(\n",
    "#     location=i,\n",
    "#     icon=folium.Icon(icon='cloud')).add_to(m)\n",
    "folium.Marker(\n",
    "    location=[36.3742269854581, 120.701520187911],\n",
    "    popup='数据中心',\n",
    "    icon=folium.Icon(color='red', icon='info-sign')\n",
    ").add_to(m)\n",
    "# m.add_child(folium.ClickForMarker())\n",
    "folium.Marker(\n",
    "    location=[36.3742269854581, 120.701520187911],\n",
    "    popup='数据中心',\n",
    "    icon=folium.Icon(color='red', icon='info-sign')\n",
    ").add_to(m)\n",
    "m.add_child(folium.ClickForMarker(popup='数据中心'))\n",
    "\n",
    "\n",
    "\n",
    "m.save('4.html')\n",
    "m"
   ]
  },
  {
   "cell_type": "code",
   "execution_count": null,
   "metadata": {},
   "outputs": [],
   "source": []
  },
  {
   "cell_type": "code",
   "execution_count": 42,
   "metadata": {},
   "outputs": [],
   "source": [
    "for i in range(len(route1)):\n",
    "    if route1[i]==0:\n",
    "        route1[i]=\"数据中心\"\n",
    "    else:\n",
    "        route1[i]=\"传感器\"+str(route1[i])\n",
    "for i in range(len(route2)):\n",
    "    if route2[i]==0:\n",
    "        route2[i]=\"数据中心\"\n",
    "    else:\n",
    "        route2[i]=\"传感器\"+str(route2[i])\n",
    "for i in range(len(route3)):\n",
    "    if route3[i]==0:\n",
    "        route3[i]=\"数据中心\"\n",
    "    else:\n",
    "        route3[i]=\"传感器\"+str(route3[i])\n",
    "for i in range(len(route4)):\n",
    "    if route4[i]==0:\n",
    "        route4[i]=\"数据中心\"\n",
    "    else:\n",
    "        route4[i]=\"传感器\"+str(route4[i])"
   ]
  },
  {
   "cell_type": "code",
   "execution_count": 43,
   "metadata": {},
   "outputs": [
    {
     "data": {
      "text/plain": [
       "(['数据中心', '传感器22', '传感器28', '传感器24', '传感器23', '传感器21', '数据中心'],\n",
       " ['数据中心',\n",
       "  '传感器17',\n",
       "  '传感器29',\n",
       "  '传感器26',\n",
       "  '传感器25',\n",
       "  '传感器18',\n",
       "  '传感器19',\n",
       "  '传感器20',\n",
       "  '传感器1',\n",
       "  '数据中心'],\n",
       " ['数据中心',\n",
       "  '传感器9',\n",
       "  '传感器7',\n",
       "  '传感器6',\n",
       "  '传感器11',\n",
       "  '传感器14',\n",
       "  '传感器15',\n",
       "  '传感器8',\n",
       "  '传感器12',\n",
       "  '传感器2',\n",
       "  '数据中心'],\n",
       " ['数据中心', '传感器10', '传感器16', '传感器27', '传感器13', '传感器5', '传感器3', '传感器4', '数据中心'])"
      ]
     },
     "execution_count": 43,
     "metadata": {},
     "output_type": "execute_result"
    }
   ],
   "source": [
    "route1,route2,route3,route4"
   ]
  },
  {
   "cell_type": "code",
   "execution_count": 44,
   "metadata": {},
   "outputs": [],
   "source": [
    "def get_location_coordinate(location_name):\n",
    "    ms=data.loc[data['节点'] == location_name, ['传感器经度', '传感器纬度']]\n",
    "#     api_url = 'http://api.map.baidu.com/geocoding/v3/?address='\n",
    "#     api_url = f'{api_url}{quote(location_name)}&output=json&ak=你的ak'\n",
    "#     result = urlopen(api_url)\n",
    "#     result = json.loads(result.read().decode())['result']['location']\n",
    "    return ms.values[0][0], ms.values[0][1]"
   ]
  },
  {
   "cell_type": "code",
   "execution_count": 47,
   "metadata": {},
   "outputs": [
    {
     "name": "stdout",
     "output_type": "stream",
     "text": [
      "数据中心\n",
      "传感器22\n",
      "传感器28\n",
      "传感器24\n",
      "传感器23\n",
      "传感器21\n",
      "数据中心\n",
      "数据中心\n",
      "传感器17\n",
      "传感器29\n",
      "传感器26\n",
      "传感器25\n",
      "传感器18\n",
      "传感器19\n",
      "传感器20\n",
      "传感器1\n",
      "数据中心\n",
      "数据中心\n",
      "传感器9\n",
      "传感器7\n",
      "传感器6\n",
      "传感器11\n",
      "传感器14\n",
      "传感器15\n",
      "传感器8\n",
      "传感器12\n",
      "传感器2\n",
      "数据中心\n",
      "数据中心\n",
      "传感器10\n",
      "传感器16\n",
      "传感器27\n",
      "传感器13\n",
      "传感器5\n",
      "传感器3\n",
      "传感器4\n",
      "数据中心\n"
     ]
    }
   ],
   "source": [
    "geo_cities_coords1 = {}\n",
    "for location in route1:\n",
    "    print(location)\n",
    "    lat_long = get_location_coordinate(location)\n",
    "    geo_cities_coords1[location] = list(lat_long)\n",
    "geo_cities_coords2 = {}\n",
    "for location in route2:\n",
    "    print(location)\n",
    "    lat_long = get_location_coordinate(location)\n",
    "    geo_cities_coords2[location] = list(lat_long)\n",
    "geo_cities_coords3 = {}\n",
    "for location in route3:\n",
    "    print(location)\n",
    "    lat_long = get_location_coordinate(location)\n",
    "    geo_cities_coords3[location] = list(lat_long)\n",
    "geo_cities_coords4 = {}\n",
    "for location in route4:\n",
    "    print(location)\n",
    "    lat_long = get_location_coordinate(location)\n",
    "    geo_cities_coords4[location] = list(lat_long)"
   ]
  },
  {
   "cell_type": "code",
   "execution_count": 54,
   "metadata": {},
   "outputs": [
    {
     "data": {
      "text/plain": [
       "{'数据中心': [120.701520187911, 36.3742269854581],\n",
       " '传感器17': [120.699867305773, 36.3707979442078],\n",
       " '传感器29': [120.700226627977, 36.3642881583163],\n",
       " '传感器26': [120.693758828305, 36.3624281185739],\n",
       " '传感器25': [120.68966255518, 36.3666131449225],\n",
       " '传感器18': [120.692896455016, 36.3707979442078],\n",
       " '传感器19': [120.696489677056, 36.3682405938486],\n",
       " '传感器20': [120.6969208637, 36.3714372685473],\n",
       " '传感器1': [120.69871747472, 36.3745756929757]}"
      ]
     },
     "execution_count": 54,
     "metadata": {},
     "output_type": "execute_result"
    }
   ],
   "source": [
    "geo_cities_coords2"
   ]
  },
  {
   "cell_type": "code",
   "execution_count": 56,
   "metadata": {},
   "outputs": [
    {
     "name": "stdout",
     "output_type": "stream",
     "text": [
      "[36.3742269854581, 120.701520187911]\n",
      "[36.3702167356635, 120.708850360873]\n",
      "[36.3720184678931, 120.712946633998]\n",
      "[36.3682987163894, 120.713018498439]\n",
      "[36.3673106272386, 120.708706631991]\n",
      "[36.3689961834627, 120.705257138833]\n",
      "[36.3742269854581, 120.701520187911]\n",
      "[36.3742269854581, 120.701520187911]\n",
      "[36.3707979442078, 120.699867305773]\n",
      "[36.3642881583163, 120.700226627977]\n",
      "[36.3624281185739, 120.693758828305]\n",
      "[36.3666131449225, 120.68966255518]\n",
      "[36.3707979442078, 120.692896455016]\n",
      "[36.3682405938486, 120.696489677056]\n",
      "[36.3714372685473, 120.6969208637]\n",
      "[36.3745756929757, 120.69871747472]\n",
      "[36.3742269854581, 120.701520187911]\n",
      "[36.3742269854581, 120.701520187911]\n",
      "[36.3764354397698, 120.696202219292]\n",
      "[36.3752149859956, 120.694333743832]\n",
      "[36.3780045662363, 120.692896455016]\n",
      "[36.3802129123481, 120.693902557187]\n",
      "[36.3820144110088, 120.6914591662]\n",
      "[36.382479307055, 120.696058490411]\n",
      "[36.3787600601826, 120.697352050345]\n",
      "[36.3805615927938, 120.698358152516]\n",
      "[36.3759123905177, 120.699795441332]\n",
      "[36.3742269854581, 120.701520187911]\n",
      "[36.3742269854581, 120.701520187911]\n",
      "[36.379050632806, 120.701160865707]\n",
      "[36.3827698656601, 120.70051408574]\n",
      "[36.3874186543919, 120.699364254687]\n",
      "[36.3812008361815, 120.702526290083]\n",
      "[36.3775396432051, 120.70317307005]\n",
      "[36.3757961568688, 120.706910020971]\n",
      "[36.3724834242158, 120.705616461037]\n",
      "[36.3742269854581, 120.701520187911]\n"
     ]
    }
   ],
   "source": [
    "locat1=[]\n",
    "for i in route1:\n",
    "    locat1.append([geo_cities_coords1[i][1],geo_cities_coords1[i][0]])\n",
    "    print([geo_cities_coords1[i][1],geo_cities_coords1[i][0]])\n",
    "locat2=[]\n",
    "for i in route2:\n",
    "    locat2.append([geo_cities_coords2[i][1],geo_cities_coords2[i][0]])\n",
    "    print([geo_cities_coords2[i][1],geo_cities_coords2[i][0]])\n",
    "locat3=[]\n",
    "for i in route3:\n",
    "    locat3.append([geo_cities_coords3[i][1],geo_cities_coords3[i][0]])\n",
    "    print([geo_cities_coords3[i][1],geo_cities_coords3[i][0]])\n",
    "locat4=[]\n",
    "for i in route4:\n",
    "    locat4.append([geo_cities_coords4[i][1],geo_cities_coords4[i][0]])\n",
    "    print([geo_cities_coords4[i][1],geo_cities_coords4[i][0]])"
   ]
  },
  {
   "cell_type": "code",
   "execution_count": 57,
   "metadata": {},
   "outputs": [
    {
     "data": {
      "text/plain": [
       "[[36.3742269854581, 120.701520187911],\n",
       " [36.3707979442078, 120.699867305773],\n",
       " [36.3642881583163, 120.700226627977],\n",
       " [36.3624281185739, 120.693758828305],\n",
       " [36.3666131449225, 120.68966255518],\n",
       " [36.3707979442078, 120.692896455016],\n",
       " [36.3682405938486, 120.696489677056],\n",
       " [36.3714372685473, 120.6969208637],\n",
       " [36.3745756929757, 120.69871747472],\n",
       " [36.3742269854581, 120.701520187911]]"
      ]
     },
     "execution_count": 57,
     "metadata": {},
     "output_type": "execute_result"
    }
   ],
   "source": [
    "locat2"
   ]
  },
  {
   "cell_type": "code",
   "execution_count": 58,
   "metadata": {},
   "outputs": [
    {
     "data": {
      "text/plain": [
       "[[36.3742269854581, 120.701520187911],\n",
       " [36.3702167356635, 120.708850360873],\n",
       " [36.3720184678931, 120.712946633998],\n",
       " [36.3682987163894, 120.713018498439],\n",
       " [36.3673106272386, 120.708706631991],\n",
       " [36.3689961834627, 120.705257138833],\n",
       " [36.3742269854581, 120.701520187911]]"
      ]
     },
     "execution_count": 58,
     "metadata": {},
     "output_type": "execute_result"
    }
   ],
   "source": [
    "locat1"
   ]
  },
  {
   "cell_type": "code",
   "execution_count": 61,
   "metadata": {},
   "outputs": [
    {
     "data": {
      "text/html": [
       "<div style=\"width:100%;\"><div style=\"position:relative;width:100%;height:0;padding-bottom:60%;\"><span style=\"color:#565656\">Make this Notebook Trusted to load map: File -> Trust Notebook</span><iframe src=\"about:blank\" style=\"position:absolute;width:100%;height:100%;left:0;top:0;border:none !important;\" data-html=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 onload=\"this.contentDocument.open();this.contentDocument.write(atob(this.getAttribute('data-html')));this.contentDocument.close();\" allowfullscreen webkitallowfullscreen mozallowfullscreen></iframe></div></div>"
      ],
      "text/plain": [
       "<folium.folium.Map at 0x2874b972fc8>"
      ]
     },
     "execution_count": 61,
     "metadata": {},
     "output_type": "execute_result"
    }
   ],
   "source": [
    "import folium\n",
    "\n",
    "m = folium.Map(location=[36.3742269854581,120.701520187911],\n",
    "              zoom_start=7,\n",
    "              control_scale=True,\n",
    "              tiles='http://webrd02.is.autonavi.com/appmaptile?lang=zh_cn&size=1&scale=1&style=8&x={x}&y={y}&z={z}&ltype=6',attr='AutoNavi')\n",
    "ls = folium.PolyLine(locations=locat1,\n",
    "                    color='blue')\n",
    "\n",
    "ls.add_to(m)\n",
    "ls = folium.PolyLine(locations=locat2,\n",
    "                    color='green')\n",
    "\n",
    "ls.add_to(m)\n",
    "ls = folium.PolyLine(locations=locat3,\n",
    "                    color='red')\n",
    "\n",
    "ls.add_to(m)\n",
    "ls = folium.PolyLine(locations=locat4,\n",
    "                    color='black')\n",
    "\n",
    "ls.add_to(m)\n",
    "for i in locat1:\n",
    "    folium.Marker(\n",
    "    location=i,\n",
    "    icon=folium.Icon(icon='cloud')).add_to(m)\n",
    "for i in locat2:\n",
    "    folium.Marker(\n",
    "    location=i,\n",
    "    icon=folium.Icon(icon='cloud')).add_to(m)\n",
    "for i in locat3:\n",
    "    folium.Marker(\n",
    "    location=i,\n",
    "    icon=folium.Icon(icon='cloud')).add_to(m)\n",
    "for i in locat4:\n",
    "    folium.Marker(\n",
    "    location=i,\n",
    "    icon=folium.Icon(icon='cloud')).add_to(m)\n",
    "folium.Marker(\n",
    "    location=[36.3742269854581, 120.701520187911],\n",
    "    popup='数据中心',\n",
    "    icon=folium.Icon(color='red', icon='info-sign')\n",
    ").add_to(m)\n",
    "# m.add_child(folium.ClickForMarker())\n",
    "folium.Marker(\n",
    "    location=[36.3742269854581, 120.701520187911],\n",
    "    popup='数据中心',\n",
    "    icon=folium.Icon(color='red', icon='info-sign')\n",
    ").add_to(m)\n",
    "m.add_child(folium.ClickForMarker(popup='数据中心'))\n",
    "\n",
    "\n",
    "\n",
    "m.save('three.html')\n",
    "m"
   ]
  },
  {
   "cell_type": "code",
   "execution_count": null,
   "metadata": {},
   "outputs": [],
   "source": []
  }
 ],
 "metadata": {
  "kernelspec": {
   "display_name": "Python 3",
   "language": "python",
   "name": "python3"
  },
  "language_info": {
   "codemirror_mode": {
    "name": "ipython",
    "version": 3
   },
   "file_extension": ".py",
   "mimetype": "text/x-python",
   "name": "python",
   "nbconvert_exporter": "python",
   "pygments_lexer": "ipython3",
   "version": "3.7.4"
  }
 },
 "nbformat": 4,
 "nbformat_minor": 2
}
